{
  "nbformat": 4,
  "nbformat_minor": 0,
  "metadata": {
    "colab": {
      "provenance": [],
      "include_colab_link": true
    },
    "kernelspec": {
      "name": "python3",
      "display_name": "Python 3"
    },
    "language_info": {
      "name": "python"
    }
  },
  "cells": [
    {
      "cell_type": "markdown",
      "metadata": {
        "id": "view-in-github",
        "colab_type": "text"
      },
      "source": [
        "<a href=\"https://colab.research.google.com/github/juliafsuzuki/01-workplace-wellbeing/blob/main/JS_SimpleLinearRegressionModels_PyTorch.ipynb\" target=\"_parent\"><img src=\"https://colab.research.google.com/assets/colab-badge.svg\" alt=\"Open In Colab\"/></a>"
      ]
    },
    {
      "cell_type": "markdown",
      "source": [
        "# **Simple Linear Regression Models** | Input: Neural Activity - Output: Running Speed"
      ],
      "metadata": {
        "id": "-ODzwJEWjIl5"
      }
    },
    {
      "cell_type": "code",
      "execution_count": 95,
      "metadata": {
        "id": "SBbMPQzPLGMQ"
      },
      "outputs": [],
      "source": [
        "import numpy as np\n",
        "import matplotlib.pyplot as plt\n",
        "from sklearn.decomposition import PCA\n",
        "\n",
        "from sklearn.model_selection import train_test_split\n",
        "from sklearn.linear_model import LinearRegression\n",
        "from sklearn.metrics import r2_score, mean_squared_error, accuracy_score\n",
        "from sklearn.model_selection import KFold\n"
      ]
    },
    {
      "cell_type": "code",
      "source": [
        "# import pytorch library\n",
        "import torch"
      ],
      "metadata": {
        "id": "DSqA5e891dji"
      },
      "execution_count": 17,
      "outputs": []
    },
    {
      "cell_type": "code",
      "source": [
        "# @title NMA Figure settings\n",
        "from matplotlib import rcParams\n",
        "\n",
        "rcParams['figure.figsize'] = [20, 4]\n",
        "rcParams['font.size'] =15\n",
        "rcParams['axes.spines.top'] = False\n",
        "rcParams['axes.spines.right'] = False\n",
        "rcParams['figure.autolayout'] = True"
      ],
      "metadata": {
        "id": "B-Zse3dIMpaW"
      },
      "execution_count": 96,
      "outputs": []
    },
    {
      "cell_type": "code",
      "source": [
        "# @title NMA Data retrieval\n",
        "import os, requests\n",
        "\n",
        "fname = \"stringer_spontaneous.npy\"\n",
        "url = \"https://osf.io/dpqaj/download\"\n",
        "\n",
        "if not os.path.isfile(fname):\n",
        "  try:\n",
        "    r = requests.get(url)\n",
        "  except requests.ConnectionError:\n",
        "    print(\"!!! Failed to download data !!!\")\n",
        "  else:\n",
        "    if r.status_code != requests.codes.ok:\n",
        "      print(\"!!! Failed to download data !!!\")\n",
        "    else:\n",
        "      with open(fname, \"wb\") as fid:\n",
        "        fid.write(r.content)"
      ],
      "metadata": {
        "id": "9Hlzw9zqMst1"
      },
      "execution_count": 97,
      "outputs": []
    },
    {
      "cell_type": "code",
      "source": [
        "# @title NMA Data loading\n",
        "\n",
        "dat = np.load('stringer_spontaneous.npy', allow_pickle=True).item()\n",
        "print(dat.keys())"
      ],
      "metadata": {
        "colab": {
          "base_uri": "https://localhost:8080/"
        },
        "id": "kv--Big1MvFF",
        "outputId": "47c020a8-638b-4af6-a224-88ca1f164717"
      },
      "execution_count": 98,
      "outputs": [
        {
          "output_type": "stream",
          "name": "stdout",
          "text": [
            "dict_keys(['sresp', 'run', 'beh_svd_time', 'beh_svd_mask', 'stat', 'pupilArea', 'pupilCOM', 'xyz'])\n"
          ]
        }
      ]
    },
    {
      "cell_type": "code",
      "source": [
        "# @title Shape of each data\n",
        "\n",
        "print('neural activity:   ', dat['sresp'].shape)\n",
        "print('running speed:  ', dat['run'].shape)\n",
        "print('pupil area:  ', dat['pupilArea'].shape)\n",
        "print('face movement :   ',dat['beh_svd_time'].shape)\n",
        "\n",
        "# print('stat:  ', dat['stat'].shape)\n",
        "# print('pupil xy position:  ', dat['pupilCOM'].shape)\n"
      ],
      "metadata": {
        "colab": {
          "base_uri": "https://localhost:8080/"
        },
        "id": "D3HdqkptM_PO",
        "outputId": "206053b0-49c8-4e32-bd1a-4e4ff5085fad"
      },
      "execution_count": 99,
      "outputs": [
        {
          "output_type": "stream",
          "name": "stdout",
          "text": [
            "neural activity:    (11983, 7018)\n",
            "running speed:   (7018, 1)\n",
            "pupil area:   (7018, 1)\n",
            "face movement :    (7018, 1000)\n"
          ]
        }
      ]
    },
    {
      "cell_type": "code",
      "source": [
        "# @title Input and Output of the Model\n",
        "\n",
        "neural_activity = dat['sresp']    # Input\n",
        "run_speed = dat['run']            # Output\n",
        "pupil_area = dat['pupilArea']     # Output\n",
        "face_svd = dat['beh_svd_time']    # Output\n",
        "\n",
        "print('neural activity:   ', neural_activity.shape)\n",
        "print('running speed:  ', run_speed.shape)\n",
        "print('pupil area:  ', pupil_area.shape)\n",
        "print('face movement :   ', face_svd.shape)\n"
      ],
      "metadata": {
        "colab": {
          "base_uri": "https://localhost:8080/"
        },
        "id": "X59-ckzINHse",
        "outputId": "d2da1270-a421-42d7-e169-4cfdd7eb874c"
      },
      "execution_count": 100,
      "outputs": [
        {
          "output_type": "stream",
          "name": "stdout",
          "text": [
            "neural activity:    (11983, 7018)\n",
            "running speed:   (7018, 1)\n",
            "pupil area:   (7018, 1)\n",
            "face movement :    (7018, 1000)\n"
          ]
        }
      ]
    },
    {
      "cell_type": "code",
      "source": [
        "# manipulate data\n",
        "neural_activity = np.transpose(neural_activity)\n",
        "runspeed = run_speed.squeeze()\n",
        "pupilarea = pupil_area.squeeze()\n",
        "facesvd = face_svd[:,:100]\n",
        "\n",
        "print('neural activity:  ', neural_activity.shape)\n",
        "print('run speed:  ',runspeed.shape)\n",
        "print('pupil area:  ',pupilarea.shape)\n",
        "print('face movement:  ',facesvd.shape)"
      ],
      "metadata": {
        "colab": {
          "base_uri": "https://localhost:8080/"
        },
        "id": "FD2gW7WxNKxW",
        "outputId": "2ea22c76-3166-4559-fe03-727a3cdf2ab8"
      },
      "execution_count": 101,
      "outputs": [
        {
          "output_type": "stream",
          "name": "stdout",
          "text": [
            "neural activity:   (7018, 11983)\n",
            "run speed:   (7018,)\n",
            "pupil area:   (7018,)\n",
            "face movement:   (7018, 100)\n"
          ]
        }
      ]
    },
    {
      "cell_type": "code",
      "source": [
        "# @title Dimension Reduction of the Input using PCA\n",
        "pca_model = PCA(n_components=500)\n",
        "reduced = pca_model.fit_transform(neural_activity)\n",
        "component = pca_model.components_\n",
        "neural_activity = reduced\n",
        "print(neural_activity.shape)\n",
        "# print(component.shape)"
      ],
      "metadata": {
        "colab": {
          "base_uri": "https://localhost:8080/"
        },
        "id": "AeqSzuJCNLkX",
        "outputId": "ca50c879-5dc9-4cbc-9b05-d418bdd341aa"
      },
      "execution_count": 102,
      "outputs": [
        {
          "output_type": "stream",
          "name": "stdout",
          "text": [
            "(7018, 500)\n"
          ]
        }
      ]
    },
    {
      "cell_type": "code",
      "source": [
        "print('neural activity:  ', neural_activity.shape)\n",
        "print('run speed:  ',runspeed.shape)\n",
        "print('pupil area:  ',pupilarea.shape)\n",
        "print('face movement:  ',facesvd.shape)"
      ],
      "metadata": {
        "colab": {
          "base_uri": "https://localhost:8080/"
        },
        "id": "Daz2VF-PzRYs",
        "outputId": "bdad494d-605c-4d1e-a6d0-ac4ae10ce838"
      },
      "execution_count": 103,
      "outputs": [
        {
          "output_type": "stream",
          "name": "stdout",
          "text": [
            "neural activity:   (7018, 500)\n",
            "run speed:   (7018,)\n",
            "pupil area:   (7018,)\n",
            "face movement:   (7018, 100)\n"
          ]
        }
      ]
    },
    {
      "cell_type": "markdown",
      "source": [
        "# **Scenario 01: Pytorch Regression Model**: neural activity -> running speed"
      ],
      "metadata": {
        "id": "tomVykynNREe"
      }
    },
    {
      "cell_type": "markdown",
      "source": [
        "Reference: \"https://machinelearningmastery.com/building-a-regression-model-in-pytorch/\""
      ],
      "metadata": {
        "id": "KceBX_KPkcy1"
      }
    },
    {
      "cell_type": "code",
      "source": [
        "X = neural_activity\n",
        "y = runspeed"
      ],
      "metadata": {
        "id": "1fMTV4j4S3FG"
      },
      "execution_count": 104,
      "outputs": []
    },
    {
      "cell_type": "markdown",
      "source": [],
      "metadata": {
        "id": "nUvNzYdJjNgo"
      }
    },
    {
      "cell_type": "code",
      "source": [
        "print(\"X: neural activity - type: {}\".format(type(X))) # type\n",
        "print(\"X: neural activity - shape: {}\".format(np.shape(X))) # shape\n",
        "print(\"y: runnning speed - type: {}\".format(type(y))) # type\n",
        "print(\"y: running speed - shape: {}\".format(np.shape(y))) # shape"
      ],
      "metadata": {
        "id": "umITn33zgKdO",
        "outputId": "4d116147-dba0-4c43-a3af-78f362874b45",
        "colab": {
          "base_uri": "https://localhost:8080/"
        }
      },
      "execution_count": 105,
      "outputs": [
        {
          "output_type": "stream",
          "name": "stdout",
          "text": [
            "X: neural activity - type: <class 'numpy.ndarray'>\n",
            "X: neural activity - shape: (7018, 500)\n",
            "y: runnning speed - type: <class 'numpy.ndarray'>\n",
            "y: running speed - shape: (7018,)\n"
          ]
        }
      ]
    },
    {
      "cell_type": "code",
      "source": [
        "# import variable from pytorch library\n",
        "from torch.autograd import Variable\n",
        "\n",
        "X_tensor = Variable(torch.from_numpy(X))\n",
        "y_tensor = Variable(torch.from_numpy(y))"
      ],
      "metadata": {
        "id": "IjJDBjw0gOYe"
      },
      "execution_count": 106,
      "outputs": []
    },
    {
      "cell_type": "code",
      "source": [
        "print(\"X: neural activity - type: {}\".format(type(X_tensor))) # type\n",
        "print(\"X: neural activity - shape: {}\".format(np.shape(X_tensor))) # shape\n",
        "print(\"y: runnning speed - type: {}\".format(type(y_tensor))) # type\n",
        "print(\"y: running speed - shape: {}\".format(np.shape(y_tensor))) # shape"
      ],
      "metadata": {
        "colab": {
          "base_uri": "https://localhost:8080/"
        },
        "id": "9Xdisfrw15E9",
        "outputId": "56fa6bdb-e905-4e4e-df85-eacc65c45295"
      },
      "execution_count": 107,
      "outputs": [
        {
          "output_type": "stream",
          "name": "stdout",
          "text": [
            "X: neural activity - type: <class 'torch.Tensor'>\n",
            "X: neural activity - shape: torch.Size([7018, 500])\n",
            "y: runnning speed - type: <class 'torch.Tensor'>\n",
            "y: running speed - shape: torch.Size([7018])\n"
          ]
        }
      ]
    },
    {
      "cell_type": "code",
      "source": [
        "print(X_tensor)"
      ],
      "metadata": {
        "colab": {
          "base_uri": "https://localhost:8080/"
        },
        "id": "jnRftUuR2go1",
        "outputId": "037b8215-4458-4b77-f0c1-d363a816a3d1"
      },
      "execution_count": 108,
      "outputs": [
        {
          "output_type": "stream",
          "name": "stdout",
          "text": [
            "tensor([[ -814.7930,   770.0335,   163.2014,  ...,   -80.1242,  -240.6386,\n",
            "            61.4455],\n",
            "        [  843.1537,  1967.0154,   200.5268,  ...,   -75.9065,   -79.1066,\n",
            "           165.9064],\n",
            "        [  694.7301,  1296.5499,   398.1853,  ...,   -96.7793,    20.2814,\n",
            "          -229.6613],\n",
            "        ...,\n",
            "        [-1712.7102,  1082.9021,  -666.5040,  ...,    64.6544,    94.5293,\n",
            "            22.4671],\n",
            "        [-1283.1820,  2531.2021,   176.6462,  ...,  -247.6459,  -336.7545,\n",
            "            53.2713],\n",
            "        [ 1350.2249,  2772.8589,    73.7640,  ...,    -8.1270,    93.0439,\n",
            "           -14.4022]])\n"
          ]
        }
      ]
    },
    {
      "cell_type": "code",
      "source": [
        "print(y_tensor)"
      ],
      "metadata": {
        "colab": {
          "base_uri": "https://localhost:8080/"
        },
        "id": "AO3pxW8t2jGv",
        "outputId": "4c4f1aa9-b440-46f7-82a6-279104dc1d25"
      },
      "execution_count": 109,
      "outputs": [
        {
          "output_type": "stream",
          "name": "stdout",
          "text": [
            "tensor([0.0436, 5.6885, 9.1309,  ..., 3.7686, 9.7930, 7.6647],\n",
            "       dtype=torch.float64)\n"
          ]
        }
      ]
    },
    {
      "cell_type": "code",
      "source": [
        "# copied from NMA DL Program, \"W1D2_Tutorial1\"\n",
        "# source: https://colab.research.google.com/github/NeuromatchAcademy/course-content-dl/blob/main/tutorials/W1D2_LinearDeepLearning/student/W1D2_Tutorial1.ipynb#scrollTo=R36u3ImTA7fQ\n",
        "\n",
        "import torch.nn as nn\n",
        "\n",
        "class WideNet(nn.Module):\n",
        "  \"\"\"\n",
        "   A Wide neural network with a single hidden layer\n",
        "   Structure is as follows:\n",
        "   nn.Sequential(\n",
        "        nn.Linear(1, n_cells) + nn.Tanh(), # Fully connected layer with tanh activation\n",
        "        nn.Linear(n_cells, 1) # Final fully connected layer\n",
        "    )\n",
        "  \"\"\"\n",
        "\n",
        "  def __init__(self):\n",
        "    \"\"\"\n",
        "    Initializing the parameters of WideNet\n",
        "\n",
        "    Args:\n",
        "      None\n",
        "\n",
        "    Returns:\n",
        "      Nothing\n",
        "    \"\"\"\n",
        "    super().__init__()\n",
        "    self.layers = nn.Sequential(\n",
        "        nn.Linear(500, 24),\n",
        "        nn.ReLU(),\n",
        "        nn.Linear(24, 12),\n",
        "        nn.ReLU(),\n",
        "        nn.Linear(12, 6),\n",
        "        nn.ReLU(),\n",
        "        nn.Linear(6, 1)\n",
        "    )\n",
        "\n",
        "  def forward(self, x):\n",
        "    \"\"\"\n",
        "    Forward pass of WideNet\n",
        "\n",
        "    Args:\n",
        "      x: torch.Tensor\n",
        "        2D tensor of features\n",
        "\n",
        "    Returns:\n",
        "      Torch tensor of model predictions\n",
        "    \"\"\"\n",
        "    return self.layers(x)"
      ],
      "metadata": {
        "id": "LQa8gy32T1vu"
      },
      "execution_count": 110,
      "outputs": []
    },
    {
      "cell_type": "code",
      "source": [
        "# Creating an instance\n",
        "model = WideNet()"
      ],
      "metadata": {
        "id": "xSjzcKxgUEeU"
      },
      "execution_count": 120,
      "outputs": []
    },
    {
      "cell_type": "code",
      "source": [
        "# define a mse loss function\n",
        "loss_fn = nn.MSELoss()\n",
        "\n",
        "# define an optimizer, Stochstic Gradient Descent optimizer\n",
        "lr = 0.003  # Learning rate\n",
        "sgd_optimizer = torch.optim.SGD(model.parameters(), lr=lr, momentum=0.9)"
      ],
      "metadata": {
        "id": "jPKb8mwBWB7T"
      },
      "execution_count": 121,
      "outputs": []
    },
    {
      "cell_type": "code",
      "source": [
        "print(X_tensor.type)\n",
        "print(y_tensor.type)\n"
      ],
      "metadata": {
        "colab": {
          "base_uri": "https://localhost:8080/"
        },
        "id": "-Eh-bVjJZboN",
        "outputId": "5ef4ea1e-e703-489a-a49c-13559ce852ec"
      },
      "execution_count": 122,
      "outputs": [
        {
          "output_type": "stream",
          "name": "stdout",
          "text": [
            "<built-in method type of Tensor object at 0x7a5e3e3930b0>\n",
            "<built-in method type of Tensor object at 0x7a5e3e393060>\n"
          ]
        }
      ]
    },
    {
      "cell_type": "code",
      "source": [
        "# define the training process in PyTorch\n",
        "# let's perform one training iteration\n",
        "\n",
        "# X_tensor.double()\n",
        "# y_tensor.double()\n",
        "\n",
        "# X_tensor.float()\n",
        "# y_tensor.float()\n",
        "\n",
        "# step 1: reset all gradients to zero\n",
        "sgd_optimizer.zero_grad()\n",
        "\n",
        "# step 2: forward pass (Compute the output of the model on the features (inputs))\n",
        "prediction = model(X_tensor)\n",
        "\n",
        "# step 3: compute the loss\n",
        "loss = loss_fn(prediction, y_tensor)\n",
        "print(\"loss - type: {}\".format(type(loss))) # type\n",
        "print(f'loss: {loss.item()}')\n",
        "\n",
        "\n",
        "# step 4: perform backpropagation to build the graph and compute the gradients\n",
        "# loss.backward()\n",
        "# troubleshoot! Why this above code gives me an error?\n",
        "\n",
        "# step 5: optimizer takes a tiny step in the steepest direction (negative of gradient)\n",
        "# and \"updates\" the weights and biases of the network\n",
        "sgd_optimizer.step()"
      ],
      "metadata": {
        "colab": {
          "base_uri": "https://localhost:8080/"
        },
        "id": "UQcQwuTaWYX1",
        "outputId": "622b5be2-9f8a-40ad-af55-55045d11cfa5"
      },
      "execution_count": 123,
      "outputs": [
        {
          "output_type": "stream",
          "name": "stderr",
          "text": [
            "/usr/local/lib/python3.10/dist-packages/torch/nn/modules/loss.py:536: UserWarning: Using a target size (torch.Size([7018])) that is different to the input size (torch.Size([7018, 1])). This will likely lead to incorrect results due to broadcasting. Please ensure they have the same size.\n",
            "  return F.mse_loss(input, target, reduction=self.reduction)\n"
          ]
        },
        {
          "output_type": "stream",
          "name": "stdout",
          "text": [
            "loss - type: <class 'torch.Tensor'>\n",
            "loss: 385.83914702520747\n"
          ]
        }
      ]
    },
    {
      "cell_type": "code",
      "source": [
        "# run the training process in a loop\n",
        "\n",
        "def train(features, labels, model, loss_fn, sgd_optimizer, n_epochs):\n",
        "  \"\"\"\n",
        "  Training function\n",
        "\n",
        "  Args:\n",
        "    features: torch.Tensor\n",
        "      Features (input) with shape torch.Size([n_samples, 1])\n",
        "    labels: torch.Tensor\n",
        "      Labels (targets) with shape torch.Size([n_samples, 1])\n",
        "    model: torch nn.Module\n",
        "      The neural network\n",
        "    loss_fn: function\n",
        "      Loss function\n",
        "    sgd_optimizer: function\n",
        "      SGD_Optimizer\n",
        "    n_epochs: int\n",
        "      Number of training iterations\n",
        "\n",
        "  Returns:\n",
        "    loss_record: list\n",
        "      Record (evolution) of training losses\n",
        "  \"\"\"\n",
        "  loss_record = []  # Keeping recods of loss\n",
        "\n",
        "  for i in range(n_epochs):\n",
        "    #################################################\n",
        "    ## Implement the missing parts of the training loop\n",
        "    # Complete the function and remove or comment the line below\n",
        "    # raise NotImplementedError(\"Training loop `train`\")\n",
        "    #################################################\n",
        "    ...  # Set gradients to 0\n",
        "    sgd_optimizer.zero_grad()  # Set gradients to 0\n",
        "    predictions = model(features)  # Compute model prediction (output)\n",
        "    loss = loss_fn(predictions, labels)  # Compute the loss\n",
        "    loss.backward()  # Compute gradients (backward pass)\n",
        "    sgd_optimizer.step()  # Update parameters (optimizer takes a step)\n",
        "\n",
        "    loss_record.append(loss.item())\n",
        "  return loss_record"
      ],
      "metadata": {
        "id": "OXOJwO2UdTne"
      },
      "execution_count": 126,
      "outputs": []
    },
    {
      "cell_type": "code",
      "source": [
        "# @title Plotting functions\n",
        "\n",
        "from mpl_toolkits.axes_grid1 import make_axes_locatable\n",
        "\n",
        "def ex3_plot(model, x, y, ep, lss):\n",
        "  \"\"\"\n",
        "  Plot training loss\n",
        "\n",
        "  Args:\n",
        "    model: nn.module\n",
        "      Model implementing regression\n",
        "    x: np.ndarray\n",
        "      Training Data\n",
        "    y: np.ndarray\n",
        "      Targets\n",
        "    ep: int\n",
        "      Number of epochs\n",
        "    lss: function\n",
        "      Loss function\n",
        "\n",
        "  Returns:\n",
        "    Nothing\n",
        "  \"\"\"\n",
        "  f, (ax1, ax2) = plt.subplots(1, 2, figsize=(12, 4))\n",
        "  ax1.set_title(\"Regression\")\n",
        "  ax1.plot(x, model(x).detach().numpy(), color='r', label='prediction')\n",
        "  ax1.scatter(x, y, c='c', label='targets')\n",
        "  ax1.set_xlabel('x')\n",
        "  ax1.set_ylabel('y')\n",
        "  ax1.legend()\n",
        "\n",
        "  ax2.set_title(\"Training loss\")\n",
        "  ax2.plot(np.linspace(1, epochs, epochs), losses, color='y')\n",
        "  ax2.set_xlabel(\"Epoch\")\n",
        "  ax2.set_ylabel(\"MSE\")\n",
        "\n",
        "  plt.show()"
      ],
      "metadata": {
        "id": "sA2_E6jqeRLt"
      },
      "execution_count": 117,
      "outputs": []
    },
    {
      "cell_type": "code",
      "source": [
        "epochs = 1847 # Cauchy, Exercices d'analyse et de physique mathematique (1847)\n",
        "\n",
        "losses = train(X_tensor, y_tensor, wide_net, loss_fn, sgd_optimizer, epochs)\n",
        "ex3_plot(wide_net, X_tensor, y_tensor, epochs, losses)"
      ],
      "metadata": {
        "colab": {
          "base_uri": "https://localhost:8080/",
          "height": 417
        },
        "id": "0HV5GTVZdrXs",
        "outputId": "a5d7ee5a-582f-43ef-b2af-93b090dfac8d"
      },
      "execution_count": 130,
      "outputs": [
        {
          "output_type": "stream",
          "name": "stderr",
          "text": [
            "/usr/local/lib/python3.10/dist-packages/torch/nn/modules/loss.py:536: UserWarning: Using a target size (torch.Size([7018])) that is different to the input size (torch.Size([7018, 1])). This will likely lead to incorrect results due to broadcasting. Please ensure they have the same size.\n",
            "  return F.mse_loss(input, target, reduction=self.reduction)\n"
          ]
        },
        {
          "output_type": "error",
          "ename": "RuntimeError",
          "evalue": "ignored",
          "traceback": [
            "\u001b[0;31m---------------------------------------------------------------------------\u001b[0m",
            "\u001b[0;31mRuntimeError\u001b[0m                              Traceback (most recent call last)",
            "\u001b[0;32m<ipython-input-130-2ae25042bf6c>\u001b[0m in \u001b[0;36m<cell line: 3>\u001b[0;34m()\u001b[0m\n\u001b[1;32m      1\u001b[0m \u001b[0mepochs\u001b[0m \u001b[0;34m=\u001b[0m \u001b[0;36m1847\u001b[0m \u001b[0;31m# Cauchy, Exercices d'analyse et de physique mathematique (1847)\u001b[0m\u001b[0;34m\u001b[0m\u001b[0;34m\u001b[0m\u001b[0m\n\u001b[1;32m      2\u001b[0m \u001b[0;34m\u001b[0m\u001b[0m\n\u001b[0;32m----> 3\u001b[0;31m \u001b[0mlosses\u001b[0m \u001b[0;34m=\u001b[0m \u001b[0mtrain\u001b[0m\u001b[0;34m(\u001b[0m\u001b[0mX_tensor\u001b[0m\u001b[0;34m,\u001b[0m \u001b[0my_tensor\u001b[0m\u001b[0;34m,\u001b[0m \u001b[0mwide_net\u001b[0m\u001b[0;34m,\u001b[0m \u001b[0mloss_fn\u001b[0m\u001b[0;34m,\u001b[0m \u001b[0msgd_optimizer\u001b[0m\u001b[0;34m,\u001b[0m \u001b[0mepochs\u001b[0m\u001b[0;34m)\u001b[0m\u001b[0;34m\u001b[0m\u001b[0;34m\u001b[0m\u001b[0m\n\u001b[0m\u001b[1;32m      4\u001b[0m \u001b[0mex3_plot\u001b[0m\u001b[0;34m(\u001b[0m\u001b[0mwide_net\u001b[0m\u001b[0;34m,\u001b[0m \u001b[0mX_tensor\u001b[0m\u001b[0;34m,\u001b[0m \u001b[0my_tensor\u001b[0m\u001b[0;34m,\u001b[0m \u001b[0mepochs\u001b[0m\u001b[0;34m,\u001b[0m \u001b[0mlosses\u001b[0m\u001b[0;34m)\u001b[0m\u001b[0;34m\u001b[0m\u001b[0;34m\u001b[0m\u001b[0m\n",
            "\u001b[0;32m<ipython-input-126-6008022b1c42>\u001b[0m in \u001b[0;36mtrain\u001b[0;34m(features, labels, model, loss_fn, sgd_optimizer, n_epochs)\u001b[0m\n\u001b[1;32m     35\u001b[0m     \u001b[0mpredictions\u001b[0m \u001b[0;34m=\u001b[0m \u001b[0mmodel\u001b[0m\u001b[0;34m(\u001b[0m\u001b[0mfeatures\u001b[0m\u001b[0;34m)\u001b[0m  \u001b[0;31m# Compute model prediction (output)\u001b[0m\u001b[0;34m\u001b[0m\u001b[0;34m\u001b[0m\u001b[0m\n\u001b[1;32m     36\u001b[0m     \u001b[0mloss\u001b[0m \u001b[0;34m=\u001b[0m \u001b[0mloss_fn\u001b[0m\u001b[0;34m(\u001b[0m\u001b[0mpredictions\u001b[0m\u001b[0;34m,\u001b[0m \u001b[0mlabels\u001b[0m\u001b[0;34m)\u001b[0m  \u001b[0;31m# Compute the loss\u001b[0m\u001b[0;34m\u001b[0m\u001b[0;34m\u001b[0m\u001b[0m\n\u001b[0;32m---> 37\u001b[0;31m     \u001b[0mloss\u001b[0m\u001b[0;34m.\u001b[0m\u001b[0mbackward\u001b[0m\u001b[0;34m(\u001b[0m\u001b[0;34m)\u001b[0m  \u001b[0;31m# Compute gradients (backward pass)\u001b[0m\u001b[0;34m\u001b[0m\u001b[0;34m\u001b[0m\u001b[0m\n\u001b[0m\u001b[1;32m     38\u001b[0m     \u001b[0msgd_optimizer\u001b[0m\u001b[0;34m.\u001b[0m\u001b[0mstep\u001b[0m\u001b[0;34m(\u001b[0m\u001b[0;34m)\u001b[0m  \u001b[0;31m# Update parameters (optimizer takes a step)\u001b[0m\u001b[0;34m\u001b[0m\u001b[0;34m\u001b[0m\u001b[0m\n\u001b[1;32m     39\u001b[0m \u001b[0;34m\u001b[0m\u001b[0m\n",
            "\u001b[0;32m/usr/local/lib/python3.10/dist-packages/torch/_tensor.py\u001b[0m in \u001b[0;36mbackward\u001b[0;34m(self, gradient, retain_graph, create_graph, inputs)\u001b[0m\n\u001b[1;32m    485\u001b[0m                 \u001b[0minputs\u001b[0m\u001b[0;34m=\u001b[0m\u001b[0minputs\u001b[0m\u001b[0;34m,\u001b[0m\u001b[0;34m\u001b[0m\u001b[0;34m\u001b[0m\u001b[0m\n\u001b[1;32m    486\u001b[0m             )\n\u001b[0;32m--> 487\u001b[0;31m         torch.autograd.backward(\n\u001b[0m\u001b[1;32m    488\u001b[0m             \u001b[0mself\u001b[0m\u001b[0;34m,\u001b[0m \u001b[0mgradient\u001b[0m\u001b[0;34m,\u001b[0m \u001b[0mretain_graph\u001b[0m\u001b[0;34m,\u001b[0m \u001b[0mcreate_graph\u001b[0m\u001b[0;34m,\u001b[0m \u001b[0minputs\u001b[0m\u001b[0;34m=\u001b[0m\u001b[0minputs\u001b[0m\u001b[0;34m\u001b[0m\u001b[0;34m\u001b[0m\u001b[0m\n\u001b[1;32m    489\u001b[0m         )\n",
            "\u001b[0;32m/usr/local/lib/python3.10/dist-packages/torch/autograd/__init__.py\u001b[0m in \u001b[0;36mbackward\u001b[0;34m(tensors, grad_tensors, retain_graph, create_graph, grad_variables, inputs)\u001b[0m\n\u001b[1;32m    198\u001b[0m     \u001b[0;31m# some Python versions print out the first line of a multi-line function\u001b[0m\u001b[0;34m\u001b[0m\u001b[0;34m\u001b[0m\u001b[0m\n\u001b[1;32m    199\u001b[0m     \u001b[0;31m# calls in the traceback and some print out the last line\u001b[0m\u001b[0;34m\u001b[0m\u001b[0;34m\u001b[0m\u001b[0m\n\u001b[0;32m--> 200\u001b[0;31m     Variable._execution_engine.run_backward(  # Calls into the C++ engine to run the backward pass\n\u001b[0m\u001b[1;32m    201\u001b[0m         \u001b[0mtensors\u001b[0m\u001b[0;34m,\u001b[0m \u001b[0mgrad_tensors_\u001b[0m\u001b[0;34m,\u001b[0m \u001b[0mretain_graph\u001b[0m\u001b[0;34m,\u001b[0m \u001b[0mcreate_graph\u001b[0m\u001b[0;34m,\u001b[0m \u001b[0minputs\u001b[0m\u001b[0;34m,\u001b[0m\u001b[0;34m\u001b[0m\u001b[0;34m\u001b[0m\u001b[0m\n\u001b[1;32m    202\u001b[0m         allow_unreachable=True, accumulate_grad=True)  # Calls into the C++ engine to run the backward pass\n",
            "\u001b[0;31mRuntimeError\u001b[0m: Found dtype Double but expected Float"
          ]
        }
      ]
    },
    {
      "cell_type": "code",
      "source": [
        "# copied Golnaz's codes\n",
        "\n",
        "import copy\n",
        "import numpy as np\n",
        "import torch\n",
        "import tqdm\n",
        "from sklearn.model_selection import train_test_split\n",
        "from sklearn.preprocessing import StandardScaler\n",
        "\n",
        "\n",
        "\n",
        "# train-test split of the dataset\n",
        "# X_train, X_test, y_train, y_test = train_test_split(X, y, train_size=0.7, shuffle=True)\n",
        "\n",
        "# train-test split for model evaluation\n",
        "X_train_raw, X_test_raw, y_train, y_test = train_test_split(X_tensor, y_tensor, train_size=0.7, shuffle=False)\n",
        "\n",
        "# Standardizing data\n",
        "scaler = StandardScaler()\n",
        "scaler.fit(X_train_raw)\n",
        "X_train = scaler.transform(X_train_raw)\n",
        "X_test = scaler.transform(X_test_raw)\n",
        "\n",
        "X_train = torch.tensor(X_train, dtype=torch.float32)\n",
        "X_test = torch.tensor(X_test, dtype=torch.float32)\n",
        "y_test = torch.tensor(y_test, dtype=torch.float32)#.reshape(-1, 1)\n",
        "y_train = torch.tensor(y_train, dtype=torch.float32)#.reshape(-1, 1)\n",
        "\n",
        "\n",
        "\n",
        "print(X_train.shape)\n",
        "print(y_train.shape)\n",
        "print(X_test.shape)\n",
        "print(y_test.shape)\n",
        "\n",
        "# training parameters\n",
        "n_epochs = 100   # number of epochs to run\n",
        "batch_size = 10  # size of each batch\n",
        "batch_start = torch.arange(0, len(X_train), batch_size)\n",
        "\n",
        "# hold the best model\n",
        "best_mse = np.inf   # init to infinity\n",
        "best_weights = None\n",
        "history = []\n",
        "\n",
        "# training loop\n",
        "for epoch in range(n_epochs):\n",
        "    model.train()\n",
        "    with tqdm.tqdm(batch_start, unit=\"batch\", mininterval=0, disable=True) as bar:\n",
        "        bar.set_description(f\"Epoch {epoch}\")\n",
        "        for start in bar:\n",
        "            # take a batch\n",
        "            X_batch = X_train[start:start+batch_size]\n",
        "            y_batch = y_train[start:start+batch_size]\n",
        "            # forward pass\n",
        "            y_pred = model(X_batch)\n",
        "            loss = loss_fn(y_pred, y_batch)\n",
        "            # backward pass\n",
        "            sgd_optimizer.zero_grad()\n",
        "            loss.backward()\n",
        "            # update weights\n",
        "            sgd_optimizer.step()\n",
        "            # print progress\n",
        "            bar.set_postfix(mse=float(loss))\n",
        "    # evaluate accuracy at end of each epoch\n",
        "    model.eval()\n",
        "    y_pred = model(X_test)\n",
        "    mse = loss_fn(y_pred, y_test)\n",
        "    mse = float(mse)\n",
        "    history.append(mse)\n",
        "    if mse < best_mse:\n",
        "        best_mse = mse\n",
        "        best_weights = copy.deepcopy(model.state_dict())\n",
        "\n",
        "# restore model and return best accuracy\n",
        "model.load_state_dict(best_weights)"
      ],
      "metadata": {
        "colab": {
          "base_uri": "https://localhost:8080/"
        },
        "id": "1tc6QNmAe2rp",
        "outputId": "5d193557-679f-4d26-db70-793590a1f031"
      },
      "execution_count": 131,
      "outputs": [
        {
          "output_type": "stream",
          "name": "stderr",
          "text": [
            "<ipython-input-131-cb1f10fdece9>:26: UserWarning: To copy construct from a tensor, it is recommended to use sourceTensor.clone().detach() or sourceTensor.clone().detach().requires_grad_(True), rather than torch.tensor(sourceTensor).\n",
            "  y_test = torch.tensor(y_test, dtype=torch.float32)#.reshape(-1, 1)\n",
            "<ipython-input-131-cb1f10fdece9>:27: UserWarning: To copy construct from a tensor, it is recommended to use sourceTensor.clone().detach() or sourceTensor.clone().detach().requires_grad_(True), rather than torch.tensor(sourceTensor).\n",
            "  y_train = torch.tensor(y_train, dtype=torch.float32)#.reshape(-1, 1)\n",
            "/usr/local/lib/python3.10/dist-packages/torch/nn/modules/loss.py:536: UserWarning: Using a target size (torch.Size([10])) that is different to the input size (torch.Size([10, 1])). This will likely lead to incorrect results due to broadcasting. Please ensure they have the same size.\n",
            "  return F.mse_loss(input, target, reduction=self.reduction)\n"
          ]
        },
        {
          "output_type": "stream",
          "name": "stdout",
          "text": [
            "torch.Size([4912, 500])\n",
            "torch.Size([4912])\n",
            "torch.Size([2106, 500])\n",
            "torch.Size([2106])\n"
          ]
        },
        {
          "output_type": "stream",
          "name": "stderr",
          "text": [
            "/usr/local/lib/python3.10/dist-packages/torch/nn/modules/loss.py:536: UserWarning: Using a target size (torch.Size([2])) that is different to the input size (torch.Size([2, 1])). This will likely lead to incorrect results due to broadcasting. Please ensure they have the same size.\n",
            "  return F.mse_loss(input, target, reduction=self.reduction)\n",
            "/usr/local/lib/python3.10/dist-packages/torch/nn/modules/loss.py:536: UserWarning: Using a target size (torch.Size([2106])) that is different to the input size (torch.Size([2106, 1])). This will likely lead to incorrect results due to broadcasting. Please ensure they have the same size.\n",
            "  return F.mse_loss(input, target, reduction=self.reduction)\n"
          ]
        },
        {
          "output_type": "execute_result",
          "data": {
            "text/plain": [
              "<All keys matched successfully>"
            ]
          },
          "metadata": {},
          "execution_count": 131
        }
      ]
    },
    {
      "cell_type": "code",
      "source": [
        "print(\"MSE: %.2f\" % best_mse)\n",
        "print(\"RMSE: %.2f\" % np.sqrt(best_mse))\n",
        "plt.plot(history)\n",
        "plt.show()"
      ],
      "metadata": {
        "colab": {
          "base_uri": "https://localhost:8080/",
          "height": 320
        },
        "id": "tuzyFB-Qh3yM",
        "outputId": "a56afe6d-858d-4a99-8195-8016aafbbeed"
      },
      "execution_count": 128,
      "outputs": [
        {
          "output_type": "stream",
          "name": "stdout",
          "text": [
            "MSE: 129.11\n",
            "RMSE: 11.36\n"
          ]
        },
        {
          "output_type": "display_data",
          "data": {
            "text/plain": [
              "<Figure size 2000x400 with 1 Axes>"
            ],
            "image/png": "[encoded data removed]"
          },
          "metadata": {}
        }
      ]
    },
    {
      "cell_type": "code",
      "source": [
        "# @title Results of linear decoding of face SVD\n",
        "print(y_pred.shape)\n",
        "print(y_test.shape)\n",
        "plt.figure(figsize=(15,3))\n",
        "svdnum = 0\n",
        "plt.plot(y_pred[0:300, svdnum].detach().numpy(), color = 'r', label = \"model output\")\n",
        "plt.plot(y_test[0:300, svdnum].detach().numpy(), color = 'g', label = \"desired output\")\n",
        "plt.legend()\n",
        "plt.xlabel(\"samples\")\n",
        "plt.ylabel(\"amplitude\")\n",
        "plt.title('Face SVD')\n",
        "\n",
        "plt.figure(figsize=(6,4))\n",
        "err = y_pred.detach().numpy().squeeze()[:,svdnum] - y_test.detach().numpy()[:,svdnum]\n",
        "plt.scatter(y_pred.detach().numpy()[:,svdnum], y_test.detach().numpy()[:,svdnum], c=err)\n",
        "plt.xlabel(\"model output\")\n",
        "plt.ylabel(\"desired output\")\n",
        "plt.colorbar()\n",
        "plt.xlim((0, np.max([y_pred.detach().numpy().squeeze()[:,svdnum], y_test.detach().numpy()[:,svdnum]])))\n",
        "plt.ylim((0, np.max([y_pred.detach().numpy().squeeze()[:,svdnum], y_test.detach().numpy()[:,svdnum]])))\n",
        ""
      ],
      "metadata": {
        "colab": {
          "base_uri": "https://localhost:8080/",
          "height": 532
        },
        "id": "SyN1SC5iiJd0",
        "outputId": "41a77701-fbe1-4cfb-ed41-9c59ea69cac5"
      },
      "execution_count": 129,
      "outputs": [
        {
          "output_type": "stream",
          "name": "stdout",
          "text": [
            "torch.Size([2106, 1])\n",
            "torch.Size([2106])\n"
          ]
        },
        {
          "output_type": "error",
          "ename": "IndexError",
          "evalue": "ignored",
          "traceback": [
            "\u001b[0;31m---------------------------------------------------------------------------\u001b[0m",
            "\u001b[0;31mIndexError\u001b[0m                                Traceback (most recent call last)",
            "\u001b[0;32m<ipython-input-129-1a3412c1a281>\u001b[0m in \u001b[0;36m<cell line: 7>\u001b[0;34m()\u001b[0m\n\u001b[1;32m      5\u001b[0m \u001b[0msvdnum\u001b[0m \u001b[0;34m=\u001b[0m \u001b[0;36m0\u001b[0m\u001b[0;34m\u001b[0m\u001b[0;34m\u001b[0m\u001b[0m\n\u001b[1;32m      6\u001b[0m \u001b[0mplt\u001b[0m\u001b[0;34m.\u001b[0m\u001b[0mplot\u001b[0m\u001b[0;34m(\u001b[0m\u001b[0my_pred\u001b[0m\u001b[0;34m[\u001b[0m\u001b[0;36m0\u001b[0m\u001b[0;34m:\u001b[0m\u001b[0;36m300\u001b[0m\u001b[0;34m,\u001b[0m \u001b[0msvdnum\u001b[0m\u001b[0;34m]\u001b[0m\u001b[0;34m.\u001b[0m\u001b[0mdetach\u001b[0m\u001b[0;34m(\u001b[0m\u001b[0;34m)\u001b[0m\u001b[0;34m.\u001b[0m\u001b[0mnumpy\u001b[0m\u001b[0;34m(\u001b[0m\u001b[0;34m)\u001b[0m\u001b[0;34m,\u001b[0m \u001b[0mcolor\u001b[0m \u001b[0;34m=\u001b[0m \u001b[0;34m'r'\u001b[0m\u001b[0;34m,\u001b[0m \u001b[0mlabel\u001b[0m \u001b[0;34m=\u001b[0m \u001b[0;34m\"model output\"\u001b[0m\u001b[0;34m)\u001b[0m\u001b[0;34m\u001b[0m\u001b[0;34m\u001b[0m\u001b[0m\n\u001b[0;32m----> 7\u001b[0;31m \u001b[0mplt\u001b[0m\u001b[0;34m.\u001b[0m\u001b[0mplot\u001b[0m\u001b[0;34m(\u001b[0m\u001b[0my_test\u001b[0m\u001b[0;34m[\u001b[0m\u001b[0;36m0\u001b[0m\u001b[0;34m:\u001b[0m\u001b[0;36m300\u001b[0m\u001b[0;34m,\u001b[0m \u001b[0msvdnum\u001b[0m\u001b[0;34m]\u001b[0m\u001b[0;34m.\u001b[0m\u001b[0mdetach\u001b[0m\u001b[0;34m(\u001b[0m\u001b[0;34m)\u001b[0m\u001b[0;34m.\u001b[0m\u001b[0mnumpy\u001b[0m\u001b[0;34m(\u001b[0m\u001b[0;34m)\u001b[0m\u001b[0;34m,\u001b[0m \u001b[0mcolor\u001b[0m \u001b[0;34m=\u001b[0m \u001b[0;34m'g'\u001b[0m\u001b[0;34m,\u001b[0m \u001b[0mlabel\u001b[0m \u001b[0;34m=\u001b[0m \u001b[0;34m\"desired output\"\u001b[0m\u001b[0;34m)\u001b[0m\u001b[0;34m\u001b[0m\u001b[0;34m\u001b[0m\u001b[0m\n\u001b[0m\u001b[1;32m      8\u001b[0m \u001b[0mplt\u001b[0m\u001b[0;34m.\u001b[0m\u001b[0mlegend\u001b[0m\u001b[0;34m(\u001b[0m\u001b[0;34m)\u001b[0m\u001b[0;34m\u001b[0m\u001b[0;34m\u001b[0m\u001b[0m\n\u001b[1;32m      9\u001b[0m \u001b[0mplt\u001b[0m\u001b[0;34m.\u001b[0m\u001b[0mxlabel\u001b[0m\u001b[0;34m(\u001b[0m\u001b[0;34m\"samples\"\u001b[0m\u001b[0;34m)\u001b[0m\u001b[0;34m\u001b[0m\u001b[0;34m\u001b[0m\u001b[0m\n",
            "\u001b[0;31mIndexError\u001b[0m: too many indices for tensor of dimension 1"
          ]
        },
        {
          "output_type": "display_data",
          "data": {
            "text/plain": [
              "<Figure size 1500x300 with 1 Axes>"
            ],
            "image/png": "[encoded data removed]"
          },
          "metadata": {}
        }
      ]
    },
    {
      "cell_type": "code",
      "source": [
        "import torch.nn as nn\n",
        "\n",
        "# Define the model\n",
        "model = nn.Sequential(\n",
        "    nn.Linear(500, 24),\n",
        "    nn.ReLU(),\n",
        "    nn.Linear(24, 12),\n",
        "    nn.ReLU(),\n",
        "    nn.Linear(12, 6),\n",
        "    nn.ReLU(),\n",
        "    nn.Linear(6, num_of_svd)\n",
        ")"
      ],
      "metadata": {
        "id": "UOeqXzVIjqjE"
      },
      "execution_count": null,
      "outputs": []
    }
  ]
}