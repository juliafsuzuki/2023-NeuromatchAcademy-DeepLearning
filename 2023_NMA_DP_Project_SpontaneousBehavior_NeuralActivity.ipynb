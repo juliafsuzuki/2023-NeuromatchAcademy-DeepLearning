{
  "nbformat": 4,
  "nbformat_minor": 0,
  "metadata": {
    "colab": {
      "provenance": [],
      "include_colab_link": true
    },
    "kernelspec": {
      "name": "python3",
      "display_name": "Python 3"
    },
    "language_info": {
      "name": "python"
    }
  },
  "cells": [
    {
      "cell_type": "markdown",
      "metadata": {
        "id": "view-in-github",
        "colab_type": "text"
      },
      "source": [
        "<a href=\"https://colab.research.google.com/github/gbaghdadi/NeuromatchDeepLearningProject/blob/main/NMAproject2023_PytorchRegression_StringerData_RunSpeed_PlayWithDifferentFactors.ipynb\" target=\"_parent\"><img src=\"https://colab.research.google.com/assets/colab-badge.svg\" alt=\"Open In Colab\"/></a>"
      ]
    },
    {
      "cell_type": "code",
      "execution_count": 1,
      "metadata": {
        "id": "SBbMPQzPLGMQ"
      },
      "outputs": [],
      "source": [
        "import numpy as np\n",
        "import matplotlib.pyplot as plt\n",
        "from sklearn.decomposition import PCA\n",
        "\n",
        "from sklearn.model_selection import train_test_split\n",
        "from sklearn.linear_model import LinearRegression\n",
        "from sklearn.metrics import r2_score, mean_squared_error, accuracy_score\n",
        "from sklearn.model_selection import KFold\n"
      ]
    },
    {
      "cell_type": "code",
      "source": [
        "# @title NMA Figure settings\n",
        "from matplotlib import rcParams\n",
        "\n",
        "rcParams['figure.figsize'] = [20, 4]\n",
        "rcParams['font.size'] =15\n",
        "rcParams['axes.spines.top'] = False\n",
        "rcParams['axes.spines.right'] = False\n",
        "rcParams['figure.autolayout'] = True"
      ],
      "metadata": {
        "id": "B-Zse3dIMpaW"
      },
      "execution_count": 2,
      "outputs": []
    },
    {
      "cell_type": "code",
      "source": [
        "# @title NMA Data retrieval\n",
        "import os, requests\n",
        "\n",
        "fname = \"stringer_spontaneous.npy\"\n",
        "url = \"https://osf.io/dpqaj/download\"\n",
        "\n",
        "if not os.path.isfile(fname):\n",
        "  try:\n",
        "    r = requests.get(url)\n",
        "  except requests.ConnectionError:\n",
        "    print(\"!!! Failed to download data !!!\")\n",
        "  else:\n",
        "    if r.status_code != requests.codes.ok:\n",
        "      print(\"!!! Failed to download data !!!\")\n",
        "    else:\n",
        "      with open(fname, \"wb\") as fid:\n",
        "        fid.write(r.content)"
      ],
      "metadata": {
        "id": "9Hlzw9zqMst1"
      },
      "execution_count": 3,
      "outputs": []
    },
    {
      "cell_type": "code",
      "source": [
        "# @title NMA Data loading\n",
        "\n",
        "dat = np.load('stringer_spontaneous.npy', allow_pickle=True).item()\n",
        "print(dat.keys())"
      ],
      "metadata": {
        "colab": {
          "base_uri": "https://localhost:8080/"
        },
        "id": "kv--Big1MvFF",
        "outputId": "82857d6c-6c40-44d1-922f-7bff96f07d4a"
      },
      "execution_count": 4,
      "outputs": [
        {
          "output_type": "stream",
          "name": "stdout",
          "text": [
            "dict_keys(['sresp', 'run', 'beh_svd_time', 'beh_svd_mask', 'stat', 'pupilArea', 'pupilCOM', 'xyz'])\n"
          ]
        }
      ]
    },
    {
      "cell_type": "code",
      "source": [
        "# @title Shape of each data\n",
        "\n",
        "print('neuralActivity dimension:   ', dat['sresp'].shape)\n",
        "print('stat dimension:  ', dat['stat'].shape)\n",
        "print('running speed dimension:  ', dat['run'].shape)\n",
        "print('pupil area dimension:  ', dat['pupilArea'].shape)\n",
        "print('pupil xy position dimension:  ', dat['pupilCOM'].shape)\n",
        "print('faceSVD dimension:   ',dat['beh_svd_time'].shape)"
      ],
      "metadata": {
        "colab": {
          "base_uri": "https://localhost:8080/"
        },
        "id": "D3HdqkptM_PO",
        "outputId": "0e75bf49-7178-470b-8001-b766a8cdfbbf"
      },
      "execution_count": 5,
      "outputs": [
        {
          "output_type": "stream",
          "name": "stdout",
          "text": [
            "neuralActivity dimension:    (11983, 7018)\n",
            "stat dimension:   (11983, 1)\n",
            "running speed dimension:   (7018, 1)\n",
            "pupil area dimension:   (7018, 1)\n",
            "pupil xy position dimension:   (7018, 2)\n",
            "faceSVD dimension:    (7018, 1000)\n"
          ]
        }
      ]
    },
    {
      "cell_type": "code",
      "source": [
        "# @title Input and Output of the Model\n",
        "\n",
        "neural_activity = dat['sresp']    # Input\n",
        "run_speed = dat['run']            # Output\n",
        "pupil_area = dat['pupilArea']     # Output\n",
        "face_svd = dat['beh_svd_time']    # Output\n",
        "\n",
        "print('Input dimension:  ', neural_activity.shape)\n",
        "print('Output dimension:  ',run_speed.shape)\n",
        "\n",
        "print('Output dimension(face SVD):  ',face_svd.shape)\n"
      ],
      "metadata": {
        "colab": {
          "base_uri": "https://localhost:8080/"
        },
        "id": "X59-ckzINHse",
        "outputId": "c5c6d44e-3dc3-4e9c-ec60-baacea098ab3"
      },
      "execution_count": 6,
      "outputs": [
        {
          "output_type": "stream",
          "name": "stdout",
          "text": [
            "Input dimension:   (11983, 7018)\n",
            "Output dimension:   (7018, 1)\n",
            "Output dimension(face SVD):   (7018, 1000)\n"
          ]
        }
      ]
    },
    {
      "cell_type": "code",
      "source": [
        "# reshaping input and output\n",
        "neural_activity = np.transpose(neural_activity)\n",
        "runspeed = run_speed.squeeze()\n",
        "pupilarea = pupil_area.squeeze()\n",
        "facesvd = face_svd[:,:100]\n",
        "\n",
        "print('Input dimension:  ', neural_activity.shape)\n",
        "print('Output dimension:  ',runspeed.shape)\n",
        "print('Output dimension (face SVD):  ',facesvd.shape)"
      ],
      "metadata": {
        "colab": {
          "base_uri": "https://localhost:8080/"
        },
        "id": "FD2gW7WxNKxW",
        "outputId": "6eede2f5-05b1-42ad-baa7-46a0da232bdb"
      },
      "execution_count": 7,
      "outputs": [
        {
          "output_type": "stream",
          "name": "stdout",
          "text": [
            "Input dimension:   (7018, 11983)\n",
            "Output dimension:   (7018,)\n",
            "Output dimension (face SVD):   (7018, 100)\n"
          ]
        }
      ]
    },
    {
      "cell_type": "markdown",
      "source": [
        "#**Pytorch Regression Model: neural activity -> running speed**\n",
        "\n",
        "adapted from \"https://machinelearningmastery.com/building-a-regression-model-in-pytorch/\"\n",
        "\n",
        "# **Playing with number of neurons (One Relu layer)**\n",
        "\n",
        "number of neurons is changed from 10 to 400 by step 50"
      ],
      "metadata": {
        "id": "XSGpKyV7i4D_"
      }
    },
    {
      "cell_type": "code",
      "source": [
        "import torch.nn as nn\n",
        "import torch.nn as nn\n",
        "import torch.optim as optim\n",
        "import copy\n",
        "import numpy as np\n",
        "import torch\n",
        "import tqdm\n",
        "from sklearn.model_selection import train_test_split\n",
        "from sklearn.preprocessing import StandardScaler\n",
        "\n",
        "\n",
        "# Dimension Reduction of the Input using PCA\n",
        "pca_model = PCA(n_components=500)\n",
        "reduced = pca_model.fit_transform(neural_activity)\n",
        "component = pca_model.components_\n",
        "neural_activity = reduced\n",
        "print(neural_activity.shape)\n",
        "# print(component.shape)\n",
        "\n",
        "\n",
        "X = neural_activity\n",
        "y = runspeed\n",
        "print('Input shape:  ', X.shape)\n",
        "print('Output shape:  ', y.shape)\n",
        "\n",
        "errortest_neuron_num = []\n",
        "errortrain_neuron_num = []\n",
        "\n",
        "for num_neuron in np.arange(10,400,step = 50):\n",
        "\n",
        "    model = nn.Sequential(\n",
        "    nn.Linear(500, num_neuron),\n",
        "    nn.ReLU(),\n",
        "    nn.Linear(num_neuron, 1)\n",
        "    )\n",
        "\n",
        "    # loss function and optimizer\n",
        "    loss_fn = nn.MSELoss()  # mean square error\n",
        "    optimizer = optim.Adam(model.parameters(), lr=0.0001)\n",
        "\n",
        "\n",
        "    # train-test split for model evaluation\n",
        "    X_train_raw, X_test_raw, y_train, y_test = train_test_split(X, y, train_size=0.7, shuffle=False)\n",
        "\n",
        "    # Standardizing data\n",
        "    scaler = StandardScaler()\n",
        "    scaler.fit(X_train_raw)\n",
        "    X_train = scaler.transform(X_train_raw)\n",
        "    X_test = scaler.transform(X_test_raw)\n",
        "\n",
        "    X_train = torch.tensor(X_train, dtype=torch.float32)\n",
        "    X_test = torch.tensor(X_test, dtype=torch.float32)\n",
        "    y_test = torch.tensor(y_test, dtype=torch.float32)#.reshape(-1, 1)\n",
        "    y_train = torch.tensor(y_train, dtype=torch.float32)#.reshape(-1, 1)\n",
        "\n",
        "\n",
        "\n",
        "    print('X train shape:  ', X_train.shape)\n",
        "    print('y train shape:  ',y_train.shape)\n",
        "    print('X test shape:   ', X_test.shape)\n",
        "    print('y test shape:  ', y_test.shape)\n",
        "\n",
        "    # training parameters\n",
        "    n_epochs = 100   # number of epochs to run\n",
        "    batch_size = 10  # size of each batch\n",
        "    batch_start = torch.arange(0, len(X_train), batch_size)\n",
        "\n",
        "    # Hold the best model\n",
        "    best_mse = np.inf   # init to infinity\n",
        "    best_mse_train = np.inf\n",
        "    best_weights = None\n",
        "    history = []\n",
        "    history_train = []\n",
        "\n",
        "\n",
        "    # training loop\n",
        "    for epoch in range(n_epochs):\n",
        "        model.train()\n",
        "        with tqdm.tqdm(batch_start, unit=\"batch\", mininterval=0, disable=True) as bar:\n",
        "            bar.set_description(f\"Epoch {epoch}\")\n",
        "            for start in bar:\n",
        "                # take a batch\n",
        "                X_batch = X_train[start:start+batch_size]\n",
        "                y_batch = y_train[start:start+batch_size]\n",
        "                # forward pass\n",
        "                y_pred = model(X_batch)\n",
        "                loss = loss_fn(y_pred, y_batch)\n",
        "                # backward pass\n",
        "                optimizer.zero_grad()\n",
        "                loss.backward()\n",
        "                # update weights\n",
        "                optimizer.step()\n",
        "                # print progress\n",
        "                bar.set_postfix(mse=float(loss))\n",
        "        # evaluate accuracy at end of each epoch\n",
        "        model.eval()\n",
        "        y_pred = model(X_test)\n",
        "        mse = loss_fn(y_pred, y_test)\n",
        "        mse = float(mse)\n",
        "        history.append(mse)\n",
        "        if mse < best_mse:\n",
        "            best_mse = mse\n",
        "            best_weights = copy.deepcopy(model.state_dict())\n",
        "\n",
        "        # restore model and return best accuracy\n",
        "        model.load_state_dict(best_weights)\n",
        "        y_predict = model(X_train)\n",
        "        mse_train = loss_fn(y_predict, y_train)\n",
        "        mse_train = float(mse_train)\n",
        "        history_train.append(mse_train)\n",
        "        if mse_train < best_mse_train:\n",
        "            best_mse_train = mse_train\n",
        "\n",
        "    errortrain_neuron_num.append(best_mse_train)\n",
        "    errortest_neuron_num.append(best_mse)\n"
      ],
      "metadata": {
        "id": "1fMTV4j4S3FG",
        "outputId": "9bb51e69-9c6a-4324-e8fc-583c82ba2ec7",
        "colab": {
          "base_uri": "https://localhost:8080/"
        }
      },
      "execution_count": 8,
      "outputs": [
        {
          "output_type": "stream",
          "name": "stdout",
          "text": [
            "(7018, 500)\n",
            "Input shape:   (7018, 500)\n",
            "Output shape:   (7018,)\n",
            "X train shape:   torch.Size([4912, 500])\n",
            "y train shape:   torch.Size([4912])\n",
            "X test shape:    torch.Size([2106, 500])\n",
            "y test shape:   torch.Size([2106])\n"
          ]
        },
        {
          "output_type": "stream",
          "name": "stderr",
          "text": [
            "/usr/local/lib/python3.10/dist-packages/torch/nn/modules/loss.py:536: UserWarning: Using a target size (torch.Size([10])) that is different to the input size (torch.Size([10, 1])). This will likely lead to incorrect results due to broadcasting. Please ensure they have the same size.\n",
            "  return F.mse_loss(input, target, reduction=self.reduction)\n",
            "/usr/local/lib/python3.10/dist-packages/torch/nn/modules/loss.py:536: UserWarning: Using a target size (torch.Size([2])) that is different to the input size (torch.Size([2, 1])). This will likely lead to incorrect results due to broadcasting. Please ensure they have the same size.\n",
            "  return F.mse_loss(input, target, reduction=self.reduction)\n",
            "/usr/local/lib/python3.10/dist-packages/torch/nn/modules/loss.py:536: UserWarning: Using a target size (torch.Size([2106])) that is different to the input size (torch.Size([2106, 1])). This will likely lead to incorrect results due to broadcasting. Please ensure they have the same size.\n",
            "  return F.mse_loss(input, target, reduction=self.reduction)\n",
            "/usr/local/lib/python3.10/dist-packages/torch/nn/modules/loss.py:536: UserWarning: Using a target size (torch.Size([4912])) that is different to the input size (torch.Size([4912, 1])). This will likely lead to incorrect results due to broadcasting. Please ensure they have the same size.\n",
            "  return F.mse_loss(input, target, reduction=self.reduction)\n"
          ]
        },
        {
          "output_type": "stream",
          "name": "stdout",
          "text": [
            "X train shape:   torch.Size([4912, 500])\n",
            "y train shape:   torch.Size([4912])\n",
            "X test shape:    torch.Size([2106, 500])\n",
            "y test shape:   torch.Size([2106])\n"
          ]
        },
        {
          "output_type": "stream",
          "name": "stderr",
          "text": [
            "/usr/local/lib/python3.10/dist-packages/torch/nn/modules/loss.py:536: UserWarning: Using a target size (torch.Size([10])) that is different to the input size (torch.Size([10, 1])). This will likely lead to incorrect results due to broadcasting. Please ensure they have the same size.\n",
            "  return F.mse_loss(input, target, reduction=self.reduction)\n",
            "/usr/local/lib/python3.10/dist-packages/torch/nn/modules/loss.py:536: UserWarning: Using a target size (torch.Size([2])) that is different to the input size (torch.Size([2, 1])). This will likely lead to incorrect results due to broadcasting. Please ensure they have the same size.\n",
            "  return F.mse_loss(input, target, reduction=self.reduction)\n",
            "/usr/local/lib/python3.10/dist-packages/torch/nn/modules/loss.py:536: UserWarning: Using a target size (torch.Size([2106])) that is different to the input size (torch.Size([2106, 1])). This will likely lead to incorrect results due to broadcasting. Please ensure they have the same size.\n",
            "  return F.mse_loss(input, target, reduction=self.reduction)\n",
            "/usr/local/lib/python3.10/dist-packages/torch/nn/modules/loss.py:536: UserWarning: Using a target size (torch.Size([4912])) that is different to the input size (torch.Size([4912, 1])). This will likely lead to incorrect results due to broadcasting. Please ensure they have the same size.\n",
            "  return F.mse_loss(input, target, reduction=self.reduction)\n"
          ]
        },
        {
          "output_type": "stream",
          "name": "stdout",
          "text": [
            "X train shape:   torch.Size([4912, 500])\n",
            "y train shape:   torch.Size([4912])\n",
            "X test shape:    torch.Size([2106, 500])\n",
            "y test shape:   torch.Size([2106])\n"
          ]
        },
        {
          "output_type": "stream",
          "name": "stderr",
          "text": [
            "/usr/local/lib/python3.10/dist-packages/torch/nn/modules/loss.py:536: UserWarning: Using a target size (torch.Size([10])) that is different to the input size (torch.Size([10, 1])). This will likely lead to incorrect results due to broadcasting. Please ensure they have the same size.\n",
            "  return F.mse_loss(input, target, reduction=self.reduction)\n",
            "/usr/local/lib/python3.10/dist-packages/torch/nn/modules/loss.py:536: UserWarning: Using a target size (torch.Size([2])) that is different to the input size (torch.Size([2, 1])). This will likely lead to incorrect results due to broadcasting. Please ensure they have the same size.\n",
            "  return F.mse_loss(input, target, reduction=self.reduction)\n",
            "/usr/local/lib/python3.10/dist-packages/torch/nn/modules/loss.py:536: UserWarning: Using a target size (torch.Size([2106])) that is different to the input size (torch.Size([2106, 1])). This will likely lead to incorrect results due to broadcasting. Please ensure they have the same size.\n",
            "  return F.mse_loss(input, target, reduction=self.reduction)\n",
            "/usr/local/lib/python3.10/dist-packages/torch/nn/modules/loss.py:536: UserWarning: Using a target size (torch.Size([4912])) that is different to the input size (torch.Size([4912, 1])). This will likely lead to incorrect results due to broadcasting. Please ensure they have the same size.\n",
            "  return F.mse_loss(input, target, reduction=self.reduction)\n"
          ]
        },
        {
          "output_type": "stream",
          "name": "stdout",
          "text": [
            "X train shape:   torch.Size([4912, 500])\n",
            "y train shape:   torch.Size([4912])\n",
            "X test shape:    torch.Size([2106, 500])\n",
            "y test shape:   torch.Size([2106])\n"
          ]
        },
        {
          "output_type": "stream",
          "name": "stderr",
          "text": [
            "/usr/local/lib/python3.10/dist-packages/torch/nn/modules/loss.py:536: UserWarning: Using a target size (torch.Size([10])) that is different to the input size (torch.Size([10, 1])). This will likely lead to incorrect results due to broadcasting. Please ensure they have the same size.\n",
            "  return F.mse_loss(input, target, reduction=self.reduction)\n",
            "/usr/local/lib/python3.10/dist-packages/torch/nn/modules/loss.py:536: UserWarning: Using a target size (torch.Size([2])) that is different to the input size (torch.Size([2, 1])). This will likely lead to incorrect results due to broadcasting. Please ensure they have the same size.\n",
            "  return F.mse_loss(input, target, reduction=self.reduction)\n",
            "/usr/local/lib/python3.10/dist-packages/torch/nn/modules/loss.py:536: UserWarning: Using a target size (torch.Size([2106])) that is different to the input size (torch.Size([2106, 1])). This will likely lead to incorrect results due to broadcasting. Please ensure they have the same size.\n",
            "  return F.mse_loss(input, target, reduction=self.reduction)\n",
            "/usr/local/lib/python3.10/dist-packages/torch/nn/modules/loss.py:536: UserWarning: Using a target size (torch.Size([4912])) that is different to the input size (torch.Size([4912, 1])). This will likely lead to incorrect results due to broadcasting. Please ensure they have the same size.\n",
            "  return F.mse_loss(input, target, reduction=self.reduction)\n"
          ]
        },
        {
          "output_type": "stream",
          "name": "stdout",
          "text": [
            "X train shape:   torch.Size([4912, 500])\n",
            "y train shape:   torch.Size([4912])\n",
            "X test shape:    torch.Size([2106, 500])\n",
            "y test shape:   torch.Size([2106])\n"
          ]
        },
        {
          "output_type": "stream",
          "name": "stderr",
          "text": [
            "/usr/local/lib/python3.10/dist-packages/torch/nn/modules/loss.py:536: UserWarning: Using a target size (torch.Size([10])) that is different to the input size (torch.Size([10, 1])). This will likely lead to incorrect results due to broadcasting. Please ensure they have the same size.\n",
            "  return F.mse_loss(input, target, reduction=self.reduction)\n",
            "/usr/local/lib/python3.10/dist-packages/torch/nn/modules/loss.py:536: UserWarning: Using a target size (torch.Size([2])) that is different to the input size (torch.Size([2, 1])). This will likely lead to incorrect results due to broadcasting. Please ensure they have the same size.\n",
            "  return F.mse_loss(input, target, reduction=self.reduction)\n",
            "/usr/local/lib/python3.10/dist-packages/torch/nn/modules/loss.py:536: UserWarning: Using a target size (torch.Size([2106])) that is different to the input size (torch.Size([2106, 1])). This will likely lead to incorrect results due to broadcasting. Please ensure they have the same size.\n",
            "  return F.mse_loss(input, target, reduction=self.reduction)\n",
            "/usr/local/lib/python3.10/dist-packages/torch/nn/modules/loss.py:536: UserWarning: Using a target size (torch.Size([4912])) that is different to the input size (torch.Size([4912, 1])). This will likely lead to incorrect results due to broadcasting. Please ensure they have the same size.\n",
            "  return F.mse_loss(input, target, reduction=self.reduction)\n"
          ]
        },
        {
          "output_type": "stream",
          "name": "stdout",
          "text": [
            "X train shape:   torch.Size([4912, 500])\n",
            "y train shape:   torch.Size([4912])\n",
            "X test shape:    torch.Size([2106, 500])\n",
            "y test shape:   torch.Size([2106])\n"
          ]
        },
        {
          "output_type": "stream",
          "name": "stderr",
          "text": [
            "/usr/local/lib/python3.10/dist-packages/torch/nn/modules/loss.py:536: UserWarning: Using a target size (torch.Size([10])) that is different to the input size (torch.Size([10, 1])). This will likely lead to incorrect results due to broadcasting. Please ensure they have the same size.\n",
            "  return F.mse_loss(input, target, reduction=self.reduction)\n",
            "/usr/local/lib/python3.10/dist-packages/torch/nn/modules/loss.py:536: UserWarning: Using a target size (torch.Size([2])) that is different to the input size (torch.Size([2, 1])). This will likely lead to incorrect results due to broadcasting. Please ensure they have the same size.\n",
            "  return F.mse_loss(input, target, reduction=self.reduction)\n",
            "/usr/local/lib/python3.10/dist-packages/torch/nn/modules/loss.py:536: UserWarning: Using a target size (torch.Size([2106])) that is different to the input size (torch.Size([2106, 1])). This will likely lead to incorrect results due to broadcasting. Please ensure they have the same size.\n",
            "  return F.mse_loss(input, target, reduction=self.reduction)\n",
            "/usr/local/lib/python3.10/dist-packages/torch/nn/modules/loss.py:536: UserWarning: Using a target size (torch.Size([4912])) that is different to the input size (torch.Size([4912, 1])). This will likely lead to incorrect results due to broadcasting. Please ensure they have the same size.\n",
            "  return F.mse_loss(input, target, reduction=self.reduction)\n"
          ]
        },
        {
          "output_type": "stream",
          "name": "stdout",
          "text": [
            "X train shape:   torch.Size([4912, 500])\n",
            "y train shape:   torch.Size([4912])\n",
            "X test shape:    torch.Size([2106, 500])\n",
            "y test shape:   torch.Size([2106])\n"
          ]
        },
        {
          "output_type": "stream",
          "name": "stderr",
          "text": [
            "/usr/local/lib/python3.10/dist-packages/torch/nn/modules/loss.py:536: UserWarning: Using a target size (torch.Size([10])) that is different to the input size (torch.Size([10, 1])). This will likely lead to incorrect results due to broadcasting. Please ensure they have the same size.\n",
            "  return F.mse_loss(input, target, reduction=self.reduction)\n",
            "/usr/local/lib/python3.10/dist-packages/torch/nn/modules/loss.py:536: UserWarning: Using a target size (torch.Size([2])) that is different to the input size (torch.Size([2, 1])). This will likely lead to incorrect results due to broadcasting. Please ensure they have the same size.\n",
            "  return F.mse_loss(input, target, reduction=self.reduction)\n",
            "/usr/local/lib/python3.10/dist-packages/torch/nn/modules/loss.py:536: UserWarning: Using a target size (torch.Size([2106])) that is different to the input size (torch.Size([2106, 1])). This will likely lead to incorrect results due to broadcasting. Please ensure they have the same size.\n",
            "  return F.mse_loss(input, target, reduction=self.reduction)\n",
            "/usr/local/lib/python3.10/dist-packages/torch/nn/modules/loss.py:536: UserWarning: Using a target size (torch.Size([4912])) that is different to the input size (torch.Size([4912, 1])). This will likely lead to incorrect results due to broadcasting. Please ensure they have the same size.\n",
            "  return F.mse_loss(input, target, reduction=self.reduction)\n"
          ]
        },
        {
          "output_type": "stream",
          "name": "stdout",
          "text": [
            "X train shape:   torch.Size([4912, 500])\n",
            "y train shape:   torch.Size([4912])\n",
            "X test shape:    torch.Size([2106, 500])\n",
            "y test shape:   torch.Size([2106])\n"
          ]
        },
        {
          "output_type": "stream",
          "name": "stderr",
          "text": [
            "/usr/local/lib/python3.10/dist-packages/torch/nn/modules/loss.py:536: UserWarning: Using a target size (torch.Size([10])) that is different to the input size (torch.Size([10, 1])). This will likely lead to incorrect results due to broadcasting. Please ensure they have the same size.\n",
            "  return F.mse_loss(input, target, reduction=self.reduction)\n",
            "/usr/local/lib/python3.10/dist-packages/torch/nn/modules/loss.py:536: UserWarning: Using a target size (torch.Size([2])) that is different to the input size (torch.Size([2, 1])). This will likely lead to incorrect results due to broadcasting. Please ensure they have the same size.\n",
            "  return F.mse_loss(input, target, reduction=self.reduction)\n",
            "/usr/local/lib/python3.10/dist-packages/torch/nn/modules/loss.py:536: UserWarning: Using a target size (torch.Size([2106])) that is different to the input size (torch.Size([2106, 1])). This will likely lead to incorrect results due to broadcasting. Please ensure they have the same size.\n",
            "  return F.mse_loss(input, target, reduction=self.reduction)\n",
            "/usr/local/lib/python3.10/dist-packages/torch/nn/modules/loss.py:536: UserWarning: Using a target size (torch.Size([4912])) that is different to the input size (torch.Size([4912, 1])). This will likely lead to incorrect results due to broadcasting. Please ensure they have the same size.\n",
            "  return F.mse_loss(input, target, reduction=self.reduction)\n"
          ]
        }
      ]
    },
    {
      "cell_type": "code",
      "source": [
        "\n",
        "print(\"MSE Train: %.2f\" % best_mse_train)\n",
        "print(\"RMSE Train: %.2f\" % np.sqrt(best_mse_train))\n",
        "\n",
        "print(\"MSE Test: %.2f\" % best_mse)\n",
        "print(\"RMSE Test: %.2f\" % np.sqrt(best_mse))\n",
        "\n",
        "plt.plot(history)\n",
        "plt.show()"
      ],
      "metadata": {
        "id": "nzdu_lldWyTA",
        "outputId": "3331bb5a-3abf-442b-c4a7-7ec3ddf7db25",
        "colab": {
          "base_uri": "https://localhost:8080/",
          "height": 401
        }
      },
      "execution_count": 9,
      "outputs": [
        {
          "output_type": "stream",
          "name": "stdout",
          "text": [
            "MSE Train: 59.59\n",
            "RMSE Train: 7.72\n",
            "MSE Test: 133.85\n",
            "RMSE Test: 11.57\n"
          ]
        },
        {
          "output_type": "display_data",
          "data": {
            "text/plain": [
              "<Figure size 2000x400 with 1 Axes>"
            ],
            "image/png": "[encoded data removed]"
          },
          "metadata": {}
        }
      ]
    },
    {
      "cell_type": "code",
      "source": [
        "# @title Prining and showing the results of playing with number of neurons\n",
        "num_neuron = np.arange(10,400,step = 50)\n",
        "\n",
        "print(\"MSE_train: \")\n",
        "print(errortrain_neuron_num)\n",
        "plt.figure()\n",
        "plt.plot(num_neuron, errortrain_neuron_num)\n",
        "plt.xlabel('neumber of neuron in the single layer (RelU)')\n",
        "plt.ylabel('MSE train')\n",
        "\n",
        "\n",
        "print(\"MSE_test: \")\n",
        "print(errortest_neuron_num)\n",
        "plt.figure()\n",
        "plt.plot(num_neuron, errortest_neuron_num)\n",
        "plt.xlabel('neumber of neuron in the single layer (RelU)')\n",
        "plt.ylabel('MSE test')\n"
      ],
      "metadata": {
        "colab": {
          "base_uri": "https://localhost:8080/",
          "height": 811
        },
        "id": "xugELDm6VLe4",
        "outputId": "487e6084-7164-4df5-c676-38f3b65ff507"
      },
      "execution_count": 10,
      "outputs": [
        {
          "output_type": "stream",
          "name": "stdout",
          "text": [
            "MSE_train: \n",
            "[63.09962463378906, 61.139259338378906, 60.843360900878906, 60.276771545410156, 60.26508331298828, 59.8216438293457, 59.66365051269531, 59.59407424926758]\n",
            "MSE_test: \n",
            "[141.93812561035156, 137.04580688476562, 136.72093200683594, 135.26754760742188, 134.89031982421875, 134.16165161132812, 133.9113006591797, 133.85189819335938]\n"
          ]
        },
        {
          "output_type": "execute_result",
          "data": {
            "text/plain": [
              "Text(0, 0.5, 'MSE test')"
            ]
          },
          "metadata": {},
          "execution_count": 10
        },
        {
          "output_type": "display_data",
          "data": {
            "text/plain": [
              "<Figure size 2000x400 with 1 Axes>"
            ],
            "image/png": "[encoded data removed]"
          },
          "metadata": {}
        },
        {
          "output_type": "display_data",
          "data": {
            "text/plain": [
              "<Figure size 2000x400 with 1 Axes>"
            ],
            "image/png": "[encoded data removed]"
          },
          "metadata": {}
        }
      ]
    },
    {
      "cell_type": "markdown",
      "source": [
        "# **Playing with number of layers**\n",
        "\n",
        "We considered four conditions:\n",
        "\n",
        "1- Two Relu hiddern layers: number of neurons in each layer: [400 10]\n",
        "\n",
        "2- Two Relu hiddern layers: number of neurons in each layer: [400 100]\n",
        "\n",
        "3- Three Relu hiddern layers: number of neurons in each layer: [400 10 10]\n",
        "\n",
        "4- Three Relu hiddern layers: number of neurons in each layer: ?\n"
      ],
      "metadata": {
        "id": "WG0PSD-wmcMn"
      }
    },
    {
      "cell_type": "code",
      "source": [
        "# @title **1st condition** : Two Relu hiddern layers: number of neurons in each layer: [400 10]\n",
        "\n",
        "\n",
        "errortest_neuron_num = []\n",
        "errortrain_neuron_num = []\n",
        "\n",
        "num_neuron2 = 10  #secend layer\n",
        "\n",
        "for num_neuron in [400]:     # first layer # there is no need for \"for\", it is just a fast draft of chaning the code for our investigation\n",
        "\n",
        "    model = nn.Sequential(\n",
        "    nn.Linear(500, num_neuron),\n",
        "    nn.ReLU(),\n",
        "    nn.Linear(num_neuron, num_neuron2),\n",
        "    nn.ReLU(),\n",
        "    nn.Linear(num_neuron2, 1)\n",
        "    )\n",
        "\n",
        "    # loss function and optimizer\n",
        "    loss_fn = nn.MSELoss()  # mean square error\n",
        "    optimizer = optim.Adam(model.parameters(), lr=0.0001)\n",
        "\n",
        "\n",
        "    # train-test split for model evaluation\n",
        "    X_train_raw, X_test_raw, y_train, y_test = train_test_split(X, y, train_size=0.7, shuffle=False)\n",
        "\n",
        "    # Standardizing data\n",
        "    scaler = StandardScaler()\n",
        "    scaler.fit(X_train_raw)\n",
        "    X_train = scaler.transform(X_train_raw)\n",
        "    X_test = scaler.transform(X_test_raw)\n",
        "\n",
        "    X_train = torch.tensor(X_train, dtype=torch.float32)\n",
        "    X_test = torch.tensor(X_test, dtype=torch.float32)\n",
        "    y_test = torch.tensor(y_test, dtype=torch.float32)#.reshape(-1, 1)\n",
        "    y_train = torch.tensor(y_train, dtype=torch.float32)#.reshape(-1, 1)\n",
        "\n",
        "\n",
        "    # training parameters\n",
        "    n_epochs = 100   # number of epochs to run\n",
        "    batch_size = 10  # size of each batch\n",
        "    batch_start = torch.arange(0, len(X_train), batch_size)\n",
        "\n",
        "    # Hold the best model\n",
        "    best_mse = np.inf   # init to infinity\n",
        "    best_mse_train = np.inf\n",
        "    best_weights = None\n",
        "    history = []\n",
        "    history_train = []\n",
        "\n",
        "    # training loop\n",
        "    for epoch in range(n_epochs):\n",
        "        model.train()\n",
        "        with tqdm.tqdm(batch_start, unit=\"batch\", mininterval=0, disable=True) as bar:\n",
        "            bar.set_description(f\"Epoch {epoch}\")\n",
        "            for start in bar:\n",
        "                # take a batch\n",
        "                X_batch = X_train[start:start+batch_size]\n",
        "                y_batch = y_train[start:start+batch_size]\n",
        "                # forward pass\n",
        "                y_pred = model(X_batch)\n",
        "                loss = loss_fn(y_pred, y_batch)\n",
        "                # backward pass\n",
        "                optimizer.zero_grad()\n",
        "                loss.backward()\n",
        "                # update weights\n",
        "                optimizer.step()\n",
        "                # print progress\n",
        "                bar.set_postfix(mse=float(loss))\n",
        "        # evaluate accuracy at end of each epoch\n",
        "        model.eval()\n",
        "        y_pred = model(X_test)\n",
        "        mse = loss_fn(y_pred, y_test)\n",
        "        mse = float(mse)\n",
        "        history.append(mse)\n",
        "        if mse < best_mse:\n",
        "            best_mse = mse\n",
        "            best_weights = copy.deepcopy(model.state_dict())\n",
        "\n",
        "        # restore model and return best accuracy\n",
        "        model.load_state_dict(best_weights)\n",
        "        y_predict = model(X_train)\n",
        "        mse_train = loss_fn(y_predict, y_train)\n",
        "        mse_train = float(mse_train)\n",
        "        history_train.append(mse_train)\n",
        "        if mse_train < best_mse_train:\n",
        "            best_mse_train = mse_train\n",
        "\n",
        "    errortrain_neuron_num.append(best_mse_train)\n",
        "    errortest_neuron_num.append(best_mse)\n",
        "\n",
        "\n",
        "print(\"#######################################################################\")\n",
        "print(\"MSE Train: %.2f\" % best_mse_train)\n",
        "print(\"RMSE Train: %.2f\" % np.sqrt(best_mse_train))\n",
        "\n",
        "print(\"MSE Test: %.2f\" % best_mse)\n",
        "print(\"RMSE Test: %.2f\" % np.sqrt(best_mse))\n",
        "\n",
        "plt.plot(history)\n",
        "plt.show()\n",
        "\n",
        "\n"
      ],
      "metadata": {
        "colab": {
          "base_uri": "https://localhost:8080/",
          "height": 560
        },
        "id": "-rApBRT2kpiP",
        "outputId": "543c8bc4-9c1c-4588-b9d4-ad3f5594b2e0"
      },
      "execution_count": 11,
      "outputs": [
        {
          "output_type": "stream",
          "name": "stderr",
          "text": [
            "/usr/local/lib/python3.10/dist-packages/torch/nn/modules/loss.py:536: UserWarning: Using a target size (torch.Size([10])) that is different to the input size (torch.Size([10, 1])). This will likely lead to incorrect results due to broadcasting. Please ensure they have the same size.\n",
            "  return F.mse_loss(input, target, reduction=self.reduction)\n",
            "/usr/local/lib/python3.10/dist-packages/torch/nn/modules/loss.py:536: UserWarning: Using a target size (torch.Size([2])) that is different to the input size (torch.Size([2, 1])). This will likely lead to incorrect results due to broadcasting. Please ensure they have the same size.\n",
            "  return F.mse_loss(input, target, reduction=self.reduction)\n",
            "/usr/local/lib/python3.10/dist-packages/torch/nn/modules/loss.py:536: UserWarning: Using a target size (torch.Size([2106])) that is different to the input size (torch.Size([2106, 1])). This will likely lead to incorrect results due to broadcasting. Please ensure they have the same size.\n",
            "  return F.mse_loss(input, target, reduction=self.reduction)\n",
            "/usr/local/lib/python3.10/dist-packages/torch/nn/modules/loss.py:536: UserWarning: Using a target size (torch.Size([4912])) that is different to the input size (torch.Size([4912, 1])). This will likely lead to incorrect results due to broadcasting. Please ensure they have the same size.\n",
            "  return F.mse_loss(input, target, reduction=self.reduction)\n"
          ]
        },
        {
          "output_type": "stream",
          "name": "stdout",
          "text": [
            "MSE Train: 59.32\n",
            "RMSE Train: 7.70\n",
            "MSE Test: 132.96\n",
            "RMSE Test: 11.53\n"
          ]
        },
        {
          "output_type": "display_data",
          "data": {
            "text/plain": [
              "<Figure size 2000x400 with 1 Axes>"
            ],
            "image/png": "[encoded data removed]"
          },
          "metadata": {}
        }
      ]
    },
    {
      "cell_type": "code",
      "source": [
        "# @title **2ed condition** : Two Relu hiddern layers: number of neurons in each layer: [400 100]\n",
        "\n",
        "\n",
        "errortest_neuron_num = []\n",
        "errortrain_neuron_num = []\n",
        "\n",
        "num_neuron2 = 100  #secend layer\n",
        "\n",
        "for num_neuron in [400]:     # first layer # there is no need for \"for\", it is just a fast draft of chaning the code for our investigation\n",
        "\n",
        "    model = nn.Sequential(\n",
        "    nn.Linear(500, num_neuron),\n",
        "    nn.ReLU(),\n",
        "    nn.Linear(num_neuron, num_neuron2),\n",
        "    nn.ReLU(),\n",
        "    nn.Linear(num_neuron2, 1)\n",
        "    )\n",
        "\n",
        "    # loss function and optimizer\n",
        "    loss_fn = nn.MSELoss()  # mean square error\n",
        "    optimizer = optim.Adam(model.parameters(), lr=0.0001)\n",
        "\n",
        "\n",
        "    # train-test split for model evaluation\n",
        "    X_train_raw, X_test_raw, y_train, y_test = train_test_split(X, y, train_size=0.7, shuffle=False)\n",
        "\n",
        "    # Standardizing data\n",
        "    scaler = StandardScaler()\n",
        "    scaler.fit(X_train_raw)\n",
        "    X_train = scaler.transform(X_train_raw)\n",
        "    X_test = scaler.transform(X_test_raw)\n",
        "\n",
        "    X_train = torch.tensor(X_train, dtype=torch.float32)\n",
        "    X_test = torch.tensor(X_test, dtype=torch.float32)\n",
        "    y_test = torch.tensor(y_test, dtype=torch.float32)#.reshape(-1, 1)\n",
        "    y_train = torch.tensor(y_train, dtype=torch.float32)#.reshape(-1, 1)\n",
        "\n",
        "\n",
        "    # training parameters\n",
        "    n_epochs = 100   # number of epochs to run\n",
        "    batch_size = 10  # size of each batch\n",
        "    batch_start = torch.arange(0, len(X_train), batch_size)\n",
        "\n",
        "    # Hold the best model\n",
        "    best_mse = np.inf   # init to infinity\n",
        "    best_mse_train = np.inf\n",
        "    best_weights = None\n",
        "    history = []\n",
        "    history_train = []\n",
        "\n",
        "    # training loop\n",
        "    for epoch in range(n_epochs):\n",
        "        model.train()\n",
        "        with tqdm.tqdm(batch_start, unit=\"batch\", mininterval=0, disable=True) as bar:\n",
        "            bar.set_description(f\"Epoch {epoch}\")\n",
        "            for start in bar:\n",
        "                # take a batch\n",
        "                X_batch = X_train[start:start+batch_size]\n",
        "                y_batch = y_train[start:start+batch_size]\n",
        "                # forward pass\n",
        "                y_pred = model(X_batch)\n",
        "                loss = loss_fn(y_pred, y_batch)\n",
        "                # backward pass\n",
        "                optimizer.zero_grad()\n",
        "                loss.backward()\n",
        "                # update weights\n",
        "                optimizer.step()\n",
        "                # print progress\n",
        "                bar.set_postfix(mse=float(loss))\n",
        "        # evaluate accuracy at end of each epoch\n",
        "        model.eval()\n",
        "        y_pred = model(X_test)\n",
        "        mse = loss_fn(y_pred, y_test)\n",
        "        mse = float(mse)\n",
        "        history.append(mse)\n",
        "        if mse < best_mse:\n",
        "            best_mse = mse\n",
        "            best_weights = copy.deepcopy(model.state_dict())\n",
        "\n",
        "        # restore model and return best accuracy\n",
        "        model.load_state_dict(best_weights)\n",
        "        y_predict = model(X_train)\n",
        "        mse_train = loss_fn(y_predict, y_train)\n",
        "        mse_train = float(mse_train)\n",
        "        history_train.append(mse_train)\n",
        "        if mse_train < best_mse_train:\n",
        "            best_mse_train = mse_train\n",
        "\n",
        "    errortrain_neuron_num.append(best_mse_train)\n",
        "    errortest_neuron_num.append(best_mse)\n",
        "\n",
        "print(\"#######################################################################\")\n",
        "print(\"MSE Train: %.2f\" % best_mse_train)\n",
        "print(\"RMSE Train: %.2f\" % np.sqrt(best_mse_train))\n",
        "\n",
        "print(\"MSE Test: %.2f\" % best_mse)\n",
        "print(\"RMSE Test: %.2f\" % np.sqrt(best_mse))\n",
        "\n",
        "plt.plot(history)\n",
        "plt.show()\n",
        "\n",
        "\n"
      ],
      "metadata": {
        "colab": {
          "base_uri": "https://localhost:8080/",
          "height": 577
        },
        "id": "cmHBAEsjo1Wv",
        "outputId": "b37d6e7c-82fa-4fdb-d6d2-4bc3fe195775"
      },
      "execution_count": 12,
      "outputs": [
        {
          "output_type": "stream",
          "name": "stderr",
          "text": [
            "/usr/local/lib/python3.10/dist-packages/torch/nn/modules/loss.py:536: UserWarning: Using a target size (torch.Size([10])) that is different to the input size (torch.Size([10, 1])). This will likely lead to incorrect results due to broadcasting. Please ensure they have the same size.\n",
            "  return F.mse_loss(input, target, reduction=self.reduction)\n",
            "/usr/local/lib/python3.10/dist-packages/torch/nn/modules/loss.py:536: UserWarning: Using a target size (torch.Size([2])) that is different to the input size (torch.Size([2, 1])). This will likely lead to incorrect results due to broadcasting. Please ensure they have the same size.\n",
            "  return F.mse_loss(input, target, reduction=self.reduction)\n",
            "/usr/local/lib/python3.10/dist-packages/torch/nn/modules/loss.py:536: UserWarning: Using a target size (torch.Size([2106])) that is different to the input size (torch.Size([2106, 1])). This will likely lead to incorrect results due to broadcasting. Please ensure they have the same size.\n",
            "  return F.mse_loss(input, target, reduction=self.reduction)\n",
            "/usr/local/lib/python3.10/dist-packages/torch/nn/modules/loss.py:536: UserWarning: Using a target size (torch.Size([4912])) that is different to the input size (torch.Size([4912, 1])). This will likely lead to incorrect results due to broadcasting. Please ensure they have the same size.\n",
            "  return F.mse_loss(input, target, reduction=self.reduction)\n"
          ]
        },
        {
          "output_type": "stream",
          "name": "stdout",
          "text": [
            "#######################################################################\n",
            "MSE Train: 58.63\n",
            "RMSE Train: 7.66\n",
            "MSE Test: 131.98\n",
            "RMSE Test: 11.49\n"
          ]
        },
        {
          "output_type": "display_data",
          "data": {
            "text/plain": [
              "<Figure size 2000x400 with 1 Axes>"
            ],
            "image/png": "[encoded data removed]"
          },
          "metadata": {}
        }
      ]
    },
    {
      "cell_type": "code",
      "source": [
        "# @title **3rd condition** : Three Relu hiddern layers: number of neurons in each layer: [400 10 10]\n",
        "\n",
        "errortest_neuron_num = []\n",
        "errortrain_neuron_num = []\n",
        "num_neuron2 = 10   #second layer\n",
        "num_neuron3 = 10   #third layer\n",
        "\n",
        "for num_neuron in [400]:  # first layer # there is no need for \"for\", it is just a fast draft of chaning the code for our investigation\n",
        "\n",
        "    model = nn.Sequential(\n",
        "    nn.Linear(500, num_neuron),\n",
        "    nn.ReLU(),\n",
        "    nn.Linear(num_neuron, num_neuron2),\n",
        "    nn.ReLU(),\n",
        "    nn.Linear(num_neuron2, num_neuron3),\n",
        "    nn.ReLU(),\n",
        "    nn.Linear(num_neuron3, 1)\n",
        "    )\n",
        "\n",
        "    # loss function and optimizer\n",
        "    loss_fn = nn.MSELoss()  # mean square error\n",
        "    optimizer = optim.Adam(model.parameters(), lr=0.0001)\n",
        "\n",
        "\n",
        "    # train-test split for model evaluation\n",
        "    X_train_raw, X_test_raw, y_train, y_test = train_test_split(X, y, train_size=0.7, shuffle=False)\n",
        "\n",
        "    # Standardizing data\n",
        "    scaler = StandardScaler()\n",
        "    scaler.fit(X_train_raw)\n",
        "    X_train = scaler.transform(X_train_raw)\n",
        "    X_test = scaler.transform(X_test_raw)\n",
        "\n",
        "    X_train = torch.tensor(X_train, dtype=torch.float32)\n",
        "    X_test = torch.tensor(X_test, dtype=torch.float32)\n",
        "    y_test = torch.tensor(y_test, dtype=torch.float32)#.reshape(-1, 1)\n",
        "    y_train = torch.tensor(y_train, dtype=torch.float32)#.reshape(-1, 1)\n",
        "\n",
        "    # training parameters\n",
        "    n_epochs = 100   # number of epochs to run\n",
        "    batch_size = 10  # size of each batch\n",
        "    batch_start = torch.arange(0, len(X_train), batch_size)\n",
        "\n",
        "    # Hold the best model\n",
        "    best_mse = np.inf   # init to infinity\n",
        "    best_mse_train = np.inf\n",
        "    best_weights = None\n",
        "    history = []\n",
        "    history_train = []\n",
        "\n",
        "\n",
        "    # training loop\n",
        "    for epoch in range(n_epochs):\n",
        "        model.train()\n",
        "        with tqdm.tqdm(batch_start, unit=\"batch\", mininterval=0, disable=True) as bar:\n",
        "            bar.set_description(f\"Epoch {epoch}\")\n",
        "            for start in bar:\n",
        "                # take a batch\n",
        "                X_batch = X_train[start:start+batch_size]\n",
        "                y_batch = y_train[start:start+batch_size]\n",
        "                # forward pass\n",
        "                y_pred = model(X_batch)\n",
        "                loss = loss_fn(y_pred, y_batch)\n",
        "                # backward pass\n",
        "                optimizer.zero_grad()\n",
        "                loss.backward()\n",
        "                # update weights\n",
        "                optimizer.step()\n",
        "                # print progress\n",
        "                bar.set_postfix(mse=float(loss))\n",
        "        # evaluate accuracy at end of each epoch\n",
        "        model.eval()\n",
        "        y_pred = model(X_test)\n",
        "        mse = loss_fn(y_pred, y_test)\n",
        "        mse = float(mse)\n",
        "        history.append(mse)\n",
        "        if mse < best_mse:\n",
        "            best_mse = mse\n",
        "            best_weights = copy.deepcopy(model.state_dict())\n",
        "\n",
        "        # restore model and return best accuracy\n",
        "        model.load_state_dict(best_weights)\n",
        "        y_predict = model(X_train)\n",
        "        mse_train = loss_fn(y_predict, y_train)\n",
        "        mse_train = float(mse_train)\n",
        "        history_train.append(mse_train)\n",
        "        if mse_train < best_mse_train:\n",
        "            best_mse_train = mse_train\n",
        "\n",
        "    errortrain_neuron_num.append(best_mse_train)\n",
        "    errortest_neuron_num.append(best_mse)\n",
        "\n",
        "\n",
        "print(\"#######################################################################\")\n",
        "print(\"MSE Train: %.2f\" % best_mse_train)\n",
        "print(\"RMSE Train: %.2f\" % np.sqrt(best_mse_train))\n",
        "\n",
        "print(\"MSE Test: %.2f\" % best_mse)\n",
        "print(\"RMSE Test: %.2f\" % np.sqrt(best_mse))\n",
        "\n",
        "plt.plot(history)\n",
        "plt.show()\n"
      ],
      "metadata": {
        "colab": {
          "base_uri": "https://localhost:8080/",
          "height": 577
        },
        "id": "0MIfVjOFowrO",
        "outputId": "df87d7ac-7b81-491e-8f4f-06b0f2316d43"
      },
      "execution_count": 13,
      "outputs": [
        {
          "output_type": "stream",
          "name": "stderr",
          "text": [
            "/usr/local/lib/python3.10/dist-packages/torch/nn/modules/loss.py:536: UserWarning: Using a target size (torch.Size([10])) that is different to the input size (torch.Size([10, 1])). This will likely lead to incorrect results due to broadcasting. Please ensure they have the same size.\n",
            "  return F.mse_loss(input, target, reduction=self.reduction)\n",
            "/usr/local/lib/python3.10/dist-packages/torch/nn/modules/loss.py:536: UserWarning: Using a target size (torch.Size([2])) that is different to the input size (torch.Size([2, 1])). This will likely lead to incorrect results due to broadcasting. Please ensure they have the same size.\n",
            "  return F.mse_loss(input, target, reduction=self.reduction)\n",
            "/usr/local/lib/python3.10/dist-packages/torch/nn/modules/loss.py:536: UserWarning: Using a target size (torch.Size([2106])) that is different to the input size (torch.Size([2106, 1])). This will likely lead to incorrect results due to broadcasting. Please ensure they have the same size.\n",
            "  return F.mse_loss(input, target, reduction=self.reduction)\n",
            "/usr/local/lib/python3.10/dist-packages/torch/nn/modules/loss.py:536: UserWarning: Using a target size (torch.Size([4912])) that is different to the input size (torch.Size([4912, 1])). This will likely lead to incorrect results due to broadcasting. Please ensure they have the same size.\n",
            "  return F.mse_loss(input, target, reduction=self.reduction)\n"
          ]
        },
        {
          "output_type": "stream",
          "name": "stdout",
          "text": [
            "#######################################################################\n",
            "MSE Train: 65.73\n",
            "RMSE Train: 8.11\n",
            "MSE Test: 156.40\n",
            "RMSE Test: 12.51\n"
          ]
        },
        {
          "output_type": "display_data",
          "data": {
            "text/plain": [
              "<Figure size 2000x400 with 1 Axes>"
            ],
            "image/png": "[encoded data removed]"
          },
          "metadata": {}
        }
      ]
    },
    {
      "cell_type": "markdown",
      "source": [
        "# **Playing with activation functions**\n",
        "\n",
        "We investigated two activation functions in the following conditions:\n",
        "\n",
        "1- One layer with 400 neurons with Sigmoid activation function\n",
        "\n",
        "2- Two layers with [400 10] neurons with Sigmoid activation function\n",
        "\n",
        "3- One layer with 400 neurons with Tanh activation function\n",
        "\n",
        "4- Two layers with [400 10] neurons with Tanh activation function"
      ],
      "metadata": {
        "id": "-bHmYC65zqJH"
      }
    },
    {
      "cell_type": "code",
      "source": [
        "# @title **1st condition** :  One layer with 400 neurons with Sigmoid activation function\n",
        "\n",
        "\n",
        "errortest_neuron_num = []\n",
        "errortrain_neuron_num = []\n",
        "\n",
        "for num_neuron in [400]:     # first layer # there is no need for \"for\", it is just a fast draft of chaning the code for our investigation\n",
        "\n",
        "    model = nn.Sequential(\n",
        "    nn.Linear(500, num_neuron),\n",
        "    nn.Sigmoid(),\n",
        "    nn.Linear(num_neuron, 1)\n",
        "    )\n",
        "\n",
        "    # loss function and optimizer\n",
        "    loss_fn = nn.MSELoss()  # mean square error\n",
        "    optimizer = optim.Adam(model.parameters(), lr=0.0001)\n",
        "\n",
        "\n",
        "    # train-test split for model evaluation\n",
        "    X_train_raw, X_test_raw, y_train, y_test = train_test_split(X, y, train_size=0.7, shuffle=False)\n",
        "\n",
        "    # Standardizing data\n",
        "    scaler = StandardScaler()\n",
        "    scaler.fit(X_train_raw)\n",
        "    X_train = scaler.transform(X_train_raw)\n",
        "    X_test = scaler.transform(X_test_raw)\n",
        "\n",
        "    X_train = torch.tensor(X_train, dtype=torch.float32)\n",
        "    X_test = torch.tensor(X_test, dtype=torch.float32)\n",
        "    y_test = torch.tensor(y_test, dtype=torch.float32)#.reshape(-1, 1)\n",
        "    y_train = torch.tensor(y_train, dtype=torch.float32)#.reshape(-1, 1)\n",
        "\n",
        "\n",
        "    # training parameters\n",
        "    n_epochs = 100   # number of epochs to run\n",
        "    batch_size = 10  # size of each batch\n",
        "    batch_start = torch.arange(0, len(X_train), batch_size)\n",
        "\n",
        "    # Hold the best model\n",
        "    best_mse = np.inf   # init to infinity\n",
        "    best_mse_train = np.inf\n",
        "    best_weights = None\n",
        "    history = []\n",
        "    history_train = []\n",
        "\n",
        "    # training loop\n",
        "    for epoch in range(n_epochs):\n",
        "        model.train()\n",
        "        with tqdm.tqdm(batch_start, unit=\"batch\", mininterval=0, disable=True) as bar:\n",
        "            bar.set_description(f\"Epoch {epoch}\")\n",
        "            for start in bar:\n",
        "                # take a batch\n",
        "                X_batch = X_train[start:start+batch_size]\n",
        "                y_batch = y_train[start:start+batch_size]\n",
        "                # forward pass\n",
        "                y_pred = model(X_batch)\n",
        "                loss = loss_fn(y_pred, y_batch)\n",
        "                # backward pass\n",
        "                optimizer.zero_grad()\n",
        "                loss.backward()\n",
        "                # update weights\n",
        "                optimizer.step()\n",
        "                # print progress\n",
        "                bar.set_postfix(mse=float(loss))\n",
        "        # evaluate accuracy at end of each epoch\n",
        "        model.eval()\n",
        "        y_pred = model(X_test)\n",
        "        mse = loss_fn(y_pred, y_test)\n",
        "        mse = float(mse)\n",
        "        history.append(mse)\n",
        "        if mse < best_mse:\n",
        "            best_mse = mse\n",
        "            best_weights = copy.deepcopy(model.state_dict())\n",
        "\n",
        "        # restore model and return best accuracy\n",
        "        model.load_state_dict(best_weights)\n",
        "        y_predict = model(X_train)\n",
        "        mse_train = loss_fn(y_predict, y_train)\n",
        "        mse_train = float(mse_train)\n",
        "        history_train.append(mse_train)\n",
        "        if mse_train < best_mse_train:\n",
        "            best_mse_train = mse_train\n",
        "\n",
        "    errortrain_neuron_num.append(best_mse_train)\n",
        "    errortest_neuron_num.append(best_mse)\n",
        "\n",
        "\n",
        "print(\"#######################################################################\")\n",
        "print(\"MSE Train: %.2f\" % best_mse_train)\n",
        "print(\"RMSE Train: %.2f\" % np.sqrt(best_mse_train))\n",
        "\n",
        "print(\"MSE Test: %.2f\" % best_mse)\n",
        "print(\"RMSE Test: %.2f\" % np.sqrt(best_mse))\n",
        "\n",
        "plt.plot(history)\n",
        "plt.show()\n",
        "\n",
        "\n"
      ],
      "metadata": {
        "id": "5gCsrAVwzg9I"
      },
      "execution_count": null,
      "outputs": []
    },
    {
      "cell_type": "code",
      "source": [
        "# @title **2ed condition** : Two layers with [400 10] neurons with Sigmoid activation function\n",
        "\n",
        "errortest_neuron_num = []\n",
        "errortrain_neuron_num = []\n",
        "\n",
        "num_neuron2 = 10  #secend layer\n",
        "\n",
        "for num_neuron in [400]:     # first layer # there is no need for \"for\", it is just a fast draft of chaning the code for our investigation\n",
        "\n",
        "    model = nn.Sequential(\n",
        "    nn.Linear(500, num_neuron),\n",
        "    nn.Sigmoid(),\n",
        "    nn.Linear(num_neuron, num_neuron2),\n",
        "    nn.Sigmoid(),\n",
        "    nn.Linear(num_neuron2, 1)\n",
        "    )\n",
        "\n",
        "    # loss function and optimizer\n",
        "    loss_fn = nn.MSELoss()  # mean square error\n",
        "    optimizer = optim.Adam(model.parameters(), lr=0.0001)\n",
        "\n",
        "\n",
        "    # train-test split for model evaluation\n",
        "    X_train_raw, X_test_raw, y_train, y_test = train_test_split(X, y, train_size=0.7, shuffle=False)\n",
        "\n",
        "    # Standardizing data\n",
        "    scaler = StandardScaler()\n",
        "    scaler.fit(X_train_raw)\n",
        "    X_train = scaler.transform(X_train_raw)\n",
        "    X_test = scaler.transform(X_test_raw)\n",
        "\n",
        "    X_train = torch.tensor(X_train, dtype=torch.float32)\n",
        "    X_test = torch.tensor(X_test, dtype=torch.float32)\n",
        "    y_test = torch.tensor(y_test, dtype=torch.float32)#.reshape(-1, 1)\n",
        "    y_train = torch.tensor(y_train, dtype=torch.float32)#.reshape(-1, 1)\n",
        "\n",
        "\n",
        "    # training parameters\n",
        "    n_epochs = 100   # number of epochs to run\n",
        "    batch_size = 10  # size of each batch\n",
        "    batch_start = torch.arange(0, len(X_train), batch_size)\n",
        "\n",
        "    # Hold the best model\n",
        "    best_mse = np.inf   # init to infinity\n",
        "    best_mse_train = np.inf\n",
        "    best_weights = None\n",
        "    history = []\n",
        "    history_train = []\n",
        "\n",
        "    # training loop\n",
        "    for epoch in range(n_epochs):\n",
        "        model.train()\n",
        "        with tqdm.tqdm(batch_start, unit=\"batch\", mininterval=0, disable=True) as bar:\n",
        "            bar.set_description(f\"Epoch {epoch}\")\n",
        "            for start in bar:\n",
        "                # take a batch\n",
        "                X_batch = X_train[start:start+batch_size]\n",
        "                y_batch = y_train[start:start+batch_size]\n",
        "                # forward pass\n",
        "                y_pred = model(X_batch)\n",
        "                loss = loss_fn(y_pred, y_batch)\n",
        "                # backward pass\n",
        "                optimizer.zero_grad()\n",
        "                loss.backward()\n",
        "                # update weights\n",
        "                optimizer.step()\n",
        "                # print progress\n",
        "                bar.set_postfix(mse=float(loss))\n",
        "        # evaluate accuracy at end of each epoch\n",
        "        model.eval()\n",
        "        y_pred = model(X_test)\n",
        "        mse = loss_fn(y_pred, y_test)\n",
        "        mse = float(mse)\n",
        "        history.append(mse)\n",
        "        if mse < best_mse:\n",
        "            best_mse = mse\n",
        "            best_weights = copy.deepcopy(model.state_dict())\n",
        "\n",
        "        # restore model and return best accuracy\n",
        "        model.load_state_dict(best_weights)\n",
        "        y_predict = model(X_train)\n",
        "        mse_train = loss_fn(y_predict, y_train)\n",
        "        mse_train = float(mse_train)\n",
        "        history_train.append(mse_train)\n",
        "        if mse_train < best_mse_train:\n",
        "            best_mse_train = mse_train\n",
        "\n",
        "    errortrain_neuron_num.append(best_mse_train)\n",
        "    errortest_neuron_num.append(best_mse)\n",
        "\n",
        "\n",
        "print(\"#######################################################################\")\n",
        "print(\"MSE Train: %.2f\" % best_mse_train)\n",
        "print(\"RMSE Train: %.2f\" % np.sqrt(best_mse_train))\n",
        "\n",
        "print(\"MSE Test: %.2f\" % best_mse)\n",
        "print(\"RMSE Test: %.2f\" % np.sqrt(best_mse))\n",
        "\n",
        "plt.plot(history)\n",
        "plt.show()\n",
        "\n",
        "\n"
      ],
      "metadata": {
        "id": "WEyBXOCy0hpA"
      },
      "execution_count": null,
      "outputs": []
    },
    {
      "cell_type": "code",
      "source": [
        "# @title **3rd condition** :  One layer with 400 neurons with Tanh activation function\n",
        "\n",
        "\n",
        "errortest_neuron_num = []\n",
        "errortrain_neuron_num = []\n",
        "\n",
        "for num_neuron in [400]:     # first layer # there is no need for \"for\", it is just a fast draft of chaning the code for our investigation\n",
        "\n",
        "    model = nn.Sequential(\n",
        "    nn.Linear(500, num_neuron),\n",
        "    nn.Tanh(),\n",
        "    nn.Linear(num_neuron, 1)\n",
        "    )\n",
        "\n",
        "    # loss function and optimizer\n",
        "    loss_fn = nn.MSELoss()  # mean square error\n",
        "    optimizer = optim.Adam(model.parameters(), lr=0.0001)\n",
        "\n",
        "\n",
        "    # train-test split for model evaluation\n",
        "    X_train_raw, X_test_raw, y_train, y_test = train_test_split(X, y, train_size=0.7, shuffle=False)\n",
        "\n",
        "    # Standardizing data\n",
        "    scaler = StandardScaler()\n",
        "    scaler.fit(X_train_raw)\n",
        "    X_train = scaler.transform(X_train_raw)\n",
        "    X_test = scaler.transform(X_test_raw)\n",
        "\n",
        "    X_train = torch.tensor(X_train, dtype=torch.float32)\n",
        "    X_test = torch.tensor(X_test, dtype=torch.float32)\n",
        "    y_test = torch.tensor(y_test, dtype=torch.float32)#.reshape(-1, 1)\n",
        "    y_train = torch.tensor(y_train, dtype=torch.float32)#.reshape(-1, 1)\n",
        "\n",
        "\n",
        "    # training parameters\n",
        "    n_epochs = 100   # number of epochs to run\n",
        "    batch_size = 10  # size of each batch\n",
        "    batch_start = torch.arange(0, len(X_train), batch_size)\n",
        "\n",
        "    # Hold the best model\n",
        "    best_mse = np.inf   # init to infinity\n",
        "    best_mse_train = np.inf\n",
        "    best_weights = None\n",
        "    history = []\n",
        "    history_train = []\n",
        "\n",
        "    # training loop\n",
        "    for epoch in range(n_epochs):\n",
        "        model.train()\n",
        "        with tqdm.tqdm(batch_start, unit=\"batch\", mininterval=0, disable=True) as bar:\n",
        "            bar.set_description(f\"Epoch {epoch}\")\n",
        "            for start in bar:\n",
        "                # take a batch\n",
        "                X_batch = X_train[start:start+batch_size]\n",
        "                y_batch = y_train[start:start+batch_size]\n",
        "                # forward pass\n",
        "                y_pred = model(X_batch)\n",
        "                loss = loss_fn(y_pred, y_batch)\n",
        "                # backward pass\n",
        "                optimizer.zero_grad()\n",
        "                loss.backward()\n",
        "                # update weights\n",
        "                optimizer.step()\n",
        "                # print progress\n",
        "                bar.set_postfix(mse=float(loss))\n",
        "        # evaluate accuracy at end of each epoch\n",
        "        model.eval()\n",
        "        y_pred = model(X_test)\n",
        "        mse = loss_fn(y_pred, y_test)\n",
        "        mse = float(mse)\n",
        "        history.append(mse)\n",
        "        if mse < best_mse:\n",
        "            best_mse = mse\n",
        "            best_weights = copy.deepcopy(model.state_dict())\n",
        "\n",
        "        # restore model and return best accuracy\n",
        "        model.load_state_dict(best_weights)\n",
        "        y_predict = model(X_train)\n",
        "        mse_train = loss_fn(y_predict, y_train)\n",
        "        mse_train = float(mse_train)\n",
        "        history_train.append(mse_train)\n",
        "        if mse_train < best_mse_train:\n",
        "            best_mse_train = mse_train\n",
        "\n",
        "    errortrain_neuron_num.append(best_mse_train)\n",
        "    errortest_neuron_num.append(best_mse)\n",
        "\n",
        "\n",
        "print(\"#######################################################################\")\n",
        "print(\"MSE Train: %.2f\" % best_mse_train)\n",
        "print(\"RMSE Train: %.2f\" % np.sqrt(best_mse_train))\n",
        "\n",
        "print(\"MSE Test: %.2f\" % best_mse)\n",
        "print(\"RMSE Test: %.2f\" % np.sqrt(best_mse))\n",
        "\n",
        "plt.plot(history)\n",
        "plt.show()\n"
      ],
      "metadata": {
        "id": "S9srIayV0xJC"
      },
      "execution_count": null,
      "outputs": []
    },
    {
      "cell_type": "code",
      "source": [
        "# @title **4th condition** : Two layers with [400 10] neurons with Tanh activation function\n",
        "\n",
        "errortest_neuron_num = []\n",
        "errortrain_neuron_num = []\n",
        "\n",
        "num_neuron2 = 10  #secend layer\n",
        "\n",
        "for num_neuron in [400]:     # first layer # there is no need for \"for\", it is just a fast draft of chaning the code for our investigation\n",
        "\n",
        "    model = nn.Sequential(\n",
        "    nn.Linear(500, num_neuron),\n",
        "    nn.Tanh(),\n",
        "    nn.Linear(num_neuron, num_neuron2),\n",
        "    nn.Tanh(),\n",
        "    nn.Linear(num_neuron2, 1)\n",
        "    )\n",
        "\n",
        "    # loss function and optimizer\n",
        "    loss_fn = nn.MSELoss()  # mean square error\n",
        "    optimizer = optim.Adam(model.parameters(), lr=0.0001)\n",
        "\n",
        "\n",
        "    # train-test split for model evaluation\n",
        "    X_train_raw, X_test_raw, y_train, y_test = train_test_split(X, y, train_size=0.7, shuffle=False)\n",
        "\n",
        "    # Standardizing data\n",
        "    scaler = StandardScaler()\n",
        "    scaler.fit(X_train_raw)\n",
        "    X_train = scaler.transform(X_train_raw)\n",
        "    X_test = scaler.transform(X_test_raw)\n",
        "\n",
        "    X_train = torch.tensor(X_train, dtype=torch.float32)\n",
        "    X_test = torch.tensor(X_test, dtype=torch.float32)\n",
        "    y_test = torch.tensor(y_test, dtype=torch.float32)#.reshape(-1, 1)\n",
        "    y_train = torch.tensor(y_train, dtype=torch.float32)#.reshape(-1, 1)\n",
        "\n",
        "\n",
        "    # training parameters\n",
        "    n_epochs = 100   # number of epochs to run\n",
        "    batch_size = 10  # size of each batch\n",
        "    batch_start = torch.arange(0, len(X_train), batch_size)\n",
        "\n",
        "    # Hold the best model\n",
        "    best_mse = np.inf   # init to infinity\n",
        "    best_mse_train = np.inf\n",
        "    best_weights = None\n",
        "    history = []\n",
        "    history_train = []\n",
        "\n",
        "    # training loop\n",
        "    for epoch in range(n_epochs):\n",
        "        model.train()\n",
        "        with tqdm.tqdm(batch_start, unit=\"batch\", mininterval=0, disable=True) as bar:\n",
        "            bar.set_description(f\"Epoch {epoch}\")\n",
        "            for start in bar:\n",
        "                # take a batch\n",
        "                X_batch = X_train[start:start+batch_size]\n",
        "                y_batch = y_train[start:start+batch_size]\n",
        "                # forward pass\n",
        "                y_pred = model(X_batch)\n",
        "                loss = loss_fn(y_pred, y_batch)\n",
        "                # backward pass\n",
        "                optimizer.zero_grad()\n",
        "                loss.backward()\n",
        "                # update weights\n",
        "                optimizer.step()\n",
        "                # print progress\n",
        "                bar.set_postfix(mse=float(loss))\n",
        "        # evaluate accuracy at end of each epoch\n",
        "        model.eval()\n",
        "        y_pred = model(X_test)\n",
        "        mse = loss_fn(y_pred, y_test)\n",
        "        mse = float(mse)\n",
        "        history.append(mse)\n",
        "        if mse < best_mse:\n",
        "            best_mse = mse\n",
        "            best_weights = copy.deepcopy(model.state_dict())\n",
        "\n",
        "        # restore model and return best accuracy\n",
        "        model.load_state_dict(best_weights)\n",
        "        y_predict = model(X_train)\n",
        "        mse_train = loss_fn(y_predict, y_train)\n",
        "        mse_train = float(mse_train)\n",
        "        history_train.append(mse_train)\n",
        "        if mse_train < best_mse_train:\n",
        "            best_mse_train = mse_train\n",
        "\n",
        "    errortrain_neuron_num.append(best_mse_train)\n",
        "    errortest_neuron_num.append(best_mse)\n",
        "\n",
        "\n",
        "print(\"#######################################################################\")\n",
        "print(\"MSE Train: %.2f\" % best_mse_train)\n",
        "print(\"RMSE Train: %.2f\" % np.sqrt(best_mse_train))\n",
        "\n",
        "print(\"MSE Test: %.2f\" % best_mse)\n",
        "print(\"RMSE Test: %.2f\" % np.sqrt(best_mse))\n",
        "\n",
        "plt.plot(history)\n",
        "plt.show()\n",
        "\n",
        "\n"
      ],
      "metadata": {
        "id": "bX6BQGt606bw"
      },
      "execution_count": null,
      "outputs": []
    },
    {
      "cell_type": "markdown",
      "source": [
        "# **Playing with number of PCs in PCA**\n",
        "\n",
        "Number of PCs are changed from 10 to 1000 by step 10"
      ],
      "metadata": {
        "id": "4xvwTTugqrjf"
      }
    },
    {
      "cell_type": "code",
      "source": [
        "import torch.nn as nn\n",
        "import torch.nn as nn\n",
        "import torch.optim as optim\n",
        "import copy\n",
        "import numpy as np\n",
        "import torch\n",
        "import tqdm\n",
        "from sklearn.model_selection import train_test_split\n",
        "from sklearn.preprocessing import StandardScaler\n",
        "\n",
        "\n",
        "errortest_neuron_num = []\n",
        "errortrain_neuron_num = []\n",
        "# Dimension Reduction of the Input using PCA\n",
        "for num_PC in np.arange(10, 1000, step = 10):\n",
        "    neural_activity = dat['sresp']    # Input\n",
        "    neural_activity = np.transpose(neural_activity)\n",
        "    pca_model = PCA(n_components=num_PC)\n",
        "    reduced = pca_model.fit_transform(neural_activity)\n",
        "    component = pca_model.components_\n",
        "    neural_activity = reduced\n",
        "    print(neural_activity.shape)\n",
        "    # print(component.shape)\n",
        "\n",
        "\n",
        "    X = neural_activity\n",
        "    y = runspeed\n",
        "    print('Input shape:  ', X.shape)\n",
        "    print('Output shape:  ', y.shape)\n",
        "\n",
        "    for num_neuron in [400]:\n",
        "\n",
        "        model = nn.Sequential(\n",
        "        nn.Linear(num_PC, num_neuron),\n",
        "        nn.ReLU(),\n",
        "        nn.Linear(num_neuron, 1)\n",
        "        )\n",
        "\n",
        "        # loss function and optimizer\n",
        "        loss_fn = nn.MSELoss()  # mean square error\n",
        "        optimizer = optim.Adam(model.parameters(), lr=0.0001)\n",
        "\n",
        "\n",
        "        # train-test split for model evaluation\n",
        "        X_train_raw, X_test_raw, y_train, y_test = train_test_split(X, y, train_size=0.7, shuffle=False)\n",
        "\n",
        "        # Standardizing data\n",
        "        scaler = StandardScaler()\n",
        "        scaler.fit(X_train_raw)\n",
        "        X_train = scaler.transform(X_train_raw)\n",
        "        X_test = scaler.transform(X_test_raw)\n",
        "\n",
        "        X_train = torch.tensor(X_train, dtype=torch.float32)\n",
        "        X_test = torch.tensor(X_test, dtype=torch.float32)\n",
        "        y_test = torch.tensor(y_test, dtype=torch.float32)#.reshape(-1, 1)\n",
        "        y_train = torch.tensor(y_train, dtype=torch.float32)#.reshape(-1, 1)\n",
        "\n",
        "\n",
        "\n",
        "        print('X train shape:  ', X_train.shape)\n",
        "        print('y train shape:  ',y_train.shape)\n",
        "        print('X test shape:   ', X_test.shape)\n",
        "        print('y test shape:  ', y_test.shape)\n",
        "\n",
        "        # training parameters\n",
        "        n_epochs = 100   # number of epochs to run\n",
        "        batch_size = 10  # size of each batch\n",
        "        batch_start = torch.arange(0, len(X_train), batch_size)\n",
        "\n",
        "        # Hold the best model\n",
        "        best_mse = np.inf   # init to infinity\n",
        "        best_mse_train = np.inf\n",
        "        best_weights = None\n",
        "        history = []\n",
        "        history_train = []\n",
        "\n",
        "\n",
        "        # training loop\n",
        "        for epoch in range(n_epochs):\n",
        "            model.train()\n",
        "            with tqdm.tqdm(batch_start, unit=\"batch\", mininterval=0, disable=True) as bar:\n",
        "                bar.set_description(f\"Epoch {epoch}\")\n",
        "                for start in bar:\n",
        "                    # take a batch\n",
        "                    X_batch = X_train[start:start+batch_size]\n",
        "                    y_batch = y_train[start:start+batch_size]\n",
        "                    # forward pass\n",
        "                    y_pred = model(X_batch)\n",
        "                    loss = loss_fn(y_pred, y_batch)\n",
        "                    # backward pass\n",
        "                    optimizer.zero_grad()\n",
        "                    loss.backward()\n",
        "                    # update weights\n",
        "                    optimizer.step()\n",
        "                    # print progress\n",
        "                    bar.set_postfix(mse=float(loss))\n",
        "            # evaluate accuracy at end of each epoch\n",
        "            model.eval()\n",
        "            y_pred = model(X_test)\n",
        "            mse = loss_fn(y_pred, y_test)\n",
        "            mse = float(mse)\n",
        "            history.append(mse)\n",
        "            if mse < best_mse:\n",
        "                best_mse = mse\n",
        "                best_weights = copy.deepcopy(model.state_dict())\n",
        "\n",
        "            # restore model and return best accuracy\n",
        "            model.load_state_dict(best_weights)\n",
        "            y_predict = model(X_train)\n",
        "            mse_train = loss_fn(y_predict, y_train)\n",
        "            mse_train = float(mse_train)\n",
        "            history_train.append(mse_train)\n",
        "            if mse_train < best_mse_train:\n",
        "                best_mse_train = mse_train\n",
        "\n",
        "    errortrain_neuron_num.append(best_mse_train)\n",
        "    errortest_neuron_num.append(best_mse)\n"
      ],
      "metadata": {
        "colab": {
          "base_uri": "https://localhost:8080/",
          "height": 1000
        },
        "id": "WZHTvqNzqdbQ",
        "outputId": "34a71012-72d0-45b6-ac91-6f2269b1e2dc"
      },
      "execution_count": 19,
      "outputs": [
        {
          "metadata": {
            "tags": null
          },
          "name": "stdout",
          "output_type": "stream",
          "text": [
            "(7018, 10)\n",
            "Input shape:   (7018, 10)\n",
            "Output shape:   (7018,)\n",
            "X train shape:   torch.Size([4912, 10])\n",
            "y train shape:   torch.Size([4912])\n",
            "X test shape:    torch.Size([2106, 10])\n",
            "y test shape:   torch.Size([2106])\n"
          ]
        },
        {
          "metadata": {
            "tags": null
          },
          "name": "stderr",
          "output_type": "stream",
          "text": [
            "/usr/local/lib/python3.10/dist-packages/torch/nn/modules/loss.py:536: UserWarning: Using a target size (torch.Size([10])) that is different to the input size (torch.Size([10, 1])). This will likely lead to incorrect results due to broadcasting. Please ensure they have the same size.\n",
            "  return F.mse_loss(input, target, reduction=self.reduction)\n",
            "/usr/local/lib/python3.10/dist-packages/torch/nn/modules/loss.py:536: UserWarning: Using a target size (torch.Size([2])) that is different to the input size (torch.Size([2, 1])). This will likely lead to incorrect results due to broadcasting. Please ensure they have the same size.\n",
            "  return F.mse_loss(input, target, reduction=self.reduction)\n",
            "/usr/local/lib/python3.10/dist-packages/torch/nn/modules/loss.py:536: UserWarning: Using a target size (torch.Size([2106])) that is different to the input size (torch.Size([2106, 1])). This will likely lead to incorrect results due to broadcasting. Please ensure they have the same size.\n",
            "  return F.mse_loss(input, target, reduction=self.reduction)\n",
            "/usr/local/lib/python3.10/dist-packages/torch/nn/modules/loss.py:536: UserWarning: Using a target size (torch.Size([4912])) that is different to the input size (torch.Size([4912, 1])). This will likely lead to incorrect results due to broadcasting. Please ensure they have the same size.\n",
            "  return F.mse_loss(input, target, reduction=self.reduction)\n"
          ]
        },
        {
          "metadata": {
            "tags": null
          },
          "name": "stdout",
          "output_type": "stream",
          "text": [
            "(7018, 20)\n",
            "Input shape:   (7018, 20)\n",
            "Output shape:   (7018,)\n",
            "X train shape:   torch.Size([4912, 20])\n",
            "y train shape:   torch.Size([4912])\n",
            "X test shape:    torch.Size([2106, 20])\n",
            "y test shape:   torch.Size([2106])\n"
          ]
        },
        {
          "metadata": {
            "tags": null
          },
          "name": "stderr",
          "output_type": "stream",
          "text": [
            "/usr/local/lib/python3.10/dist-packages/torch/nn/modules/loss.py:536: UserWarning: Using a target size (torch.Size([10])) that is different to the input size (torch.Size([10, 1])). This will likely lead to incorrect results due to broadcasting. Please ensure they have the same size.\n",
            "  return F.mse_loss(input, target, reduction=self.reduction)\n",
            "/usr/local/lib/python3.10/dist-packages/torch/nn/modules/loss.py:536: UserWarning: Using a target size (torch.Size([2])) that is different to the input size (torch.Size([2, 1])). This will likely lead to incorrect results due to broadcasting. Please ensure they have the same size.\n",
            "  return F.mse_loss(input, target, reduction=self.reduction)\n",
            "/usr/local/lib/python3.10/dist-packages/torch/nn/modules/loss.py:536: UserWarning: Using a target size (torch.Size([2106])) that is different to the input size (torch.Size([2106, 1])). This will likely lead to incorrect results due to broadcasting. Please ensure they have the same size.\n",
            "  return F.mse_loss(input, target, reduction=self.reduction)\n",
            "/usr/local/lib/python3.10/dist-packages/torch/nn/modules/loss.py:536: UserWarning: Using a target size (torch.Size([4912])) that is different to the input size (torch.Size([4912, 1])). This will likely lead to incorrect results due to broadcasting. Please ensure they have the same size.\n",
            "  return F.mse_loss(input, target, reduction=self.reduction)\n"
          ]
        },
        {
          "metadata": {
            "tags": null
          },
          "name": "stdout",
          "output_type": "stream",
          "text": [
            "(7018, 30)\n",
            "Input shape:   (7018, 30)\n",
            "Output shape:   (7018,)\n",
            "X train shape:   torch.Size([4912, 30])\n",
            "y train shape:   torch.Size([4912])\n",
            "X test shape:    torch.Size([2106, 30])\n",
            "y test shape:   torch.Size([2106])\n"
          ]
        },
        {
          "metadata": {
            "tags": null
          },
          "name": "stderr",
          "output_type": "stream",
          "text": [
            "/usr/local/lib/python3.10/dist-packages/torch/nn/modules/loss.py:536: UserWarning: Using a target size (torch.Size([10])) that is different to the input size (torch.Size([10, 1])). This will likely lead to incorrect results due to broadcasting. Please ensure they have the same size.\n",
            "  return F.mse_loss(input, target, reduction=self.reduction)\n",
            "/usr/local/lib/python3.10/dist-packages/torch/nn/modules/loss.py:536: UserWarning: Using a target size (torch.Size([2])) that is different to the input size (torch.Size([2, 1])). This will likely lead to incorrect results due to broadcasting. Please ensure they have the same size.\n",
            "  return F.mse_loss(input, target, reduction=self.reduction)\n",
            "/usr/local/lib/python3.10/dist-packages/torch/nn/modules/loss.py:536: UserWarning: Using a target size (torch.Size([2106])) that is different to the input size (torch.Size([2106, 1])). This will likely lead to incorrect results due to broadcasting. Please ensure they have the same size.\n",
            "  return F.mse_loss(input, target, reduction=self.reduction)\n",
            "/usr/local/lib/python3.10/dist-packages/torch/nn/modules/loss.py:536: UserWarning: Using a target size (torch.Size([4912])) that is different to the input size (torch.Size([4912, 1])). This will likely lead to incorrect results due to broadcasting. Please ensure they have the same size.\n",
            "  return F.mse_loss(input, target, reduction=self.reduction)\n"
          ]
        },
        {
          "metadata": {
            "tags": null
          },
          "name": "stdout",
          "output_type": "stream",
          "text": [
            "(7018, 40)\n",
            "Input shape:   (7018, 40)\n",
            "Output shape:   (7018,)\n",
            "X train shape:   torch.Size([4912, 40])\n",
            "y train shape:   torch.Size([4912])\n",
            "X test shape:    torch.Size([2106, 40])\n",
            "y test shape:   torch.Size([2106])\n"
          ]
        },
        {
          "metadata": {
            "tags": null
          },
          "name": "stderr",
          "output_type": "stream",
          "text": [
            "/usr/local/lib/python3.10/dist-packages/torch/nn/modules/loss.py:536: UserWarning: Using a target size (torch.Size([10])) that is different to the input size (torch.Size([10, 1])). This will likely lead to incorrect results due to broadcasting. Please ensure they have the same size.\n",
            "  return F.mse_loss(input, target, reduction=self.reduction)\n",
            "/usr/local/lib/python3.10/dist-packages/torch/nn/modules/loss.py:536: UserWarning: Using a target size (torch.Size([2])) that is different to the input size (torch.Size([2, 1])). This will likely lead to incorrect results due to broadcasting. Please ensure they have the same size.\n",
            "  return F.mse_loss(input, target, reduction=self.reduction)\n",
            "/usr/local/lib/python3.10/dist-packages/torch/nn/modules/loss.py:536: UserWarning: Using a target size (torch.Size([2106])) that is different to the input size (torch.Size([2106, 1])). This will likely lead to incorrect results due to broadcasting. Please ensure they have the same size.\n",
            "  return F.mse_loss(input, target, reduction=self.reduction)\n",
            "/usr/local/lib/python3.10/dist-packages/torch/nn/modules/loss.py:536: UserWarning: Using a target size (torch.Size([4912])) that is different to the input size (torch.Size([4912, 1])). This will likely lead to incorrect results due to broadcasting. Please ensure they have the same size.\n",
            "  return F.mse_loss(input, target, reduction=self.reduction)\n"
          ]
        },
        {
          "metadata": {
            "tags": null
          },
          "name": "stdout",
          "output_type": "stream",
          "text": [
            "(7018, 50)\n",
            "Input shape:   (7018, 50)\n",
            "Output shape:   (7018,)\n",
            "X train shape:   torch.Size([4912, 50])\n",
            "y train shape:   torch.Size([4912])\n",
            "X test shape:    torch.Size([2106, 50])\n",
            "y test shape:   torch.Size([2106])\n"
          ]
        },
        {
          "metadata": {
            "tags": null
          },
          "name": "stderr",
          "output_type": "stream",
          "text": [
            "/usr/local/lib/python3.10/dist-packages/torch/nn/modules/loss.py:536: UserWarning: Using a target size (torch.Size([10])) that is different to the input size (torch.Size([10, 1])). This will likely lead to incorrect results due to broadcasting. Please ensure they have the same size.\n",
            "  return F.mse_loss(input, target, reduction=self.reduction)\n",
            "/usr/local/lib/python3.10/dist-packages/torch/nn/modules/loss.py:536: UserWarning: Using a target size (torch.Size([2])) that is different to the input size (torch.Size([2, 1])). This will likely lead to incorrect results due to broadcasting. Please ensure they have the same size.\n",
            "  return F.mse_loss(input, target, reduction=self.reduction)\n",
            "/usr/local/lib/python3.10/dist-packages/torch/nn/modules/loss.py:536: UserWarning: Using a target size (torch.Size([2106])) that is different to the input size (torch.Size([2106, 1])). This will likely lead to incorrect results due to broadcasting. Please ensure they have the same size.\n",
            "  return F.mse_loss(input, target, reduction=self.reduction)\n",
            "/usr/local/lib/python3.10/dist-packages/torch/nn/modules/loss.py:536: UserWarning: Using a target size (torch.Size([4912])) that is different to the input size (torch.Size([4912, 1])). This will likely lead to incorrect results due to broadcasting. Please ensure they have the same size.\n",
            "  return F.mse_loss(input, target, reduction=self.reduction)\n"
          ]
        },
        {
          "metadata": {
            "tags": null
          },
          "name": "stdout",
          "output_type": "stream",
          "text": [
            "(7018, 60)\n",
            "Input shape:   (7018, 60)\n",
            "Output shape:   (7018,)\n",
            "X train shape:   torch.Size([4912, 60])\n",
            "y train shape:   torch.Size([4912])\n",
            "X test shape:    torch.Size([2106, 60])\n",
            "y test shape:   torch.Size([2106])\n"
          ]
        },
        {
          "metadata": {
            "tags": null
          },
          "name": "stderr",
          "output_type": "stream",
          "text": [
            "/usr/local/lib/python3.10/dist-packages/torch/nn/modules/loss.py:536: UserWarning: Using a target size (torch.Size([10])) that is different to the input size (torch.Size([10, 1])). This will likely lead to incorrect results due to broadcasting. Please ensure they have the same size.\n",
            "  return F.mse_loss(input, target, reduction=self.reduction)\n",
            "/usr/local/lib/python3.10/dist-packages/torch/nn/modules/loss.py:536: UserWarning: Using a target size (torch.Size([2])) that is different to the input size (torch.Size([2, 1])). This will likely lead to incorrect results due to broadcasting. Please ensure they have the same size.\n",
            "  return F.mse_loss(input, target, reduction=self.reduction)\n",
            "/usr/local/lib/python3.10/dist-packages/torch/nn/modules/loss.py:536: UserWarning: Using a target size (torch.Size([2106])) that is different to the input size (torch.Size([2106, 1])). This will likely lead to incorrect results due to broadcasting. Please ensure they have the same size.\n",
            "  return F.mse_loss(input, target, reduction=self.reduction)\n",
            "/usr/local/lib/python3.10/dist-packages/torch/nn/modules/loss.py:536: UserWarning: Using a target size (torch.Size([4912])) that is different to the input size (torch.Size([4912, 1])). This will likely lead to incorrect results due to broadcasting. Please ensure they have the same size.\n",
            "  return F.mse_loss(input, target, reduction=self.reduction)\n"
          ]
        },
        {
          "metadata": {
            "tags": null
          },
          "name": "stdout",
          "output_type": "stream",
          "text": [
            "(7018, 70)\n",
            "Input shape:   (7018, 70)\n",
            "Output shape:   (7018,)\n",
            "X train shape:   torch.Size([4912, 70])\n",
            "y train shape:   torch.Size([4912])\n",
            "X test shape:    torch.Size([2106, 70])\n",
            "y test shape:   torch.Size([2106])\n"
          ]
        },
        {
          "metadata": {
            "tags": null
          },
          "name": "stderr",
          "output_type": "stream",
          "text": [
            "/usr/local/lib/python3.10/dist-packages/torch/nn/modules/loss.py:536: UserWarning: Using a target size (torch.Size([10])) that is different to the input size (torch.Size([10, 1])). This will likely lead to incorrect results due to broadcasting. Please ensure they have the same size.\n",
            "  return F.mse_loss(input, target, reduction=self.reduction)\n",
            "/usr/local/lib/python3.10/dist-packages/torch/nn/modules/loss.py:536: UserWarning: Using a target size (torch.Size([2])) that is different to the input size (torch.Size([2, 1])). This will likely lead to incorrect results due to broadcasting. Please ensure they have the same size.\n",
            "  return F.mse_loss(input, target, reduction=self.reduction)\n",
            "/usr/local/lib/python3.10/dist-packages/torch/nn/modules/loss.py:536: UserWarning: Using a target size (torch.Size([2106])) that is different to the input size (torch.Size([2106, 1])). This will likely lead to incorrect results due to broadcasting. Please ensure they have the same size.\n",
            "  return F.mse_loss(input, target, reduction=self.reduction)\n",
            "/usr/local/lib/python3.10/dist-packages/torch/nn/modules/loss.py:536: UserWarning: Using a target size (torch.Size([4912])) that is different to the input size (torch.Size([4912, 1])). This will likely lead to incorrect results due to broadcasting. Please ensure they have the same size.\n",
            "  return F.mse_loss(input, target, reduction=self.reduction)\n"
          ]
        },
        {
          "metadata": {
            "tags": null
          },
          "name": "stdout",
          "output_type": "stream",
          "text": [
            "(7018, 80)\n",
            "Input shape:   (7018, 80)\n",
            "Output shape:   (7018,)\n",
            "X train shape:   torch.Size([4912, 80])\n",
            "y train shape:   torch.Size([4912])\n",
            "X test shape:    torch.Size([2106, 80])\n",
            "y test shape:   torch.Size([2106])\n"
          ]
        },
        {
          "metadata": {
            "tags": null
          },
          "name": "stderr",
          "output_type": "stream",
          "text": [
            "/usr/local/lib/python3.10/dist-packages/torch/nn/modules/loss.py:536: UserWarning: Using a target size (torch.Size([10])) that is different to the input size (torch.Size([10, 1])). This will likely lead to incorrect results due to broadcasting. Please ensure they have the same size.\n",
            "  return F.mse_loss(input, target, reduction=self.reduction)\n",
            "/usr/local/lib/python3.10/dist-packages/torch/nn/modules/loss.py:536: UserWarning: Using a target size (torch.Size([2])) that is different to the input size (torch.Size([2, 1])). This will likely lead to incorrect results due to broadcasting. Please ensure they have the same size.\n",
            "  return F.mse_loss(input, target, reduction=self.reduction)\n",
            "/usr/local/lib/python3.10/dist-packages/torch/nn/modules/loss.py:536: UserWarning: Using a target size (torch.Size([2106])) that is different to the input size (torch.Size([2106, 1])). This will likely lead to incorrect results due to broadcasting. Please ensure they have the same size.\n",
            "  return F.mse_loss(input, target, reduction=self.reduction)\n",
            "/usr/local/lib/python3.10/dist-packages/torch/nn/modules/loss.py:536: UserWarning: Using a target size (torch.Size([4912])) that is different to the input size (torch.Size([4912, 1])). This will likely lead to incorrect results due to broadcasting. Please ensure they have the same size.\n",
            "  return F.mse_loss(input, target, reduction=self.reduction)\n"
          ]
        },
        {
          "metadata": {
            "tags": null
          },
          "name": "stdout",
          "output_type": "stream",
          "text": [
            "(7018, 90)\n",
            "Input shape:   (7018, 90)\n",
            "Output shape:   (7018,)\n",
            "X train shape:   torch.Size([4912, 90])\n",
            "y train shape:   torch.Size([4912])\n",
            "X test shape:    torch.Size([2106, 90])\n",
            "y test shape:   torch.Size([2106])\n"
          ]
        },
        {
          "metadata": {
            "tags": null
          },
          "name": "stderr",
          "output_type": "stream",
          "text": [
            "/usr/local/lib/python3.10/dist-packages/torch/nn/modules/loss.py:536: UserWarning: Using a target size (torch.Size([10])) that is different to the input size (torch.Size([10, 1])). This will likely lead to incorrect results due to broadcasting. Please ensure they have the same size.\n",
            "  return F.mse_loss(input, target, reduction=self.reduction)\n",
            "/usr/local/lib/python3.10/dist-packages/torch/nn/modules/loss.py:536: UserWarning: Using a target size (torch.Size([2])) that is different to the input size (torch.Size([2, 1])). This will likely lead to incorrect results due to broadcasting. Please ensure they have the same size.\n",
            "  return F.mse_loss(input, target, reduction=self.reduction)\n",
            "/usr/local/lib/python3.10/dist-packages/torch/nn/modules/loss.py:536: UserWarning: Using a target size (torch.Size([2106])) that is different to the input size (torch.Size([2106, 1])). This will likely lead to incorrect results due to broadcasting. Please ensure they have the same size.\n",
            "  return F.mse_loss(input, target, reduction=self.reduction)\n",
            "/usr/local/lib/python3.10/dist-packages/torch/nn/modules/loss.py:536: UserWarning: Using a target size (torch.Size([4912])) that is different to the input size (torch.Size([4912, 1])). This will likely lead to incorrect results due to broadcasting. Please ensure they have the same size.\n",
            "  return F.mse_loss(input, target, reduction=self.reduction)\n"
          ]
        },
        {
          "metadata": {
            "tags": null
          },
          "name": "stdout",
          "output_type": "stream",
          "text": [
            "(7018, 100)\n",
            "Input shape:   (7018, 100)\n",
            "Output shape:   (7018,)\n",
            "X train shape:   torch.Size([4912, 100])\n",
            "y train shape:   torch.Size([4912])\n",
            "X test shape:    torch.Size([2106, 100])\n",
            "y test shape:   torch.Size([2106])\n"
          ]
        },
        {
          "metadata": {
            "tags": null
          },
          "name": "stderr",
          "output_type": "stream",
          "text": [
            "/usr/local/lib/python3.10/dist-packages/torch/nn/modules/loss.py:536: UserWarning: Using a target size (torch.Size([10])) that is different to the input size (torch.Size([10, 1])). This will likely lead to incorrect results due to broadcasting. Please ensure they have the same size.\n",
            "  return F.mse_loss(input, target, reduction=self.reduction)\n",
            "/usr/local/lib/python3.10/dist-packages/torch/nn/modules/loss.py:536: UserWarning: Using a target size (torch.Size([2])) that is different to the input size (torch.Size([2, 1])). This will likely lead to incorrect results due to broadcasting. Please ensure they have the same size.\n",
            "  return F.mse_loss(input, target, reduction=self.reduction)\n",
            "/usr/local/lib/python3.10/dist-packages/torch/nn/modules/loss.py:536: UserWarning: Using a target size (torch.Size([2106])) that is different to the input size (torch.Size([2106, 1])). This will likely lead to incorrect results due to broadcasting. Please ensure they have the same size.\n",
            "  return F.mse_loss(input, target, reduction=self.reduction)\n",
            "/usr/local/lib/python3.10/dist-packages/torch/nn/modules/loss.py:536: UserWarning: Using a target size (torch.Size([4912])) that is different to the input size (torch.Size([4912, 1])). This will likely lead to incorrect results due to broadcasting. Please ensure they have the same size.\n",
            "  return F.mse_loss(input, target, reduction=self.reduction)\n"
          ]
        },
        {
          "metadata": {
            "tags": null
          },
          "name": "stdout",
          "output_type": "stream",
          "text": [
            "(7018, 110)\n",
            "Input shape:   (7018, 110)\n",
            "Output shape:   (7018,)\n",
            "X train shape:   torch.Size([4912, 110])\n",
            "y train shape:   torch.Size([4912])\n",
            "X test shape:    torch.Size([2106, 110])\n",
            "y test shape:   torch.Size([2106])\n"
          ]
        },
        {
          "metadata": {
            "tags": null
          },
          "name": "stderr",
          "output_type": "stream",
          "text": [
            "/usr/local/lib/python3.10/dist-packages/torch/nn/modules/loss.py:536: UserWarning: Using a target size (torch.Size([10])) that is different to the input size (torch.Size([10, 1])). This will likely lead to incorrect results due to broadcasting. Please ensure they have the same size.\n",
            "  return F.mse_loss(input, target, reduction=self.reduction)\n",
            "/usr/local/lib/python3.10/dist-packages/torch/nn/modules/loss.py:536: UserWarning: Using a target size (torch.Size([2])) that is different to the input size (torch.Size([2, 1])). This will likely lead to incorrect results due to broadcasting. Please ensure they have the same size.\n",
            "  return F.mse_loss(input, target, reduction=self.reduction)\n",
            "/usr/local/lib/python3.10/dist-packages/torch/nn/modules/loss.py:536: UserWarning: Using a target size (torch.Size([2106])) that is different to the input size (torch.Size([2106, 1])). This will likely lead to incorrect results due to broadcasting. Please ensure they have the same size.\n",
            "  return F.mse_loss(input, target, reduction=self.reduction)\n",
            "/usr/local/lib/python3.10/dist-packages/torch/nn/modules/loss.py:536: UserWarning: Using a target size (torch.Size([4912])) that is different to the input size (torch.Size([4912, 1])). This will likely lead to incorrect results due to broadcasting. Please ensure they have the same size.\n",
            "  return F.mse_loss(input, target, reduction=self.reduction)\n"
          ]
        },
        {
          "metadata": {
            "tags": null
          },
          "name": "stdout",
          "output_type": "stream",
          "text": [
            "(7018, 120)\n",
            "Input shape:   (7018, 120)\n",
            "Output shape:   (7018,)\n",
            "X train shape:   torch.Size([4912, 120])\n",
            "y train shape:   torch.Size([4912])\n",
            "X test shape:    torch.Size([2106, 120])\n",
            "y test shape:   torch.Size([2106])\n"
          ]
        },
        {
          "metadata": {
            "tags": null
          },
          "name": "stderr",
          "output_type": "stream",
          "text": [
            "/usr/local/lib/python3.10/dist-packages/torch/nn/modules/loss.py:536: UserWarning: Using a target size (torch.Size([10])) that is different to the input size (torch.Size([10, 1])). This will likely lead to incorrect results due to broadcasting. Please ensure they have the same size.\n",
            "  return F.mse_loss(input, target, reduction=self.reduction)\n",
            "/usr/local/lib/python3.10/dist-packages/torch/nn/modules/loss.py:536: UserWarning: Using a target size (torch.Size([2])) that is different to the input size (torch.Size([2, 1])). This will likely lead to incorrect results due to broadcasting. Please ensure they have the same size.\n",
            "  return F.mse_loss(input, target, reduction=self.reduction)\n",
            "/usr/local/lib/python3.10/dist-packages/torch/nn/modules/loss.py:536: UserWarning: Using a target size (torch.Size([2106])) that is different to the input size (torch.Size([2106, 1])). This will likely lead to incorrect results due to broadcasting. Please ensure they have the same size.\n",
            "  return F.mse_loss(input, target, reduction=self.reduction)\n",
            "/usr/local/lib/python3.10/dist-packages/torch/nn/modules/loss.py:536: UserWarning: Using a target size (torch.Size([4912])) that is different to the input size (torch.Size([4912, 1])). This will likely lead to incorrect results due to broadcasting. Please ensure they have the same size.\n",
            "  return F.mse_loss(input, target, reduction=self.reduction)\n"
          ]
        },
        {
          "metadata": {
            "tags": null
          },
          "name": "stdout",
          "output_type": "stream",
          "text": [
            "(7018, 130)\n",
            "Input shape:   (7018, 130)\n",
            "Output shape:   (7018,)\n",
            "X train shape:   torch.Size([4912, 130])\n",
            "y train shape:   torch.Size([4912])\n",
            "X test shape:    torch.Size([2106, 130])\n",
            "y test shape:   torch.Size([2106])\n"
          ]
        },
        {
          "metadata": {
            "tags": null
          },
          "name": "stderr",
          "output_type": "stream",
          "text": [
            "/usr/local/lib/python3.10/dist-packages/torch/nn/modules/loss.py:536: UserWarning: Using a target size (torch.Size([10])) that is different to the input size (torch.Size([10, 1])). This will likely lead to incorrect results due to broadcasting. Please ensure they have the same size.\n",
            "  return F.mse_loss(input, target, reduction=self.reduction)\n",
            "/usr/local/lib/python3.10/dist-packages/torch/nn/modules/loss.py:536: UserWarning: Using a target size (torch.Size([2])) that is different to the input size (torch.Size([2, 1])). This will likely lead to incorrect results due to broadcasting. Please ensure they have the same size.\n",
            "  return F.mse_loss(input, target, reduction=self.reduction)\n",
            "/usr/local/lib/python3.10/dist-packages/torch/nn/modules/loss.py:536: UserWarning: Using a target size (torch.Size([2106])) that is different to the input size (torch.Size([2106, 1])). This will likely lead to incorrect results due to broadcasting. Please ensure they have the same size.\n",
            "  return F.mse_loss(input, target, reduction=self.reduction)\n",
            "/usr/local/lib/python3.10/dist-packages/torch/nn/modules/loss.py:536: UserWarning: Using a target size (torch.Size([4912])) that is different to the input size (torch.Size([4912, 1])). This will likely lead to incorrect results due to broadcasting. Please ensure they have the same size.\n",
            "  return F.mse_loss(input, target, reduction=self.reduction)\n"
          ]
        },
        {
          "metadata": {
            "tags": null
          },
          "name": "stdout",
          "output_type": "stream",
          "text": [
            "(7018, 140)\n",
            "Input shape:   (7018, 140)\n",
            "Output shape:   (7018,)\n",
            "X train shape:   torch.Size([4912, 140])\n",
            "y train shape:   torch.Size([4912])\n",
            "X test shape:    torch.Size([2106, 140])\n",
            "y test shape:   torch.Size([2106])\n"
          ]
        },
        {
          "metadata": {
            "tags": null
          },
          "name": "stderr",
          "output_type": "stream",
          "text": [
            "/usr/local/lib/python3.10/dist-packages/torch/nn/modules/loss.py:536: UserWarning: Using a target size (torch.Size([10])) that is different to the input size (torch.Size([10, 1])). This will likely lead to incorrect results due to broadcasting. Please ensure they have the same size.\n",
            "  return F.mse_loss(input, target, reduction=self.reduction)\n",
            "/usr/local/lib/python3.10/dist-packages/torch/nn/modules/loss.py:536: UserWarning: Using a target size (torch.Size([2])) that is different to the input size (torch.Size([2, 1])). This will likely lead to incorrect results due to broadcasting. Please ensure they have the same size.\n",
            "  return F.mse_loss(input, target, reduction=self.reduction)\n",
            "/usr/local/lib/python3.10/dist-packages/torch/nn/modules/loss.py:536: UserWarning: Using a target size (torch.Size([2106])) that is different to the input size (torch.Size([2106, 1])). This will likely lead to incorrect results due to broadcasting. Please ensure they have the same size.\n",
            "  return F.mse_loss(input, target, reduction=self.reduction)\n",
            "/usr/local/lib/python3.10/dist-packages/torch/nn/modules/loss.py:536: UserWarning: Using a target size (torch.Size([4912])) that is different to the input size (torch.Size([4912, 1])). This will likely lead to incorrect results due to broadcasting. Please ensure they have the same size.\n",
            "  return F.mse_loss(input, target, reduction=self.reduction)\n"
          ]
        },
        {
          "metadata": {
            "tags": null
          },
          "name": "stdout",
          "output_type": "stream",
          "text": [
            "(7018, 150)\n",
            "Input shape:   (7018, 150)\n",
            "Output shape:   (7018,)\n",
            "X train shape:   torch.Size([4912, 150])\n",
            "y train shape:   torch.Size([4912])\n",
            "X test shape:    torch.Size([2106, 150])\n",
            "y test shape:   torch.Size([2106])\n"
          ]
        },
        {
          "metadata": {
            "tags": null
          },
          "name": "stderr",
          "output_type": "stream",
          "text": [
            "/usr/local/lib/python3.10/dist-packages/torch/nn/modules/loss.py:536: UserWarning: Using a target size (torch.Size([10])) that is different to the input size (torch.Size([10, 1])). This will likely lead to incorrect results due to broadcasting. Please ensure they have the same size.\n",
            "  return F.mse_loss(input, target, reduction=self.reduction)\n",
            "/usr/local/lib/python3.10/dist-packages/torch/nn/modules/loss.py:536: UserWarning: Using a target size (torch.Size([2])) that is different to the input size (torch.Size([2, 1])). This will likely lead to incorrect results due to broadcasting. Please ensure they have the same size.\n",
            "  return F.mse_loss(input, target, reduction=self.reduction)\n",
            "/usr/local/lib/python3.10/dist-packages/torch/nn/modules/loss.py:536: UserWarning: Using a target size (torch.Size([2106])) that is different to the input size (torch.Size([2106, 1])). This will likely lead to incorrect results due to broadcasting. Please ensure they have the same size.\n",
            "  return F.mse_loss(input, target, reduction=self.reduction)\n",
            "/usr/local/lib/python3.10/dist-packages/torch/nn/modules/loss.py:536: UserWarning: Using a target size (torch.Size([4912])) that is different to the input size (torch.Size([4912, 1])). This will likely lead to incorrect results due to broadcasting. Please ensure they have the same size.\n",
            "  return F.mse_loss(input, target, reduction=self.reduction)\n"
          ]
        },
        {
          "metadata": {
            "tags": null
          },
          "name": "stdout",
          "output_type": "stream",
          "text": [
            "(7018, 160)\n",
            "Input shape:   (7018, 160)\n",
            "Output shape:   (7018,)\n",
            "X train shape:   torch.Size([4912, 160])\n",
            "y train shape:   torch.Size([4912])\n",
            "X test shape:    torch.Size([2106, 160])\n",
            "y test shape:   torch.Size([2106])\n"
          ]
        },
        {
          "metadata": {
            "tags": null
          },
          "name": "stderr",
          "output_type": "stream",
          "text": [
            "/usr/local/lib/python3.10/dist-packages/torch/nn/modules/loss.py:536: UserWarning: Using a target size (torch.Size([10])) that is different to the input size (torch.Size([10, 1])). This will likely lead to incorrect results due to broadcasting. Please ensure they have the same size.\n",
            "  return F.mse_loss(input, target, reduction=self.reduction)\n",
            "/usr/local/lib/python3.10/dist-packages/torch/nn/modules/loss.py:536: UserWarning: Using a target size (torch.Size([2])) that is different to the input size (torch.Size([2, 1])). This will likely lead to incorrect results due to broadcasting. Please ensure they have the same size.\n",
            "  return F.mse_loss(input, target, reduction=self.reduction)\n",
            "/usr/local/lib/python3.10/dist-packages/torch/nn/modules/loss.py:536: UserWarning: Using a target size (torch.Size([2106])) that is different to the input size (torch.Size([2106, 1])). This will likely lead to incorrect results due to broadcasting. Please ensure they have the same size.\n",
            "  return F.mse_loss(input, target, reduction=self.reduction)\n",
            "/usr/local/lib/python3.10/dist-packages/torch/nn/modules/loss.py:536: UserWarning: Using a target size (torch.Size([4912])) that is different to the input size (torch.Size([4912, 1])). This will likely lead to incorrect results due to broadcasting. Please ensure they have the same size.\n",
            "  return F.mse_loss(input, target, reduction=self.reduction)\n"
          ]
        },
        {
          "metadata": {
            "tags": null
          },
          "name": "stdout",
          "output_type": "stream",
          "text": [
            "(7018, 170)\n",
            "Input shape:   (7018, 170)\n",
            "Output shape:   (7018,)\n",
            "X train shape:   torch.Size([4912, 170])\n",
            "y train shape:   torch.Size([4912])\n",
            "X test shape:    torch.Size([2106, 170])\n",
            "y test shape:   torch.Size([2106])\n"
          ]
        },
        {
          "metadata": {
            "tags": null
          },
          "name": "stderr",
          "output_type": "stream",
          "text": [
            "/usr/local/lib/python3.10/dist-packages/torch/nn/modules/loss.py:536: UserWarning: Using a target size (torch.Size([10])) that is different to the input size (torch.Size([10, 1])). This will likely lead to incorrect results due to broadcasting. Please ensure they have the same size.\n",
            "  return F.mse_loss(input, target, reduction=self.reduction)\n",
            "/usr/local/lib/python3.10/dist-packages/torch/nn/modules/loss.py:536: UserWarning: Using a target size (torch.Size([2])) that is different to the input size (torch.Size([2, 1])). This will likely lead to incorrect results due to broadcasting. Please ensure they have the same size.\n",
            "  return F.mse_loss(input, target, reduction=self.reduction)\n",
            "/usr/local/lib/python3.10/dist-packages/torch/nn/modules/loss.py:536: UserWarning: Using a target size (torch.Size([2106])) that is different to the input size (torch.Size([2106, 1])). This will likely lead to incorrect results due to broadcasting. Please ensure they have the same size.\n",
            "  return F.mse_loss(input, target, reduction=self.reduction)\n",
            "/usr/local/lib/python3.10/dist-packages/torch/nn/modules/loss.py:536: UserWarning: Using a target size (torch.Size([4912])) that is different to the input size (torch.Size([4912, 1])). This will likely lead to incorrect results due to broadcasting. Please ensure they have the same size.\n",
            "  return F.mse_loss(input, target, reduction=self.reduction)\n"
          ]
        },
        {
          "metadata": {
            "tags": null
          },
          "name": "stdout",
          "output_type": "stream",
          "text": [
            "(7018, 180)\n",
            "Input shape:   (7018, 180)\n",
            "Output shape:   (7018,)\n",
            "X train shape:   torch.Size([4912, 180])\n",
            "y train shape:   torch.Size([4912])\n",
            "X test shape:    torch.Size([2106, 180])\n",
            "y test shape:   torch.Size([2106])\n"
          ]
        },
        {
          "metadata": {
            "tags": null
          },
          "name": "stderr",
          "output_type": "stream",
          "text": [
            "/usr/local/lib/python3.10/dist-packages/torch/nn/modules/loss.py:536: UserWarning: Using a target size (torch.Size([10])) that is different to the input size (torch.Size([10, 1])). This will likely lead to incorrect results due to broadcasting. Please ensure they have the same size.\n",
            "  return F.mse_loss(input, target, reduction=self.reduction)\n",
            "/usr/local/lib/python3.10/dist-packages/torch/nn/modules/loss.py:536: UserWarning: Using a target size (torch.Size([2])) that is different to the input size (torch.Size([2, 1])). This will likely lead to incorrect results due to broadcasting. Please ensure they have the same size.\n",
            "  return F.mse_loss(input, target, reduction=self.reduction)\n",
            "/usr/local/lib/python3.10/dist-packages/torch/nn/modules/loss.py:536: UserWarning: Using a target size (torch.Size([2106])) that is different to the input size (torch.Size([2106, 1])). This will likely lead to incorrect results due to broadcasting. Please ensure they have the same size.\n",
            "  return F.mse_loss(input, target, reduction=self.reduction)\n",
            "/usr/local/lib/python3.10/dist-packages/torch/nn/modules/loss.py:536: UserWarning: Using a target size (torch.Size([4912])) that is different to the input size (torch.Size([4912, 1])). This will likely lead to incorrect results due to broadcasting. Please ensure they have the same size.\n",
            "  return F.mse_loss(input, target, reduction=self.reduction)\n"
          ]
        },
        {
          "metadata": {
            "tags": null
          },
          "name": "stdout",
          "output_type": "stream",
          "text": [
            "(7018, 190)\n",
            "Input shape:   (7018, 190)\n",
            "Output shape:   (7018,)\n",
            "X train shape:   torch.Size([4912, 190])\n",
            "y train shape:   torch.Size([4912])\n",
            "X test shape:    torch.Size([2106, 190])\n",
            "y test shape:   torch.Size([2106])\n"
          ]
        },
        {
          "metadata": {
            "tags": null
          },
          "name": "stderr",
          "output_type": "stream",
          "text": [
            "/usr/local/lib/python3.10/dist-packages/torch/nn/modules/loss.py:536: UserWarning: Using a target size (torch.Size([10])) that is different to the input size (torch.Size([10, 1])). This will likely lead to incorrect results due to broadcasting. Please ensure they have the same size.\n",
            "  return F.mse_loss(input, target, reduction=self.reduction)\n",
            "/usr/local/lib/python3.10/dist-packages/torch/nn/modules/loss.py:536: UserWarning: Using a target size (torch.Size([2])) that is different to the input size (torch.Size([2, 1])). This will likely lead to incorrect results due to broadcasting. Please ensure they have the same size.\n",
            "  return F.mse_loss(input, target, reduction=self.reduction)\n",
            "/usr/local/lib/python3.10/dist-packages/torch/nn/modules/loss.py:536: UserWarning: Using a target size (torch.Size([2106])) that is different to the input size (torch.Size([2106, 1])). This will likely lead to incorrect results due to broadcasting. Please ensure they have the same size.\n",
            "  return F.mse_loss(input, target, reduction=self.reduction)\n",
            "/usr/local/lib/python3.10/dist-packages/torch/nn/modules/loss.py:536: UserWarning: Using a target size (torch.Size([4912])) that is different to the input size (torch.Size([4912, 1])). This will likely lead to incorrect results due to broadcasting. Please ensure they have the same size.\n",
            "  return F.mse_loss(input, target, reduction=self.reduction)\n"
          ]
        },
        {
          "metadata": {
            "tags": null
          },
          "name": "stdout",
          "output_type": "stream",
          "text": [
            "(7018, 200)\n",
            "Input shape:   (7018, 200)\n",
            "Output shape:   (7018,)\n",
            "X train shape:   torch.Size([4912, 200])\n",
            "y train shape:   torch.Size([4912])\n",
            "X test shape:    torch.Size([2106, 200])\n",
            "y test shape:   torch.Size([2106])\n"
          ]
        },
        {
          "metadata": {
            "tags": null
          },
          "name": "stderr",
          "output_type": "stream",
          "text": [
            "/usr/local/lib/python3.10/dist-packages/torch/nn/modules/loss.py:536: UserWarning: Using a target size (torch.Size([10])) that is different to the input size (torch.Size([10, 1])). This will likely lead to incorrect results due to broadcasting. Please ensure they have the same size.\n",
            "  return F.mse_loss(input, target, reduction=self.reduction)\n",
            "/usr/local/lib/python3.10/dist-packages/torch/nn/modules/loss.py:536: UserWarning: Using a target size (torch.Size([2])) that is different to the input size (torch.Size([2, 1])). This will likely lead to incorrect results due to broadcasting. Please ensure they have the same size.\n",
            "  return F.mse_loss(input, target, reduction=self.reduction)\n",
            "/usr/local/lib/python3.10/dist-packages/torch/nn/modules/loss.py:536: UserWarning: Using a target size (torch.Size([2106])) that is different to the input size (torch.Size([2106, 1])). This will likely lead to incorrect results due to broadcasting. Please ensure they have the same size.\n",
            "  return F.mse_loss(input, target, reduction=self.reduction)\n",
            "/usr/local/lib/python3.10/dist-packages/torch/nn/modules/loss.py:536: UserWarning: Using a target size (torch.Size([4912])) that is different to the input size (torch.Size([4912, 1])). This will likely lead to incorrect results due to broadcasting. Please ensure they have the same size.\n",
            "  return F.mse_loss(input, target, reduction=self.reduction)\n"
          ]
        },
        {
          "metadata": {
            "tags": null
          },
          "name": "stdout",
          "output_type": "stream",
          "text": [
            "(7018, 210)\n",
            "Input shape:   (7018, 210)\n",
            "Output shape:   (7018,)\n",
            "X train shape:   torch.Size([4912, 210])\n",
            "y train shape:   torch.Size([4912])\n",
            "X test shape:    torch.Size([2106, 210])\n",
            "y test shape:   torch.Size([2106])\n"
          ]
        },
        {
          "metadata": {
            "tags": null
          },
          "name": "stderr",
          "output_type": "stream",
          "text": [
            "/usr/local/lib/python3.10/dist-packages/torch/nn/modules/loss.py:536: UserWarning: Using a target size (torch.Size([10])) that is different to the input size (torch.Size([10, 1])). This will likely lead to incorrect results due to broadcasting. Please ensure they have the same size.\n",
            "  return F.mse_loss(input, target, reduction=self.reduction)\n",
            "/usr/local/lib/python3.10/dist-packages/torch/nn/modules/loss.py:536: UserWarning: Using a target size (torch.Size([2])) that is different to the input size (torch.Size([2, 1])). This will likely lead to incorrect results due to broadcasting. Please ensure they have the same size.\n",
            "  return F.mse_loss(input, target, reduction=self.reduction)\n",
            "/usr/local/lib/python3.10/dist-packages/torch/nn/modules/loss.py:536: UserWarning: Using a target size (torch.Size([2106])) that is different to the input size (torch.Size([2106, 1])). This will likely lead to incorrect results due to broadcasting. Please ensure they have the same size.\n",
            "  return F.mse_loss(input, target, reduction=self.reduction)\n",
            "/usr/local/lib/python3.10/dist-packages/torch/nn/modules/loss.py:536: UserWarning: Using a target size (torch.Size([4912])) that is different to the input size (torch.Size([4912, 1])). This will likely lead to incorrect results due to broadcasting. Please ensure they have the same size.\n",
            "  return F.mse_loss(input, target, reduction=self.reduction)\n"
          ]
        },
        {
          "metadata": {
            "tags": null
          },
          "name": "stdout",
          "output_type": "stream",
          "text": [
            "(7018, 220)\n",
            "Input shape:   (7018, 220)\n",
            "Output shape:   (7018,)\n",
            "X train shape:   torch.Size([4912, 220])\n",
            "y train shape:   torch.Size([4912])\n",
            "X test shape:    torch.Size([2106, 220])\n",
            "y test shape:   torch.Size([2106])\n"
          ]
        },
        {
          "metadata": {
            "tags": null
          },
          "name": "stderr",
          "output_type": "stream",
          "text": [
            "/usr/local/lib/python3.10/dist-packages/torch/nn/modules/loss.py:536: UserWarning: Using a target size (torch.Size([10])) that is different to the input size (torch.Size([10, 1])). This will likely lead to incorrect results due to broadcasting. Please ensure they have the same size.\n",
            "  return F.mse_loss(input, target, reduction=self.reduction)\n",
            "/usr/local/lib/python3.10/dist-packages/torch/nn/modules/loss.py:536: UserWarning: Using a target size (torch.Size([2])) that is different to the input size (torch.Size([2, 1])). This will likely lead to incorrect results due to broadcasting. Please ensure they have the same size.\n",
            "  return F.mse_loss(input, target, reduction=self.reduction)\n",
            "/usr/local/lib/python3.10/dist-packages/torch/nn/modules/loss.py:536: UserWarning: Using a target size (torch.Size([2106])) that is different to the input size (torch.Size([2106, 1])). This will likely lead to incorrect results due to broadcasting. Please ensure they have the same size.\n",
            "  return F.mse_loss(input, target, reduction=self.reduction)\n",
            "/usr/local/lib/python3.10/dist-packages/torch/nn/modules/loss.py:536: UserWarning: Using a target size (torch.Size([4912])) that is different to the input size (torch.Size([4912, 1])). This will likely lead to incorrect results due to broadcasting. Please ensure they have the same size.\n",
            "  return F.mse_loss(input, target, reduction=self.reduction)\n"
          ]
        },
        {
          "metadata": {
            "tags": null
          },
          "name": "stdout",
          "output_type": "stream",
          "text": [
            "(7018, 230)\n",
            "Input shape:   (7018, 230)\n",
            "Output shape:   (7018,)\n",
            "X train shape:   torch.Size([4912, 230])\n",
            "y train shape:   torch.Size([4912])\n",
            "X test shape:    torch.Size([2106, 230])\n",
            "y test shape:   torch.Size([2106])\n"
          ]
        },
        {
          "metadata": {
            "tags": null
          },
          "name": "stderr",
          "output_type": "stream",
          "text": [
            "/usr/local/lib/python3.10/dist-packages/torch/nn/modules/loss.py:536: UserWarning: Using a target size (torch.Size([10])) that is different to the input size (torch.Size([10, 1])). This will likely lead to incorrect results due to broadcasting. Please ensure they have the same size.\n",
            "  return F.mse_loss(input, target, reduction=self.reduction)\n",
            "/usr/local/lib/python3.10/dist-packages/torch/nn/modules/loss.py:536: UserWarning: Using a target size (torch.Size([2])) that is different to the input size (torch.Size([2, 1])). This will likely lead to incorrect results due to broadcasting. Please ensure they have the same size.\n",
            "  return F.mse_loss(input, target, reduction=self.reduction)\n",
            "/usr/local/lib/python3.10/dist-packages/torch/nn/modules/loss.py:536: UserWarning: Using a target size (torch.Size([2106])) that is different to the input size (torch.Size([2106, 1])). This will likely lead to incorrect results due to broadcasting. Please ensure they have the same size.\n",
            "  return F.mse_loss(input, target, reduction=self.reduction)\n",
            "/usr/local/lib/python3.10/dist-packages/torch/nn/modules/loss.py:536: UserWarning: Using a target size (torch.Size([4912])) that is different to the input size (torch.Size([4912, 1])). This will likely lead to incorrect results due to broadcasting. Please ensure they have the same size.\n",
            "  return F.mse_loss(input, target, reduction=self.reduction)\n"
          ]
        },
        {
          "metadata": {
            "tags": null
          },
          "name": "stdout",
          "output_type": "stream",
          "text": [
            "(7018, 240)\n",
            "Input shape:   (7018, 240)\n",
            "Output shape:   (7018,)\n",
            "X train shape:   torch.Size([4912, 240])\n",
            "y train shape:   torch.Size([4912])\n",
            "X test shape:    torch.Size([2106, 240])\n",
            "y test shape:   torch.Size([2106])\n"
          ]
        },
        {
          "metadata": {
            "tags": null
          },
          "name": "stderr",
          "output_type": "stream",
          "text": [
            "/usr/local/lib/python3.10/dist-packages/torch/nn/modules/loss.py:536: UserWarning: Using a target size (torch.Size([10])) that is different to the input size (torch.Size([10, 1])). This will likely lead to incorrect results due to broadcasting. Please ensure they have the same size.\n",
            "  return F.mse_loss(input, target, reduction=self.reduction)\n",
            "/usr/local/lib/python3.10/dist-packages/torch/nn/modules/loss.py:536: UserWarning: Using a target size (torch.Size([2])) that is different to the input size (torch.Size([2, 1])). This will likely lead to incorrect results due to broadcasting. Please ensure they have the same size.\n",
            "  return F.mse_loss(input, target, reduction=self.reduction)\n",
            "/usr/local/lib/python3.10/dist-packages/torch/nn/modules/loss.py:536: UserWarning: Using a target size (torch.Size([2106])) that is different to the input size (torch.Size([2106, 1])). This will likely lead to incorrect results due to broadcasting. Please ensure they have the same size.\n",
            "  return F.mse_loss(input, target, reduction=self.reduction)\n",
            "/usr/local/lib/python3.10/dist-packages/torch/nn/modules/loss.py:536: UserWarning: Using a target size (torch.Size([4912])) that is different to the input size (torch.Size([4912, 1])). This will likely lead to incorrect results due to broadcasting. Please ensure they have the same size.\n",
            "  return F.mse_loss(input, target, reduction=self.reduction)\n"
          ]
        },
        {
          "metadata": {
            "tags": null
          },
          "name": "stdout",
          "output_type": "stream",
          "text": [
            "(7018, 250)\n",
            "Input shape:   (7018, 250)\n",
            "Output shape:   (7018,)\n",
            "X train shape:   torch.Size([4912, 250])\n",
            "y train shape:   torch.Size([4912])\n",
            "X test shape:    torch.Size([2106, 250])\n",
            "y test shape:   torch.Size([2106])\n"
          ]
        },
        {
          "metadata": {
            "tags": null
          },
          "name": "stderr",
          "output_type": "stream",
          "text": [
            "/usr/local/lib/python3.10/dist-packages/torch/nn/modules/loss.py:536: UserWarning: Using a target size (torch.Size([10])) that is different to the input size (torch.Size([10, 1])). This will likely lead to incorrect results due to broadcasting. Please ensure they have the same size.\n",
            "  return F.mse_loss(input, target, reduction=self.reduction)\n",
            "/usr/local/lib/python3.10/dist-packages/torch/nn/modules/loss.py:536: UserWarning: Using a target size (torch.Size([2])) that is different to the input size (torch.Size([2, 1])). This will likely lead to incorrect results due to broadcasting. Please ensure they have the same size.\n",
            "  return F.mse_loss(input, target, reduction=self.reduction)\n",
            "/usr/local/lib/python3.10/dist-packages/torch/nn/modules/loss.py:536: UserWarning: Using a target size (torch.Size([2106])) that is different to the input size (torch.Size([2106, 1])). This will likely lead to incorrect results due to broadcasting. Please ensure they have the same size.\n",
            "  return F.mse_loss(input, target, reduction=self.reduction)\n",
            "/usr/local/lib/python3.10/dist-packages/torch/nn/modules/loss.py:536: UserWarning: Using a target size (torch.Size([4912])) that is different to the input size (torch.Size([4912, 1])). This will likely lead to incorrect results due to broadcasting. Please ensure they have the same size.\n",
            "  return F.mse_loss(input, target, reduction=self.reduction)\n"
          ]
        },
        {
          "metadata": {
            "tags": null
          },
          "name": "stdout",
          "output_type": "stream",
          "text": [
            "(7018, 260)\n",
            "Input shape:   (7018, 260)\n",
            "Output shape:   (7018,)\n",
            "X train shape:   torch.Size([4912, 260])\n",
            "y train shape:   torch.Size([4912])\n",
            "X test shape:    torch.Size([2106, 260])\n",
            "y test shape:   torch.Size([2106])\n"
          ]
        },
        {
          "metadata": {
            "tags": null
          },
          "name": "stderr",
          "output_type": "stream",
          "text": [
            "/usr/local/lib/python3.10/dist-packages/torch/nn/modules/loss.py:536: UserWarning: Using a target size (torch.Size([10])) that is different to the input size (torch.Size([10, 1])). This will likely lead to incorrect results due to broadcasting. Please ensure they have the same size.\n",
            "  return F.mse_loss(input, target, reduction=self.reduction)\n",
            "/usr/local/lib/python3.10/dist-packages/torch/nn/modules/loss.py:536: UserWarning: Using a target size (torch.Size([2])) that is different to the input size (torch.Size([2, 1])). This will likely lead to incorrect results due to broadcasting. Please ensure they have the same size.\n",
            "  return F.mse_loss(input, target, reduction=self.reduction)\n",
            "/usr/local/lib/python3.10/dist-packages/torch/nn/modules/loss.py:536: UserWarning: Using a target size (torch.Size([2106])) that is different to the input size (torch.Size([2106, 1])). This will likely lead to incorrect results due to broadcasting. Please ensure they have the same size.\n",
            "  return F.mse_loss(input, target, reduction=self.reduction)\n",
            "/usr/local/lib/python3.10/dist-packages/torch/nn/modules/loss.py:536: UserWarning: Using a target size (torch.Size([4912])) that is different to the input size (torch.Size([4912, 1])). This will likely lead to incorrect results due to broadcasting. Please ensure they have the same size.\n",
            "  return F.mse_loss(input, target, reduction=self.reduction)\n"
          ]
        },
        {
          "metadata": {
            "tags": null
          },
          "name": "stdout",
          "output_type": "stream",
          "text": [
            "(7018, 270)\n",
            "Input shape:   (7018, 270)\n",
            "Output shape:   (7018,)\n",
            "X train shape:   torch.Size([4912, 270])\n",
            "y train shape:   torch.Size([4912])\n",
            "X test shape:    torch.Size([2106, 270])\n",
            "y test shape:   torch.Size([2106])\n"
          ]
        },
        {
          "metadata": {
            "tags": null
          },
          "name": "stderr",
          "output_type": "stream",
          "text": [
            "/usr/local/lib/python3.10/dist-packages/torch/nn/modules/loss.py:536: UserWarning: Using a target size (torch.Size([10])) that is different to the input size (torch.Size([10, 1])). This will likely lead to incorrect results due to broadcasting. Please ensure they have the same size.\n",
            "  return F.mse_loss(input, target, reduction=self.reduction)\n",
            "/usr/local/lib/python3.10/dist-packages/torch/nn/modules/loss.py:536: UserWarning: Using a target size (torch.Size([2])) that is different to the input size (torch.Size([2, 1])). This will likely lead to incorrect results due to broadcasting. Please ensure they have the same size.\n",
            "  return F.mse_loss(input, target, reduction=self.reduction)\n",
            "/usr/local/lib/python3.10/dist-packages/torch/nn/modules/loss.py:536: UserWarning: Using a target size (torch.Size([2106])) that is different to the input size (torch.Size([2106, 1])). This will likely lead to incorrect results due to broadcasting. Please ensure they have the same size.\n",
            "  return F.mse_loss(input, target, reduction=self.reduction)\n",
            "/usr/local/lib/python3.10/dist-packages/torch/nn/modules/loss.py:536: UserWarning: Using a target size (torch.Size([4912])) that is different to the input size (torch.Size([4912, 1])). This will likely lead to incorrect results due to broadcasting. Please ensure they have the same size.\n",
            "  return F.mse_loss(input, target, reduction=self.reduction)\n"
          ]
        },
        {
          "metadata": {
            "tags": null
          },
          "name": "stdout",
          "output_type": "stream",
          "text": [
            "(7018, 280)\n",
            "Input shape:   (7018, 280)\n",
            "Output shape:   (7018,)\n",
            "X train shape:   torch.Size([4912, 280])\n",
            "y train shape:   torch.Size([4912])\n",
            "X test shape:    torch.Size([2106, 280])\n",
            "y test shape:   torch.Size([2106])\n"
          ]
        },
        {
          "metadata": {
            "tags": null
          },
          "name": "stderr",
          "output_type": "stream",
          "text": [
            "/usr/local/lib/python3.10/dist-packages/torch/nn/modules/loss.py:536: UserWarning: Using a target size (torch.Size([10])) that is different to the input size (torch.Size([10, 1])). This will likely lead to incorrect results due to broadcasting. Please ensure they have the same size.\n",
            "  return F.mse_loss(input, target, reduction=self.reduction)\n",
            "/usr/local/lib/python3.10/dist-packages/torch/nn/modules/loss.py:536: UserWarning: Using a target size (torch.Size([2])) that is different to the input size (torch.Size([2, 1])). This will likely lead to incorrect results due to broadcasting. Please ensure they have the same size.\n",
            "  return F.mse_loss(input, target, reduction=self.reduction)\n",
            "/usr/local/lib/python3.10/dist-packages/torch/nn/modules/loss.py:536: UserWarning: Using a target size (torch.Size([2106])) that is different to the input size (torch.Size([2106, 1])). This will likely lead to incorrect results due to broadcasting. Please ensure they have the same size.\n",
            "  return F.mse_loss(input, target, reduction=self.reduction)\n",
            "/usr/local/lib/python3.10/dist-packages/torch/nn/modules/loss.py:536: UserWarning: Using a target size (torch.Size([4912])) that is different to the input size (torch.Size([4912, 1])). This will likely lead to incorrect results due to broadcasting. Please ensure they have the same size.\n",
            "  return F.mse_loss(input, target, reduction=self.reduction)\n"
          ]
        },
        {
          "metadata": {
            "tags": null
          },
          "name": "stdout",
          "output_type": "stream",
          "text": [
            "(7018, 290)\n",
            "Input shape:   (7018, 290)\n",
            "Output shape:   (7018,)\n",
            "X train shape:   torch.Size([4912, 290])\n",
            "y train shape:   torch.Size([4912])\n",
            "X test shape:    torch.Size([2106, 290])\n",
            "y test shape:   torch.Size([2106])\n"
          ]
        },
        {
          "metadata": {
            "tags": null
          },
          "name": "stderr",
          "output_type": "stream",
          "text": [
            "/usr/local/lib/python3.10/dist-packages/torch/nn/modules/loss.py:536: UserWarning: Using a target size (torch.Size([10])) that is different to the input size (torch.Size([10, 1])). This will likely lead to incorrect results due to broadcasting. Please ensure they have the same size.\n",
            "  return F.mse_loss(input, target, reduction=self.reduction)\n",
            "/usr/local/lib/python3.10/dist-packages/torch/nn/modules/loss.py:536: UserWarning: Using a target size (torch.Size([2])) that is different to the input size (torch.Size([2, 1])). This will likely lead to incorrect results due to broadcasting. Please ensure they have the same size.\n",
            "  return F.mse_loss(input, target, reduction=self.reduction)\n",
            "/usr/local/lib/python3.10/dist-packages/torch/nn/modules/loss.py:536: UserWarning: Using a target size (torch.Size([2106])) that is different to the input size (torch.Size([2106, 1])). This will likely lead to incorrect results due to broadcasting. Please ensure they have the same size.\n",
            "  return F.mse_loss(input, target, reduction=self.reduction)\n",
            "/usr/local/lib/python3.10/dist-packages/torch/nn/modules/loss.py:536: UserWarning: Using a target size (torch.Size([4912])) that is different to the input size (torch.Size([4912, 1])). This will likely lead to incorrect results due to broadcasting. Please ensure they have the same size.\n",
            "  return F.mse_loss(input, target, reduction=self.reduction)\n"
          ]
        },
        {
          "metadata": {
            "tags": null
          },
          "name": "stdout",
          "output_type": "stream",
          "text": [
            "(7018, 300)\n",
            "Input shape:   (7018, 300)\n",
            "Output shape:   (7018,)\n",
            "X train shape:   torch.Size([4912, 300])\n",
            "y train shape:   torch.Size([4912])\n",
            "X test shape:    torch.Size([2106, 300])\n",
            "y test shape:   torch.Size([2106])\n"
          ]
        },
        {
          "metadata": {
            "tags": null
          },
          "name": "stderr",
          "output_type": "stream",
          "text": [
            "/usr/local/lib/python3.10/dist-packages/torch/nn/modules/loss.py:536: UserWarning: Using a target size (torch.Size([10])) that is different to the input size (torch.Size([10, 1])). This will likely lead to incorrect results due to broadcasting. Please ensure they have the same size.\n",
            "  return F.mse_loss(input, target, reduction=self.reduction)\n",
            "/usr/local/lib/python3.10/dist-packages/torch/nn/modules/loss.py:536: UserWarning: Using a target size (torch.Size([2])) that is different to the input size (torch.Size([2, 1])). This will likely lead to incorrect results due to broadcasting. Please ensure they have the same size.\n",
            "  return F.mse_loss(input, target, reduction=self.reduction)\n",
            "/usr/local/lib/python3.10/dist-packages/torch/nn/modules/loss.py:536: UserWarning: Using a target size (torch.Size([2106])) that is different to the input size (torch.Size([2106, 1])). This will likely lead to incorrect results due to broadcasting. Please ensure they have the same size.\n",
            "  return F.mse_loss(input, target, reduction=self.reduction)\n",
            "/usr/local/lib/python3.10/dist-packages/torch/nn/modules/loss.py:536: UserWarning: Using a target size (torch.Size([4912])) that is different to the input size (torch.Size([4912, 1])). This will likely lead to incorrect results due to broadcasting. Please ensure they have the same size.\n",
            "  return F.mse_loss(input, target, reduction=self.reduction)\n"
          ]
        },
        {
          "metadata": {
            "tags": null
          },
          "name": "stdout",
          "output_type": "stream",
          "text": [
            "(7018, 310)\n",
            "Input shape:   (7018, 310)\n",
            "Output shape:   (7018,)\n",
            "X train shape:   torch.Size([4912, 310])\n",
            "y train shape:   torch.Size([4912])\n",
            "X test shape:    torch.Size([2106, 310])\n",
            "y test shape:   torch.Size([2106])\n"
          ]
        },
        {
          "metadata": {
            "tags": null
          },
          "name": "stderr",
          "output_type": "stream",
          "text": [
            "/usr/local/lib/python3.10/dist-packages/torch/nn/modules/loss.py:536: UserWarning: Using a target size (torch.Size([10])) that is different to the input size (torch.Size([10, 1])). This will likely lead to incorrect results due to broadcasting. Please ensure they have the same size.\n",
            "  return F.mse_loss(input, target, reduction=self.reduction)\n",
            "/usr/local/lib/python3.10/dist-packages/torch/nn/modules/loss.py:536: UserWarning: Using a target size (torch.Size([2])) that is different to the input size (torch.Size([2, 1])). This will likely lead to incorrect results due to broadcasting. Please ensure they have the same size.\n",
            "  return F.mse_loss(input, target, reduction=self.reduction)\n",
            "/usr/local/lib/python3.10/dist-packages/torch/nn/modules/loss.py:536: UserWarning: Using a target size (torch.Size([2106])) that is different to the input size (torch.Size([2106, 1])). This will likely lead to incorrect results due to broadcasting. Please ensure they have the same size.\n",
            "  return F.mse_loss(input, target, reduction=self.reduction)\n",
            "/usr/local/lib/python3.10/dist-packages/torch/nn/modules/loss.py:536: UserWarning: Using a target size (torch.Size([4912])) that is different to the input size (torch.Size([4912, 1])). This will likely lead to incorrect results due to broadcasting. Please ensure they have the same size.\n",
            "  return F.mse_loss(input, target, reduction=self.reduction)\n"
          ]
        },
        {
          "metadata": {
            "tags": null
          },
          "name": "stdout",
          "output_type": "stream",
          "text": [
            "(7018, 320)\n",
            "Input shape:   (7018, 320)\n",
            "Output shape:   (7018,)\n",
            "X train shape:   torch.Size([4912, 320])\n",
            "y train shape:   torch.Size([4912])\n",
            "X test shape:    torch.Size([2106, 320])\n",
            "y test shape:   torch.Size([2106])\n"
          ]
        },
        {
          "metadata": {
            "tags": null
          },
          "name": "stderr",
          "output_type": "stream",
          "text": [
            "/usr/local/lib/python3.10/dist-packages/torch/nn/modules/loss.py:536: UserWarning: Using a target size (torch.Size([10])) that is different to the input size (torch.Size([10, 1])). This will likely lead to incorrect results due to broadcasting. Please ensure they have the same size.\n",
            "  return F.mse_loss(input, target, reduction=self.reduction)\n",
            "/usr/local/lib/python3.10/dist-packages/torch/nn/modules/loss.py:536: UserWarning: Using a target size (torch.Size([2])) that is different to the input size (torch.Size([2, 1])). This will likely lead to incorrect results due to broadcasting. Please ensure they have the same size.\n",
            "  return F.mse_loss(input, target, reduction=self.reduction)\n",
            "/usr/local/lib/python3.10/dist-packages/torch/nn/modules/loss.py:536: UserWarning: Using a target size (torch.Size([2106])) that is different to the input size (torch.Size([2106, 1])). This will likely lead to incorrect results due to broadcasting. Please ensure they have the same size.\n",
            "  return F.mse_loss(input, target, reduction=self.reduction)\n",
            "/usr/local/lib/python3.10/dist-packages/torch/nn/modules/loss.py:536: UserWarning: Using a target size (torch.Size([4912])) that is different to the input size (torch.Size([4912, 1])). This will likely lead to incorrect results due to broadcasting. Please ensure they have the same size.\n",
            "  return F.mse_loss(input, target, reduction=self.reduction)\n"
          ]
        },
        {
          "metadata": {
            "tags": null
          },
          "name": "stdout",
          "output_type": "stream",
          "text": [
            "(7018, 330)\n",
            "Input shape:   (7018, 330)\n",
            "Output shape:   (7018,)\n",
            "X train shape:   torch.Size([4912, 330])\n",
            "y train shape:   torch.Size([4912])\n",
            "X test shape:    torch.Size([2106, 330])\n",
            "y test shape:   torch.Size([2106])\n"
          ]
        },
        {
          "metadata": {
            "tags": null
          },
          "name": "stderr",
          "output_type": "stream",
          "text": [
            "/usr/local/lib/python3.10/dist-packages/torch/nn/modules/loss.py:536: UserWarning: Using a target size (torch.Size([10])) that is different to the input size (torch.Size([10, 1])). This will likely lead to incorrect results due to broadcasting. Please ensure they have the same size.\n",
            "  return F.mse_loss(input, target, reduction=self.reduction)\n",
            "/usr/local/lib/python3.10/dist-packages/torch/nn/modules/loss.py:536: UserWarning: Using a target size (torch.Size([2])) that is different to the input size (torch.Size([2, 1])). This will likely lead to incorrect results due to broadcasting. Please ensure they have the same size.\n",
            "  return F.mse_loss(input, target, reduction=self.reduction)\n",
            "/usr/local/lib/python3.10/dist-packages/torch/nn/modules/loss.py:536: UserWarning: Using a target size (torch.Size([2106])) that is different to the input size (torch.Size([2106, 1])). This will likely lead to incorrect results due to broadcasting. Please ensure they have the same size.\n",
            "  return F.mse_loss(input, target, reduction=self.reduction)\n",
            "/usr/local/lib/python3.10/dist-packages/torch/nn/modules/loss.py:536: UserWarning: Using a target size (torch.Size([4912])) that is different to the input size (torch.Size([4912, 1])). This will likely lead to incorrect results due to broadcasting. Please ensure they have the same size.\n",
            "  return F.mse_loss(input, target, reduction=self.reduction)\n"
          ]
        },
        {
          "metadata": {
            "tags": null
          },
          "name": "stdout",
          "output_type": "stream",
          "text": [
            "(7018, 340)\n",
            "Input shape:   (7018, 340)\n",
            "Output shape:   (7018,)\n",
            "X train shape:   torch.Size([4912, 340])\n",
            "y train shape:   torch.Size([4912])\n",
            "X test shape:    torch.Size([2106, 340])\n",
            "y test shape:   torch.Size([2106])\n"
          ]
        },
        {
          "metadata": {
            "tags": null
          },
          "name": "stderr",
          "output_type": "stream",
          "text": [
            "/usr/local/lib/python3.10/dist-packages/torch/nn/modules/loss.py:536: UserWarning: Using a target size (torch.Size([10])) that is different to the input size (torch.Size([10, 1])). This will likely lead to incorrect results due to broadcasting. Please ensure they have the same size.\n",
            "  return F.mse_loss(input, target, reduction=self.reduction)\n",
            "/usr/local/lib/python3.10/dist-packages/torch/nn/modules/loss.py:536: UserWarning: Using a target size (torch.Size([2])) that is different to the input size (torch.Size([2, 1])). This will likely lead to incorrect results due to broadcasting. Please ensure they have the same size.\n",
            "  return F.mse_loss(input, target, reduction=self.reduction)\n",
            "/usr/local/lib/python3.10/dist-packages/torch/nn/modules/loss.py:536: UserWarning: Using a target size (torch.Size([2106])) that is different to the input size (torch.Size([2106, 1])). This will likely lead to incorrect results due to broadcasting. Please ensure they have the same size.\n",
            "  return F.mse_loss(input, target, reduction=self.reduction)\n",
            "/usr/local/lib/python3.10/dist-packages/torch/nn/modules/loss.py:536: UserWarning: Using a target size (torch.Size([4912])) that is different to the input size (torch.Size([4912, 1])). This will likely lead to incorrect results due to broadcasting. Please ensure they have the same size.\n",
            "  return F.mse_loss(input, target, reduction=self.reduction)\n"
          ]
        },
        {
          "output_type": "stream",
          "name": "stdout",
          "text": [
            "(7018, 350)\n",
            "Input shape:   (7018, 350)\n",
            "Output shape:   (7018,)\n",
            "X train shape:   torch.Size([4912, 350])\n",
            "y train shape:   torch.Size([4912])\n",
            "X test shape:    torch.Size([2106, 350])\n",
            "y test shape:   torch.Size([2106])\n"
          ]
        },
        {
          "output_type": "stream",
          "name": "stderr",
          "text": [
            "/usr/local/lib/python3.10/dist-packages/torch/nn/modules/loss.py:536: UserWarning: Using a target size (torch.Size([10])) that is different to the input size (torch.Size([10, 1])). This will likely lead to incorrect results due to broadcasting. Please ensure they have the same size.\n",
            "  return F.mse_loss(input, target, reduction=self.reduction)\n",
            "/usr/local/lib/python3.10/dist-packages/torch/nn/modules/loss.py:536: UserWarning: Using a target size (torch.Size([2])) that is different to the input size (torch.Size([2, 1])). This will likely lead to incorrect results due to broadcasting. Please ensure they have the same size.\n",
            "  return F.mse_loss(input, target, reduction=self.reduction)\n",
            "/usr/local/lib/python3.10/dist-packages/torch/nn/modules/loss.py:536: UserWarning: Using a target size (torch.Size([2106])) that is different to the input size (torch.Size([2106, 1])). This will likely lead to incorrect results due to broadcasting. Please ensure they have the same size.\n",
            "  return F.mse_loss(input, target, reduction=self.reduction)\n",
            "/usr/local/lib/python3.10/dist-packages/torch/nn/modules/loss.py:536: UserWarning: Using a target size (torch.Size([4912])) that is different to the input size (torch.Size([4912, 1])). This will likely lead to incorrect results due to broadcasting. Please ensure they have the same size.\n",
            "  return F.mse_loss(input, target, reduction=self.reduction)\n"
          ]
        },
        {
          "output_type": "stream",
          "name": "stdout",
          "text": [
            "(7018, 360)\n",
            "Input shape:   (7018, 360)\n",
            "Output shape:   (7018,)\n",
            "X train shape:   torch.Size([4912, 360])\n",
            "y train shape:   torch.Size([4912])\n",
            "X test shape:    torch.Size([2106, 360])\n",
            "y test shape:   torch.Size([2106])\n"
          ]
        },
        {
          "output_type": "stream",
          "name": "stderr",
          "text": [
            "/usr/local/lib/python3.10/dist-packages/torch/nn/modules/loss.py:536: UserWarning: Using a target size (torch.Size([10])) that is different to the input size (torch.Size([10, 1])). This will likely lead to incorrect results due to broadcasting. Please ensure they have the same size.\n",
            "  return F.mse_loss(input, target, reduction=self.reduction)\n",
            "/usr/local/lib/python3.10/dist-packages/torch/nn/modules/loss.py:536: UserWarning: Using a target size (torch.Size([2])) that is different to the input size (torch.Size([2, 1])). This will likely lead to incorrect results due to broadcasting. Please ensure they have the same size.\n",
            "  return F.mse_loss(input, target, reduction=self.reduction)\n",
            "/usr/local/lib/python3.10/dist-packages/torch/nn/modules/loss.py:536: UserWarning: Using a target size (torch.Size([2106])) that is different to the input size (torch.Size([2106, 1])). This will likely lead to incorrect results due to broadcasting. Please ensure they have the same size.\n",
            "  return F.mse_loss(input, target, reduction=self.reduction)\n",
            "/usr/local/lib/python3.10/dist-packages/torch/nn/modules/loss.py:536: UserWarning: Using a target size (torch.Size([4912])) that is different to the input size (torch.Size([4912, 1])). This will likely lead to incorrect results due to broadcasting. Please ensure they have the same size.\n",
            "  return F.mse_loss(input, target, reduction=self.reduction)\n"
          ]
        },
        {
          "output_type": "stream",
          "name": "stdout",
          "text": [
            "(7018, 370)\n",
            "Input shape:   (7018, 370)\n",
            "Output shape:   (7018,)\n",
            "X train shape:   torch.Size([4912, 370])\n",
            "y train shape:   torch.Size([4912])\n",
            "X test shape:    torch.Size([2106, 370])\n",
            "y test shape:   torch.Size([2106])\n"
          ]
        },
        {
          "output_type": "stream",
          "name": "stderr",
          "text": [
            "/usr/local/lib/python3.10/dist-packages/torch/nn/modules/loss.py:536: UserWarning: Using a target size (torch.Size([10])) that is different to the input size (torch.Size([10, 1])). This will likely lead to incorrect results due to broadcasting. Please ensure they have the same size.\n",
            "  return F.mse_loss(input, target, reduction=self.reduction)\n",
            "/usr/local/lib/python3.10/dist-packages/torch/nn/modules/loss.py:536: UserWarning: Using a target size (torch.Size([2])) that is different to the input size (torch.Size([2, 1])). This will likely lead to incorrect results due to broadcasting. Please ensure they have the same size.\n",
            "  return F.mse_loss(input, target, reduction=self.reduction)\n",
            "/usr/local/lib/python3.10/dist-packages/torch/nn/modules/loss.py:536: UserWarning: Using a target size (torch.Size([2106])) that is different to the input size (torch.Size([2106, 1])). This will likely lead to incorrect results due to broadcasting. Please ensure they have the same size.\n",
            "  return F.mse_loss(input, target, reduction=self.reduction)\n",
            "/usr/local/lib/python3.10/dist-packages/torch/nn/modules/loss.py:536: UserWarning: Using a target size (torch.Size([4912])) that is different to the input size (torch.Size([4912, 1])). This will likely lead to incorrect results due to broadcasting. Please ensure they have the same size.\n",
            "  return F.mse_loss(input, target, reduction=self.reduction)\n"
          ]
        },
        {
          "output_type": "stream",
          "name": "stdout",
          "text": [
            "(7018, 380)\n",
            "Input shape:   (7018, 380)\n",
            "Output shape:   (7018,)\n",
            "X train shape:   torch.Size([4912, 380])\n",
            "y train shape:   torch.Size([4912])\n",
            "X test shape:    torch.Size([2106, 380])\n",
            "y test shape:   torch.Size([2106])\n"
          ]
        },
        {
          "output_type": "stream",
          "name": "stderr",
          "text": [
            "/usr/local/lib/python3.10/dist-packages/torch/nn/modules/loss.py:536: UserWarning: Using a target size (torch.Size([10])) that is different to the input size (torch.Size([10, 1])). This will likely lead to incorrect results due to broadcasting. Please ensure they have the same size.\n",
            "  return F.mse_loss(input, target, reduction=self.reduction)\n",
            "/usr/local/lib/python3.10/dist-packages/torch/nn/modules/loss.py:536: UserWarning: Using a target size (torch.Size([2])) that is different to the input size (torch.Size([2, 1])). This will likely lead to incorrect results due to broadcasting. Please ensure they have the same size.\n",
            "  return F.mse_loss(input, target, reduction=self.reduction)\n",
            "/usr/local/lib/python3.10/dist-packages/torch/nn/modules/loss.py:536: UserWarning: Using a target size (torch.Size([2106])) that is different to the input size (torch.Size([2106, 1])). This will likely lead to incorrect results due to broadcasting. Please ensure they have the same size.\n",
            "  return F.mse_loss(input, target, reduction=self.reduction)\n",
            "/usr/local/lib/python3.10/dist-packages/torch/nn/modules/loss.py:536: UserWarning: Using a target size (torch.Size([4912])) that is different to the input size (torch.Size([4912, 1])). This will likely lead to incorrect results due to broadcasting. Please ensure they have the same size.\n",
            "  return F.mse_loss(input, target, reduction=self.reduction)\n"
          ]
        },
        {
          "output_type": "stream",
          "name": "stdout",
          "text": [
            "(7018, 390)\n",
            "Input shape:   (7018, 390)\n",
            "Output shape:   (7018,)\n",
            "X train shape:   torch.Size([4912, 390])\n",
            "y train shape:   torch.Size([4912])\n",
            "X test shape:    torch.Size([2106, 390])\n",
            "y test shape:   torch.Size([2106])\n"
          ]
        },
        {
          "output_type": "stream",
          "name": "stderr",
          "text": [
            "/usr/local/lib/python3.10/dist-packages/torch/nn/modules/loss.py:536: UserWarning: Using a target size (torch.Size([10])) that is different to the input size (torch.Size([10, 1])). This will likely lead to incorrect results due to broadcasting. Please ensure they have the same size.\n",
            "  return F.mse_loss(input, target, reduction=self.reduction)\n",
            "/usr/local/lib/python3.10/dist-packages/torch/nn/modules/loss.py:536: UserWarning: Using a target size (torch.Size([2])) that is different to the input size (torch.Size([2, 1])). This will likely lead to incorrect results due to broadcasting. Please ensure they have the same size.\n",
            "  return F.mse_loss(input, target, reduction=self.reduction)\n",
            "/usr/local/lib/python3.10/dist-packages/torch/nn/modules/loss.py:536: UserWarning: Using a target size (torch.Size([2106])) that is different to the input size (torch.Size([2106, 1])). This will likely lead to incorrect results due to broadcasting. Please ensure they have the same size.\n",
            "  return F.mse_loss(input, target, reduction=self.reduction)\n",
            "/usr/local/lib/python3.10/dist-packages/torch/nn/modules/loss.py:536: UserWarning: Using a target size (torch.Size([4912])) that is different to the input size (torch.Size([4912, 1])). This will likely lead to incorrect results due to broadcasting. Please ensure they have the same size.\n",
            "  return F.mse_loss(input, target, reduction=self.reduction)\n"
          ]
        },
        {
          "output_type": "stream",
          "name": "stdout",
          "text": [
            "(7018, 400)\n",
            "Input shape:   (7018, 400)\n",
            "Output shape:   (7018,)\n",
            "X train shape:   torch.Size([4912, 400])\n",
            "y train shape:   torch.Size([4912])\n",
            "X test shape:    torch.Size([2106, 400])\n",
            "y test shape:   torch.Size([2106])\n"
          ]
        },
        {
          "output_type": "stream",
          "name": "stderr",
          "text": [
            "/usr/local/lib/python3.10/dist-packages/torch/nn/modules/loss.py:536: UserWarning: Using a target size (torch.Size([10])) that is different to the input size (torch.Size([10, 1])). This will likely lead to incorrect results due to broadcasting. Please ensure they have the same size.\n",
            "  return F.mse_loss(input, target, reduction=self.reduction)\n",
            "/usr/local/lib/python3.10/dist-packages/torch/nn/modules/loss.py:536: UserWarning: Using a target size (torch.Size([2])) that is different to the input size (torch.Size([2, 1])). This will likely lead to incorrect results due to broadcasting. Please ensure they have the same size.\n",
            "  return F.mse_loss(input, target, reduction=self.reduction)\n",
            "/usr/local/lib/python3.10/dist-packages/torch/nn/modules/loss.py:536: UserWarning: Using a target size (torch.Size([2106])) that is different to the input size (torch.Size([2106, 1])). This will likely lead to incorrect results due to broadcasting. Please ensure they have the same size.\n",
            "  return F.mse_loss(input, target, reduction=self.reduction)\n",
            "/usr/local/lib/python3.10/dist-packages/torch/nn/modules/loss.py:536: UserWarning: Using a target size (torch.Size([4912])) that is different to the input size (torch.Size([4912, 1])). This will likely lead to incorrect results due to broadcasting. Please ensure they have the same size.\n",
            "  return F.mse_loss(input, target, reduction=self.reduction)\n"
          ]
        },
        {
          "output_type": "stream",
          "name": "stdout",
          "text": [
            "(7018, 410)\n",
            "Input shape:   (7018, 410)\n",
            "Output shape:   (7018,)\n",
            "X train shape:   torch.Size([4912, 410])\n",
            "y train shape:   torch.Size([4912])\n",
            "X test shape:    torch.Size([2106, 410])\n",
            "y test shape:   torch.Size([2106])\n"
          ]
        },
        {
          "output_type": "stream",
          "name": "stderr",
          "text": [
            "/usr/local/lib/python3.10/dist-packages/torch/nn/modules/loss.py:536: UserWarning: Using a target size (torch.Size([10])) that is different to the input size (torch.Size([10, 1])). This will likely lead to incorrect results due to broadcasting. Please ensure they have the same size.\n",
            "  return F.mse_loss(input, target, reduction=self.reduction)\n",
            "/usr/local/lib/python3.10/dist-packages/torch/nn/modules/loss.py:536: UserWarning: Using a target size (torch.Size([2])) that is different to the input size (torch.Size([2, 1])). This will likely lead to incorrect results due to broadcasting. Please ensure they have the same size.\n",
            "  return F.mse_loss(input, target, reduction=self.reduction)\n",
            "/usr/local/lib/python3.10/dist-packages/torch/nn/modules/loss.py:536: UserWarning: Using a target size (torch.Size([2106])) that is different to the input size (torch.Size([2106, 1])). This will likely lead to incorrect results due to broadcasting. Please ensure they have the same size.\n",
            "  return F.mse_loss(input, target, reduction=self.reduction)\n",
            "/usr/local/lib/python3.10/dist-packages/torch/nn/modules/loss.py:536: UserWarning: Using a target size (torch.Size([4912])) that is different to the input size (torch.Size([4912, 1])). This will likely lead to incorrect results due to broadcasting. Please ensure they have the same size.\n",
            "  return F.mse_loss(input, target, reduction=self.reduction)\n"
          ]
        },
        {
          "output_type": "stream",
          "name": "stdout",
          "text": [
            "(7018, 420)\n",
            "Input shape:   (7018, 420)\n",
            "Output shape:   (7018,)\n",
            "X train shape:   torch.Size([4912, 420])\n",
            "y train shape:   torch.Size([4912])\n",
            "X test shape:    torch.Size([2106, 420])\n",
            "y test shape:   torch.Size([2106])\n"
          ]
        },
        {
          "output_type": "stream",
          "name": "stderr",
          "text": [
            "/usr/local/lib/python3.10/dist-packages/torch/nn/modules/loss.py:536: UserWarning: Using a target size (torch.Size([10])) that is different to the input size (torch.Size([10, 1])). This will likely lead to incorrect results due to broadcasting. Please ensure they have the same size.\n",
            "  return F.mse_loss(input, target, reduction=self.reduction)\n",
            "/usr/local/lib/python3.10/dist-packages/torch/nn/modules/loss.py:536: UserWarning: Using a target size (torch.Size([2])) that is different to the input size (torch.Size([2, 1])). This will likely lead to incorrect results due to broadcasting. Please ensure they have the same size.\n",
            "  return F.mse_loss(input, target, reduction=self.reduction)\n",
            "/usr/local/lib/python3.10/dist-packages/torch/nn/modules/loss.py:536: UserWarning: Using a target size (torch.Size([2106])) that is different to the input size (torch.Size([2106, 1])). This will likely lead to incorrect results due to broadcasting. Please ensure they have the same size.\n",
            "  return F.mse_loss(input, target, reduction=self.reduction)\n",
            "/usr/local/lib/python3.10/dist-packages/torch/nn/modules/loss.py:536: UserWarning: Using a target size (torch.Size([4912])) that is different to the input size (torch.Size([4912, 1])). This will likely lead to incorrect results due to broadcasting. Please ensure they have the same size.\n",
            "  return F.mse_loss(input, target, reduction=self.reduction)\n"
          ]
        },
        {
          "output_type": "stream",
          "name": "stdout",
          "text": [
            "(7018, 430)\n",
            "Input shape:   (7018, 430)\n",
            "Output shape:   (7018,)\n",
            "X train shape:   torch.Size([4912, 430])\n",
            "y train shape:   torch.Size([4912])\n",
            "X test shape:    torch.Size([2106, 430])\n",
            "y test shape:   torch.Size([2106])\n"
          ]
        },
        {
          "output_type": "stream",
          "name": "stderr",
          "text": [
            "/usr/local/lib/python3.10/dist-packages/torch/nn/modules/loss.py:536: UserWarning: Using a target size (torch.Size([10])) that is different to the input size (torch.Size([10, 1])). This will likely lead to incorrect results due to broadcasting. Please ensure they have the same size.\n",
            "  return F.mse_loss(input, target, reduction=self.reduction)\n",
            "/usr/local/lib/python3.10/dist-packages/torch/nn/modules/loss.py:536: UserWarning: Using a target size (torch.Size([2])) that is different to the input size (torch.Size([2, 1])). This will likely lead to incorrect results due to broadcasting. Please ensure they have the same size.\n",
            "  return F.mse_loss(input, target, reduction=self.reduction)\n",
            "/usr/local/lib/python3.10/dist-packages/torch/nn/modules/loss.py:536: UserWarning: Using a target size (torch.Size([2106])) that is different to the input size (torch.Size([2106, 1])). This will likely lead to incorrect results due to broadcasting. Please ensure they have the same size.\n",
            "  return F.mse_loss(input, target, reduction=self.reduction)\n",
            "/usr/local/lib/python3.10/dist-packages/torch/nn/modules/loss.py:536: UserWarning: Using a target size (torch.Size([4912])) that is different to the input size (torch.Size([4912, 1])). This will likely lead to incorrect results due to broadcasting. Please ensure they have the same size.\n",
            "  return F.mse_loss(input, target, reduction=self.reduction)\n"
          ]
        },
        {
          "output_type": "stream",
          "name": "stdout",
          "text": [
            "(7018, 440)\n",
            "Input shape:   (7018, 440)\n",
            "Output shape:   (7018,)\n",
            "X train shape:   torch.Size([4912, 440])\n",
            "y train shape:   torch.Size([4912])\n",
            "X test shape:    torch.Size([2106, 440])\n",
            "y test shape:   torch.Size([2106])\n"
          ]
        },
        {
          "output_type": "stream",
          "name": "stderr",
          "text": [
            "/usr/local/lib/python3.10/dist-packages/torch/nn/modules/loss.py:536: UserWarning: Using a target size (torch.Size([10])) that is different to the input size (torch.Size([10, 1])). This will likely lead to incorrect results due to broadcasting. Please ensure they have the same size.\n",
            "  return F.mse_loss(input, target, reduction=self.reduction)\n",
            "/usr/local/lib/python3.10/dist-packages/torch/nn/modules/loss.py:536: UserWarning: Using a target size (torch.Size([2])) that is different to the input size (torch.Size([2, 1])). This will likely lead to incorrect results due to broadcasting. Please ensure they have the same size.\n",
            "  return F.mse_loss(input, target, reduction=self.reduction)\n",
            "/usr/local/lib/python3.10/dist-packages/torch/nn/modules/loss.py:536: UserWarning: Using a target size (torch.Size([2106])) that is different to the input size (torch.Size([2106, 1])). This will likely lead to incorrect results due to broadcasting. Please ensure they have the same size.\n",
            "  return F.mse_loss(input, target, reduction=self.reduction)\n",
            "/usr/local/lib/python3.10/dist-packages/torch/nn/modules/loss.py:536: UserWarning: Using a target size (torch.Size([4912])) that is different to the input size (torch.Size([4912, 1])). This will likely lead to incorrect results due to broadcasting. Please ensure they have the same size.\n",
            "  return F.mse_loss(input, target, reduction=self.reduction)\n"
          ]
        },
        {
          "output_type": "stream",
          "name": "stdout",
          "text": [
            "(7018, 450)\n",
            "Input shape:   (7018, 450)\n",
            "Output shape:   (7018,)\n",
            "X train shape:   torch.Size([4912, 450])\n",
            "y train shape:   torch.Size([4912])\n",
            "X test shape:    torch.Size([2106, 450])\n",
            "y test shape:   torch.Size([2106])\n"
          ]
        },
        {
          "output_type": "stream",
          "name": "stderr",
          "text": [
            "/usr/local/lib/python3.10/dist-packages/torch/nn/modules/loss.py:536: UserWarning: Using a target size (torch.Size([10])) that is different to the input size (torch.Size([10, 1])). This will likely lead to incorrect results due to broadcasting. Please ensure they have the same size.\n",
            "  return F.mse_loss(input, target, reduction=self.reduction)\n",
            "/usr/local/lib/python3.10/dist-packages/torch/nn/modules/loss.py:536: UserWarning: Using a target size (torch.Size([2])) that is different to the input size (torch.Size([2, 1])). This will likely lead to incorrect results due to broadcasting. Please ensure they have the same size.\n",
            "  return F.mse_loss(input, target, reduction=self.reduction)\n",
            "/usr/local/lib/python3.10/dist-packages/torch/nn/modules/loss.py:536: UserWarning: Using a target size (torch.Size([2106])) that is different to the input size (torch.Size([2106, 1])). This will likely lead to incorrect results due to broadcasting. Please ensure they have the same size.\n",
            "  return F.mse_loss(input, target, reduction=self.reduction)\n",
            "/usr/local/lib/python3.10/dist-packages/torch/nn/modules/loss.py:536: UserWarning: Using a target size (torch.Size([4912])) that is different to the input size (torch.Size([4912, 1])). This will likely lead to incorrect results due to broadcasting. Please ensure they have the same size.\n",
            "  return F.mse_loss(input, target, reduction=self.reduction)\n"
          ]
        },
        {
          "output_type": "stream",
          "name": "stdout",
          "text": [
            "(7018, 460)\n",
            "Input shape:   (7018, 460)\n",
            "Output shape:   (7018,)\n",
            "X train shape:   torch.Size([4912, 460])\n",
            "y train shape:   torch.Size([4912])\n",
            "X test shape:    torch.Size([2106, 460])\n",
            "y test shape:   torch.Size([2106])\n"
          ]
        },
        {
          "output_type": "stream",
          "name": "stderr",
          "text": [
            "/usr/local/lib/python3.10/dist-packages/torch/nn/modules/loss.py:536: UserWarning: Using a target size (torch.Size([10])) that is different to the input size (torch.Size([10, 1])). This will likely lead to incorrect results due to broadcasting. Please ensure they have the same size.\n",
            "  return F.mse_loss(input, target, reduction=self.reduction)\n",
            "/usr/local/lib/python3.10/dist-packages/torch/nn/modules/loss.py:536: UserWarning: Using a target size (torch.Size([2])) that is different to the input size (torch.Size([2, 1])). This will likely lead to incorrect results due to broadcasting. Please ensure they have the same size.\n",
            "  return F.mse_loss(input, target, reduction=self.reduction)\n",
            "/usr/local/lib/python3.10/dist-packages/torch/nn/modules/loss.py:536: UserWarning: Using a target size (torch.Size([2106])) that is different to the input size (torch.Size([2106, 1])). This will likely lead to incorrect results due to broadcasting. Please ensure they have the same size.\n",
            "  return F.mse_loss(input, target, reduction=self.reduction)\n",
            "/usr/local/lib/python3.10/dist-packages/torch/nn/modules/loss.py:536: UserWarning: Using a target size (torch.Size([4912])) that is different to the input size (torch.Size([4912, 1])). This will likely lead to incorrect results due to broadcasting. Please ensure they have the same size.\n",
            "  return F.mse_loss(input, target, reduction=self.reduction)\n"
          ]
        },
        {
          "output_type": "stream",
          "name": "stdout",
          "text": [
            "(7018, 470)\n",
            "Input shape:   (7018, 470)\n",
            "Output shape:   (7018,)\n",
            "X train shape:   torch.Size([4912, 470])\n",
            "y train shape:   torch.Size([4912])\n",
            "X test shape:    torch.Size([2106, 470])\n",
            "y test shape:   torch.Size([2106])\n"
          ]
        },
        {
          "output_type": "stream",
          "name": "stderr",
          "text": [
            "/usr/local/lib/python3.10/dist-packages/torch/nn/modules/loss.py:536: UserWarning: Using a target size (torch.Size([10])) that is different to the input size (torch.Size([10, 1])). This will likely lead to incorrect results due to broadcasting. Please ensure they have the same size.\n",
            "  return F.mse_loss(input, target, reduction=self.reduction)\n",
            "/usr/local/lib/python3.10/dist-packages/torch/nn/modules/loss.py:536: UserWarning: Using a target size (torch.Size([2])) that is different to the input size (torch.Size([2, 1])). This will likely lead to incorrect results due to broadcasting. Please ensure they have the same size.\n",
            "  return F.mse_loss(input, target, reduction=self.reduction)\n",
            "/usr/local/lib/python3.10/dist-packages/torch/nn/modules/loss.py:536: UserWarning: Using a target size (torch.Size([2106])) that is different to the input size (torch.Size([2106, 1])). This will likely lead to incorrect results due to broadcasting. Please ensure they have the same size.\n",
            "  return F.mse_loss(input, target, reduction=self.reduction)\n",
            "/usr/local/lib/python3.10/dist-packages/torch/nn/modules/loss.py:536: UserWarning: Using a target size (torch.Size([4912])) that is different to the input size (torch.Size([4912, 1])). This will likely lead to incorrect results due to broadcasting. Please ensure they have the same size.\n",
            "  return F.mse_loss(input, target, reduction=self.reduction)\n"
          ]
        },
        {
          "output_type": "stream",
          "name": "stdout",
          "text": [
            "(7018, 480)\n",
            "Input shape:   (7018, 480)\n",
            "Output shape:   (7018,)\n",
            "X train shape:   torch.Size([4912, 480])\n",
            "y train shape:   torch.Size([4912])\n",
            "X test shape:    torch.Size([2106, 480])\n",
            "y test shape:   torch.Size([2106])\n"
          ]
        },
        {
          "output_type": "stream",
          "name": "stderr",
          "text": [
            "/usr/local/lib/python3.10/dist-packages/torch/nn/modules/loss.py:536: UserWarning: Using a target size (torch.Size([10])) that is different to the input size (torch.Size([10, 1])). This will likely lead to incorrect results due to broadcasting. Please ensure they have the same size.\n",
            "  return F.mse_loss(input, target, reduction=self.reduction)\n",
            "/usr/local/lib/python3.10/dist-packages/torch/nn/modules/loss.py:536: UserWarning: Using a target size (torch.Size([2])) that is different to the input size (torch.Size([2, 1])). This will likely lead to incorrect results due to broadcasting. Please ensure they have the same size.\n",
            "  return F.mse_loss(input, target, reduction=self.reduction)\n",
            "/usr/local/lib/python3.10/dist-packages/torch/nn/modules/loss.py:536: UserWarning: Using a target size (torch.Size([2106])) that is different to the input size (torch.Size([2106, 1])). This will likely lead to incorrect results due to broadcasting. Please ensure they have the same size.\n",
            "  return F.mse_loss(input, target, reduction=self.reduction)\n",
            "/usr/local/lib/python3.10/dist-packages/torch/nn/modules/loss.py:536: UserWarning: Using a target size (torch.Size([4912])) that is different to the input size (torch.Size([4912, 1])). This will likely lead to incorrect results due to broadcasting. Please ensure they have the same size.\n",
            "  return F.mse_loss(input, target, reduction=self.reduction)\n"
          ]
        },
        {
          "output_type": "stream",
          "name": "stdout",
          "text": [
            "(7018, 490)\n",
            "Input shape:   (7018, 490)\n",
            "Output shape:   (7018,)\n",
            "X train shape:   torch.Size([4912, 490])\n",
            "y train shape:   torch.Size([4912])\n",
            "X test shape:    torch.Size([2106, 490])\n",
            "y test shape:   torch.Size([2106])\n"
          ]
        },
        {
          "output_type": "stream",
          "name": "stderr",
          "text": [
            "/usr/local/lib/python3.10/dist-packages/torch/nn/modules/loss.py:536: UserWarning: Using a target size (torch.Size([10])) that is different to the input size (torch.Size([10, 1])). This will likely lead to incorrect results due to broadcasting. Please ensure they have the same size.\n",
            "  return F.mse_loss(input, target, reduction=self.reduction)\n",
            "/usr/local/lib/python3.10/dist-packages/torch/nn/modules/loss.py:536: UserWarning: Using a target size (torch.Size([2])) that is different to the input size (torch.Size([2, 1])). This will likely lead to incorrect results due to broadcasting. Please ensure they have the same size.\n",
            "  return F.mse_loss(input, target, reduction=self.reduction)\n",
            "/usr/local/lib/python3.10/dist-packages/torch/nn/modules/loss.py:536: UserWarning: Using a target size (torch.Size([2106])) that is different to the input size (torch.Size([2106, 1])). This will likely lead to incorrect results due to broadcasting. Please ensure they have the same size.\n",
            "  return F.mse_loss(input, target, reduction=self.reduction)\n",
            "/usr/local/lib/python3.10/dist-packages/torch/nn/modules/loss.py:536: UserWarning: Using a target size (torch.Size([4912])) that is different to the input size (torch.Size([4912, 1])). This will likely lead to incorrect results due to broadcasting. Please ensure they have the same size.\n",
            "  return F.mse_loss(input, target, reduction=self.reduction)\n"
          ]
        },
        {
          "output_type": "stream",
          "name": "stdout",
          "text": [
            "(7018, 500)\n",
            "Input shape:   (7018, 500)\n",
            "Output shape:   (7018,)\n",
            "X train shape:   torch.Size([4912, 500])\n",
            "y train shape:   torch.Size([4912])\n",
            "X test shape:    torch.Size([2106, 500])\n",
            "y test shape:   torch.Size([2106])\n"
          ]
        },
        {
          "output_type": "stream",
          "name": "stderr",
          "text": [
            "/usr/local/lib/python3.10/dist-packages/torch/nn/modules/loss.py:536: UserWarning: Using a target size (torch.Size([10])) that is different to the input size (torch.Size([10, 1])). This will likely lead to incorrect results due to broadcasting. Please ensure they have the same size.\n",
            "  return F.mse_loss(input, target, reduction=self.reduction)\n",
            "/usr/local/lib/python3.10/dist-packages/torch/nn/modules/loss.py:536: UserWarning: Using a target size (torch.Size([2])) that is different to the input size (torch.Size([2, 1])). This will likely lead to incorrect results due to broadcasting. Please ensure they have the same size.\n",
            "  return F.mse_loss(input, target, reduction=self.reduction)\n",
            "/usr/local/lib/python3.10/dist-packages/torch/nn/modules/loss.py:536: UserWarning: Using a target size (torch.Size([2106])) that is different to the input size (torch.Size([2106, 1])). This will likely lead to incorrect results due to broadcasting. Please ensure they have the same size.\n",
            "  return F.mse_loss(input, target, reduction=self.reduction)\n",
            "/usr/local/lib/python3.10/dist-packages/torch/nn/modules/loss.py:536: UserWarning: Using a target size (torch.Size([4912])) that is different to the input size (torch.Size([4912, 1])). This will likely lead to incorrect results due to broadcasting. Please ensure they have the same size.\n",
            "  return F.mse_loss(input, target, reduction=self.reduction)\n"
          ]
        },
        {
          "output_type": "stream",
          "name": "stdout",
          "text": [
            "(7018, 510)\n",
            "Input shape:   (7018, 510)\n",
            "Output shape:   (7018,)\n",
            "X train shape:   torch.Size([4912, 510])\n",
            "y train shape:   torch.Size([4912])\n",
            "X test shape:    torch.Size([2106, 510])\n",
            "y test shape:   torch.Size([2106])\n"
          ]
        },
        {
          "output_type": "stream",
          "name": "stderr",
          "text": [
            "/usr/local/lib/python3.10/dist-packages/torch/nn/modules/loss.py:536: UserWarning: Using a target size (torch.Size([10])) that is different to the input size (torch.Size([10, 1])). This will likely lead to incorrect results due to broadcasting. Please ensure they have the same size.\n",
            "  return F.mse_loss(input, target, reduction=self.reduction)\n",
            "/usr/local/lib/python3.10/dist-packages/torch/nn/modules/loss.py:536: UserWarning: Using a target size (torch.Size([2])) that is different to the input size (torch.Size([2, 1])). This will likely lead to incorrect results due to broadcasting. Please ensure they have the same size.\n",
            "  return F.mse_loss(input, target, reduction=self.reduction)\n",
            "/usr/local/lib/python3.10/dist-packages/torch/nn/modules/loss.py:536: UserWarning: Using a target size (torch.Size([2106])) that is different to the input size (torch.Size([2106, 1])). This will likely lead to incorrect results due to broadcasting. Please ensure they have the same size.\n",
            "  return F.mse_loss(input, target, reduction=self.reduction)\n",
            "/usr/local/lib/python3.10/dist-packages/torch/nn/modules/loss.py:536: UserWarning: Using a target size (torch.Size([4912])) that is different to the input size (torch.Size([4912, 1])). This will likely lead to incorrect results due to broadcasting. Please ensure they have the same size.\n",
            "  return F.mse_loss(input, target, reduction=self.reduction)\n"
          ]
        },
        {
          "output_type": "stream",
          "name": "stdout",
          "text": [
            "(7018, 520)\n",
            "Input shape:   (7018, 520)\n",
            "Output shape:   (7018,)\n",
            "X train shape:   torch.Size([4912, 520])\n",
            "y train shape:   torch.Size([4912])\n",
            "X test shape:    torch.Size([2106, 520])\n",
            "y test shape:   torch.Size([2106])\n"
          ]
        },
        {
          "output_type": "stream",
          "name": "stderr",
          "text": [
            "/usr/local/lib/python3.10/dist-packages/torch/nn/modules/loss.py:536: UserWarning: Using a target size (torch.Size([10])) that is different to the input size (torch.Size([10, 1])). This will likely lead to incorrect results due to broadcasting. Please ensure they have the same size.\n",
            "  return F.mse_loss(input, target, reduction=self.reduction)\n",
            "/usr/local/lib/python3.10/dist-packages/torch/nn/modules/loss.py:536: UserWarning: Using a target size (torch.Size([2])) that is different to the input size (torch.Size([2, 1])). This will likely lead to incorrect results due to broadcasting. Please ensure they have the same size.\n",
            "  return F.mse_loss(input, target, reduction=self.reduction)\n",
            "/usr/local/lib/python3.10/dist-packages/torch/nn/modules/loss.py:536: UserWarning: Using a target size (torch.Size([2106])) that is different to the input size (torch.Size([2106, 1])). This will likely lead to incorrect results due to broadcasting. Please ensure they have the same size.\n",
            "  return F.mse_loss(input, target, reduction=self.reduction)\n",
            "/usr/local/lib/python3.10/dist-packages/torch/nn/modules/loss.py:536: UserWarning: Using a target size (torch.Size([4912])) that is different to the input size (torch.Size([4912, 1])). This will likely lead to incorrect results due to broadcasting. Please ensure they have the same size.\n",
            "  return F.mse_loss(input, target, reduction=self.reduction)\n"
          ]
        },
        {
          "output_type": "stream",
          "name": "stdout",
          "text": [
            "(7018, 530)\n",
            "Input shape:   (7018, 530)\n",
            "Output shape:   (7018,)\n",
            "X train shape:   torch.Size([4912, 530])\n",
            "y train shape:   torch.Size([4912])\n",
            "X test shape:    torch.Size([2106, 530])\n",
            "y test shape:   torch.Size([2106])\n"
          ]
        },
        {
          "output_type": "stream",
          "name": "stderr",
          "text": [
            "/usr/local/lib/python3.10/dist-packages/torch/nn/modules/loss.py:536: UserWarning: Using a target size (torch.Size([10])) that is different to the input size (torch.Size([10, 1])). This will likely lead to incorrect results due to broadcasting. Please ensure they have the same size.\n",
            "  return F.mse_loss(input, target, reduction=self.reduction)\n",
            "/usr/local/lib/python3.10/dist-packages/torch/nn/modules/loss.py:536: UserWarning: Using a target size (torch.Size([2])) that is different to the input size (torch.Size([2, 1])). This will likely lead to incorrect results due to broadcasting. Please ensure they have the same size.\n",
            "  return F.mse_loss(input, target, reduction=self.reduction)\n",
            "/usr/local/lib/python3.10/dist-packages/torch/nn/modules/loss.py:536: UserWarning: Using a target size (torch.Size([2106])) that is different to the input size (torch.Size([2106, 1])). This will likely lead to incorrect results due to broadcasting. Please ensure they have the same size.\n",
            "  return F.mse_loss(input, target, reduction=self.reduction)\n",
            "/usr/local/lib/python3.10/dist-packages/torch/nn/modules/loss.py:536: UserWarning: Using a target size (torch.Size([4912])) that is different to the input size (torch.Size([4912, 1])). This will likely lead to incorrect results due to broadcasting. Please ensure they have the same size.\n",
            "  return F.mse_loss(input, target, reduction=self.reduction)\n"
          ]
        },
        {
          "output_type": "stream",
          "name": "stdout",
          "text": [
            "(7018, 540)\n",
            "Input shape:   (7018, 540)\n",
            "Output shape:   (7018,)\n",
            "X train shape:   torch.Size([4912, 540])\n",
            "y train shape:   torch.Size([4912])\n",
            "X test shape:    torch.Size([2106, 540])\n",
            "y test shape:   torch.Size([2106])\n"
          ]
        },
        {
          "output_type": "stream",
          "name": "stderr",
          "text": [
            "/usr/local/lib/python3.10/dist-packages/torch/nn/modules/loss.py:536: UserWarning: Using a target size (torch.Size([10])) that is different to the input size (torch.Size([10, 1])). This will likely lead to incorrect results due to broadcasting. Please ensure they have the same size.\n",
            "  return F.mse_loss(input, target, reduction=self.reduction)\n",
            "/usr/local/lib/python3.10/dist-packages/torch/nn/modules/loss.py:536: UserWarning: Using a target size (torch.Size([2])) that is different to the input size (torch.Size([2, 1])). This will likely lead to incorrect results due to broadcasting. Please ensure they have the same size.\n",
            "  return F.mse_loss(input, target, reduction=self.reduction)\n",
            "/usr/local/lib/python3.10/dist-packages/torch/nn/modules/loss.py:536: UserWarning: Using a target size (torch.Size([2106])) that is different to the input size (torch.Size([2106, 1])). This will likely lead to incorrect results due to broadcasting. Please ensure they have the same size.\n",
            "  return F.mse_loss(input, target, reduction=self.reduction)\n",
            "/usr/local/lib/python3.10/dist-packages/torch/nn/modules/loss.py:536: UserWarning: Using a target size (torch.Size([4912])) that is different to the input size (torch.Size([4912, 1])). This will likely lead to incorrect results due to broadcasting. Please ensure they have the same size.\n",
            "  return F.mse_loss(input, target, reduction=self.reduction)\n"
          ]
        },
        {
          "output_type": "stream",
          "name": "stdout",
          "text": [
            "(7018, 550)\n",
            "Input shape:   (7018, 550)\n",
            "Output shape:   (7018,)\n",
            "X train shape:   torch.Size([4912, 550])\n",
            "y train shape:   torch.Size([4912])\n",
            "X test shape:    torch.Size([2106, 550])\n",
            "y test shape:   torch.Size([2106])\n"
          ]
        },
        {
          "output_type": "stream",
          "name": "stderr",
          "text": [
            "/usr/local/lib/python3.10/dist-packages/torch/nn/modules/loss.py:536: UserWarning: Using a target size (torch.Size([10])) that is different to the input size (torch.Size([10, 1])). This will likely lead to incorrect results due to broadcasting. Please ensure they have the same size.\n",
            "  return F.mse_loss(input, target, reduction=self.reduction)\n",
            "/usr/local/lib/python3.10/dist-packages/torch/nn/modules/loss.py:536: UserWarning: Using a target size (torch.Size([2])) that is different to the input size (torch.Size([2, 1])). This will likely lead to incorrect results due to broadcasting. Please ensure they have the same size.\n",
            "  return F.mse_loss(input, target, reduction=self.reduction)\n",
            "/usr/local/lib/python3.10/dist-packages/torch/nn/modules/loss.py:536: UserWarning: Using a target size (torch.Size([2106])) that is different to the input size (torch.Size([2106, 1])). This will likely lead to incorrect results due to broadcasting. Please ensure they have the same size.\n",
            "  return F.mse_loss(input, target, reduction=self.reduction)\n",
            "/usr/local/lib/python3.10/dist-packages/torch/nn/modules/loss.py:536: UserWarning: Using a target size (torch.Size([4912])) that is different to the input size (torch.Size([4912, 1])). This will likely lead to incorrect results due to broadcasting. Please ensure they have the same size.\n",
            "  return F.mse_loss(input, target, reduction=self.reduction)\n"
          ]
        },
        {
          "output_type": "stream",
          "name": "stdout",
          "text": [
            "(7018, 560)\n",
            "Input shape:   (7018, 560)\n",
            "Output shape:   (7018,)\n",
            "X train shape:   torch.Size([4912, 560])\n",
            "y train shape:   torch.Size([4912])\n",
            "X test shape:    torch.Size([2106, 560])\n",
            "y test shape:   torch.Size([2106])\n"
          ]
        },
        {
          "output_type": "stream",
          "name": "stderr",
          "text": [
            "/usr/local/lib/python3.10/dist-packages/torch/nn/modules/loss.py:536: UserWarning: Using a target size (torch.Size([10])) that is different to the input size (torch.Size([10, 1])). This will likely lead to incorrect results due to broadcasting. Please ensure they have the same size.\n",
            "  return F.mse_loss(input, target, reduction=self.reduction)\n",
            "/usr/local/lib/python3.10/dist-packages/torch/nn/modules/loss.py:536: UserWarning: Using a target size (torch.Size([2])) that is different to the input size (torch.Size([2, 1])). This will likely lead to incorrect results due to broadcasting. Please ensure they have the same size.\n",
            "  return F.mse_loss(input, target, reduction=self.reduction)\n",
            "/usr/local/lib/python3.10/dist-packages/torch/nn/modules/loss.py:536: UserWarning: Using a target size (torch.Size([2106])) that is different to the input size (torch.Size([2106, 1])). This will likely lead to incorrect results due to broadcasting. Please ensure they have the same size.\n",
            "  return F.mse_loss(input, target, reduction=self.reduction)\n",
            "/usr/local/lib/python3.10/dist-packages/torch/nn/modules/loss.py:536: UserWarning: Using a target size (torch.Size([4912])) that is different to the input size (torch.Size([4912, 1])). This will likely lead to incorrect results due to broadcasting. Please ensure they have the same size.\n",
            "  return F.mse_loss(input, target, reduction=self.reduction)\n"
          ]
        },
        {
          "output_type": "stream",
          "name": "stdout",
          "text": [
            "(7018, 570)\n",
            "Input shape:   (7018, 570)\n",
            "Output shape:   (7018,)\n",
            "X train shape:   torch.Size([4912, 570])\n",
            "y train shape:   torch.Size([4912])\n",
            "X test shape:    torch.Size([2106, 570])\n",
            "y test shape:   torch.Size([2106])\n"
          ]
        },
        {
          "output_type": "stream",
          "name": "stderr",
          "text": [
            "/usr/local/lib/python3.10/dist-packages/torch/nn/modules/loss.py:536: UserWarning: Using a target size (torch.Size([10])) that is different to the input size (torch.Size([10, 1])). This will likely lead to incorrect results due to broadcasting. Please ensure they have the same size.\n",
            "  return F.mse_loss(input, target, reduction=self.reduction)\n",
            "/usr/local/lib/python3.10/dist-packages/torch/nn/modules/loss.py:536: UserWarning: Using a target size (torch.Size([2])) that is different to the input size (torch.Size([2, 1])). This will likely lead to incorrect results due to broadcasting. Please ensure they have the same size.\n",
            "  return F.mse_loss(input, target, reduction=self.reduction)\n",
            "/usr/local/lib/python3.10/dist-packages/torch/nn/modules/loss.py:536: UserWarning: Using a target size (torch.Size([2106])) that is different to the input size (torch.Size([2106, 1])). This will likely lead to incorrect results due to broadcasting. Please ensure they have the same size.\n",
            "  return F.mse_loss(input, target, reduction=self.reduction)\n",
            "/usr/local/lib/python3.10/dist-packages/torch/nn/modules/loss.py:536: UserWarning: Using a target size (torch.Size([4912])) that is different to the input size (torch.Size([4912, 1])). This will likely lead to incorrect results due to broadcasting. Please ensure they have the same size.\n",
            "  return F.mse_loss(input, target, reduction=self.reduction)\n"
          ]
        },
        {
          "output_type": "stream",
          "name": "stdout",
          "text": [
            "(7018, 580)\n",
            "Input shape:   (7018, 580)\n",
            "Output shape:   (7018,)\n",
            "X train shape:   torch.Size([4912, 580])\n",
            "y train shape:   torch.Size([4912])\n",
            "X test shape:    torch.Size([2106, 580])\n",
            "y test shape:   torch.Size([2106])\n"
          ]
        },
        {
          "output_type": "stream",
          "name": "stderr",
          "text": [
            "/usr/local/lib/python3.10/dist-packages/torch/nn/modules/loss.py:536: UserWarning: Using a target size (torch.Size([10])) that is different to the input size (torch.Size([10, 1])). This will likely lead to incorrect results due to broadcasting. Please ensure they have the same size.\n",
            "  return F.mse_loss(input, target, reduction=self.reduction)\n",
            "/usr/local/lib/python3.10/dist-packages/torch/nn/modules/loss.py:536: UserWarning: Using a target size (torch.Size([2])) that is different to the input size (torch.Size([2, 1])). This will likely lead to incorrect results due to broadcasting. Please ensure they have the same size.\n",
            "  return F.mse_loss(input, target, reduction=self.reduction)\n",
            "/usr/local/lib/python3.10/dist-packages/torch/nn/modules/loss.py:536: UserWarning: Using a target size (torch.Size([2106])) that is different to the input size (torch.Size([2106, 1])). This will likely lead to incorrect results due to broadcasting. Please ensure they have the same size.\n",
            "  return F.mse_loss(input, target, reduction=self.reduction)\n",
            "/usr/local/lib/python3.10/dist-packages/torch/nn/modules/loss.py:536: UserWarning: Using a target size (torch.Size([4912])) that is different to the input size (torch.Size([4912, 1])). This will likely lead to incorrect results due to broadcasting. Please ensure they have the same size.\n",
            "  return F.mse_loss(input, target, reduction=self.reduction)\n"
          ]
        },
        {
          "output_type": "stream",
          "name": "stdout",
          "text": [
            "(7018, 590)\n",
            "Input shape:   (7018, 590)\n",
            "Output shape:   (7018,)\n",
            "X train shape:   torch.Size([4912, 590])\n",
            "y train shape:   torch.Size([4912])\n",
            "X test shape:    torch.Size([2106, 590])\n",
            "y test shape:   torch.Size([2106])\n"
          ]
        },
        {
          "output_type": "stream",
          "name": "stderr",
          "text": [
            "/usr/local/lib/python3.10/dist-packages/torch/nn/modules/loss.py:536: UserWarning: Using a target size (torch.Size([10])) that is different to the input size (torch.Size([10, 1])). This will likely lead to incorrect results due to broadcasting. Please ensure they have the same size.\n",
            "  return F.mse_loss(input, target, reduction=self.reduction)\n",
            "/usr/local/lib/python3.10/dist-packages/torch/nn/modules/loss.py:536: UserWarning: Using a target size (torch.Size([2])) that is different to the input size (torch.Size([2, 1])). This will likely lead to incorrect results due to broadcasting. Please ensure they have the same size.\n",
            "  return F.mse_loss(input, target, reduction=self.reduction)\n",
            "/usr/local/lib/python3.10/dist-packages/torch/nn/modules/loss.py:536: UserWarning: Using a target size (torch.Size([2106])) that is different to the input size (torch.Size([2106, 1])). This will likely lead to incorrect results due to broadcasting. Please ensure they have the same size.\n",
            "  return F.mse_loss(input, target, reduction=self.reduction)\n",
            "/usr/local/lib/python3.10/dist-packages/torch/nn/modules/loss.py:536: UserWarning: Using a target size (torch.Size([4912])) that is different to the input size (torch.Size([4912, 1])). This will likely lead to incorrect results due to broadcasting. Please ensure they have the same size.\n",
            "  return F.mse_loss(input, target, reduction=self.reduction)\n"
          ]
        },
        {
          "output_type": "stream",
          "name": "stdout",
          "text": [
            "(7018, 600)\n",
            "Input shape:   (7018, 600)\n",
            "Output shape:   (7018,)\n",
            "X train shape:   torch.Size([4912, 600])\n",
            "y train shape:   torch.Size([4912])\n",
            "X test shape:    torch.Size([2106, 600])\n",
            "y test shape:   torch.Size([2106])\n"
          ]
        },
        {
          "output_type": "stream",
          "name": "stderr",
          "text": [
            "/usr/local/lib/python3.10/dist-packages/torch/nn/modules/loss.py:536: UserWarning: Using a target size (torch.Size([10])) that is different to the input size (torch.Size([10, 1])). This will likely lead to incorrect results due to broadcasting. Please ensure they have the same size.\n",
            "  return F.mse_loss(input, target, reduction=self.reduction)\n",
            "/usr/local/lib/python3.10/dist-packages/torch/nn/modules/loss.py:536: UserWarning: Using a target size (torch.Size([2])) that is different to the input size (torch.Size([2, 1])). This will likely lead to incorrect results due to broadcasting. Please ensure they have the same size.\n",
            "  return F.mse_loss(input, target, reduction=self.reduction)\n",
            "/usr/local/lib/python3.10/dist-packages/torch/nn/modules/loss.py:536: UserWarning: Using a target size (torch.Size([2106])) that is different to the input size (torch.Size([2106, 1])). This will likely lead to incorrect results due to broadcasting. Please ensure they have the same size.\n",
            "  return F.mse_loss(input, target, reduction=self.reduction)\n",
            "/usr/local/lib/python3.10/dist-packages/torch/nn/modules/loss.py:536: UserWarning: Using a target size (torch.Size([4912])) that is different to the input size (torch.Size([4912, 1])). This will likely lead to incorrect results due to broadcasting. Please ensure they have the same size.\n",
            "  return F.mse_loss(input, target, reduction=self.reduction)\n"
          ]
        },
        {
          "output_type": "stream",
          "name": "stdout",
          "text": [
            "(7018, 610)\n",
            "Input shape:   (7018, 610)\n",
            "Output shape:   (7018,)\n",
            "X train shape:   torch.Size([4912, 610])\n",
            "y train shape:   torch.Size([4912])\n",
            "X test shape:    torch.Size([2106, 610])\n",
            "y test shape:   torch.Size([2106])\n"
          ]
        },
        {
          "output_type": "stream",
          "name": "stderr",
          "text": [
            "/usr/local/lib/python3.10/dist-packages/torch/nn/modules/loss.py:536: UserWarning: Using a target size (torch.Size([10])) that is different to the input size (torch.Size([10, 1])). This will likely lead to incorrect results due to broadcasting. Please ensure they have the same size.\n",
            "  return F.mse_loss(input, target, reduction=self.reduction)\n",
            "/usr/local/lib/python3.10/dist-packages/torch/nn/modules/loss.py:536: UserWarning: Using a target size (torch.Size([2])) that is different to the input size (torch.Size([2, 1])). This will likely lead to incorrect results due to broadcasting. Please ensure they have the same size.\n",
            "  return F.mse_loss(input, target, reduction=self.reduction)\n",
            "/usr/local/lib/python3.10/dist-packages/torch/nn/modules/loss.py:536: UserWarning: Using a target size (torch.Size([2106])) that is different to the input size (torch.Size([2106, 1])). This will likely lead to incorrect results due to broadcasting. Please ensure they have the same size.\n",
            "  return F.mse_loss(input, target, reduction=self.reduction)\n",
            "/usr/local/lib/python3.10/dist-packages/torch/nn/modules/loss.py:536: UserWarning: Using a target size (torch.Size([4912])) that is different to the input size (torch.Size([4912, 1])). This will likely lead to incorrect results due to broadcasting. Please ensure they have the same size.\n",
            "  return F.mse_loss(input, target, reduction=self.reduction)\n"
          ]
        },
        {
          "output_type": "stream",
          "name": "stdout",
          "text": [
            "(7018, 620)\n",
            "Input shape:   (7018, 620)\n",
            "Output shape:   (7018,)\n",
            "X train shape:   torch.Size([4912, 620])\n",
            "y train shape:   torch.Size([4912])\n",
            "X test shape:    torch.Size([2106, 620])\n",
            "y test shape:   torch.Size([2106])\n"
          ]
        },
        {
          "output_type": "stream",
          "name": "stderr",
          "text": [
            "/usr/local/lib/python3.10/dist-packages/torch/nn/modules/loss.py:536: UserWarning: Using a target size (torch.Size([10])) that is different to the input size (torch.Size([10, 1])). This will likely lead to incorrect results due to broadcasting. Please ensure they have the same size.\n",
            "  return F.mse_loss(input, target, reduction=self.reduction)\n",
            "/usr/local/lib/python3.10/dist-packages/torch/nn/modules/loss.py:536: UserWarning: Using a target size (torch.Size([2])) that is different to the input size (torch.Size([2, 1])). This will likely lead to incorrect results due to broadcasting. Please ensure they have the same size.\n",
            "  return F.mse_loss(input, target, reduction=self.reduction)\n",
            "/usr/local/lib/python3.10/dist-packages/torch/nn/modules/loss.py:536: UserWarning: Using a target size (torch.Size([2106])) that is different to the input size (torch.Size([2106, 1])). This will likely lead to incorrect results due to broadcasting. Please ensure they have the same size.\n",
            "  return F.mse_loss(input, target, reduction=self.reduction)\n",
            "/usr/local/lib/python3.10/dist-packages/torch/nn/modules/loss.py:536: UserWarning: Using a target size (torch.Size([4912])) that is different to the input size (torch.Size([4912, 1])). This will likely lead to incorrect results due to broadcasting. Please ensure they have the same size.\n",
            "  return F.mse_loss(input, target, reduction=self.reduction)\n"
          ]
        },
        {
          "output_type": "stream",
          "name": "stdout",
          "text": [
            "(7018, 630)\n",
            "Input shape:   (7018, 630)\n",
            "Output shape:   (7018,)\n",
            "X train shape:   torch.Size([4912, 630])\n",
            "y train shape:   torch.Size([4912])\n",
            "X test shape:    torch.Size([2106, 630])\n",
            "y test shape:   torch.Size([2106])\n"
          ]
        },
        {
          "output_type": "stream",
          "name": "stderr",
          "text": [
            "/usr/local/lib/python3.10/dist-packages/torch/nn/modules/loss.py:536: UserWarning: Using a target size (torch.Size([10])) that is different to the input size (torch.Size([10, 1])). This will likely lead to incorrect results due to broadcasting. Please ensure they have the same size.\n",
            "  return F.mse_loss(input, target, reduction=self.reduction)\n",
            "/usr/local/lib/python3.10/dist-packages/torch/nn/modules/loss.py:536: UserWarning: Using a target size (torch.Size([2])) that is different to the input size (torch.Size([2, 1])). This will likely lead to incorrect results due to broadcasting. Please ensure they have the same size.\n",
            "  return F.mse_loss(input, target, reduction=self.reduction)\n",
            "/usr/local/lib/python3.10/dist-packages/torch/nn/modules/loss.py:536: UserWarning: Using a target size (torch.Size([2106])) that is different to the input size (torch.Size([2106, 1])). This will likely lead to incorrect results due to broadcasting. Please ensure they have the same size.\n",
            "  return F.mse_loss(input, target, reduction=self.reduction)\n",
            "/usr/local/lib/python3.10/dist-packages/torch/nn/modules/loss.py:536: UserWarning: Using a target size (torch.Size([4912])) that is different to the input size (torch.Size([4912, 1])). This will likely lead to incorrect results due to broadcasting. Please ensure they have the same size.\n",
            "  return F.mse_loss(input, target, reduction=self.reduction)\n"
          ]
        },
        {
          "output_type": "stream",
          "name": "stdout",
          "text": [
            "(7018, 640)\n",
            "Input shape:   (7018, 640)\n",
            "Output shape:   (7018,)\n",
            "X train shape:   torch.Size([4912, 640])\n",
            "y train shape:   torch.Size([4912])\n",
            "X test shape:    torch.Size([2106, 640])\n",
            "y test shape:   torch.Size([2106])\n"
          ]
        },
        {
          "output_type": "stream",
          "name": "stderr",
          "text": [
            "/usr/local/lib/python3.10/dist-packages/torch/nn/modules/loss.py:536: UserWarning: Using a target size (torch.Size([10])) that is different to the input size (torch.Size([10, 1])). This will likely lead to incorrect results due to broadcasting. Please ensure they have the same size.\n",
            "  return F.mse_loss(input, target, reduction=self.reduction)\n",
            "/usr/local/lib/python3.10/dist-packages/torch/nn/modules/loss.py:536: UserWarning: Using a target size (torch.Size([2])) that is different to the input size (torch.Size([2, 1])). This will likely lead to incorrect results due to broadcasting. Please ensure they have the same size.\n",
            "  return F.mse_loss(input, target, reduction=self.reduction)\n",
            "/usr/local/lib/python3.10/dist-packages/torch/nn/modules/loss.py:536: UserWarning: Using a target size (torch.Size([2106])) that is different to the input size (torch.Size([2106, 1])). This will likely lead to incorrect results due to broadcasting. Please ensure they have the same size.\n",
            "  return F.mse_loss(input, target, reduction=self.reduction)\n",
            "/usr/local/lib/python3.10/dist-packages/torch/nn/modules/loss.py:536: UserWarning: Using a target size (torch.Size([4912])) that is different to the input size (torch.Size([4912, 1])). This will likely lead to incorrect results due to broadcasting. Please ensure they have the same size.\n",
            "  return F.mse_loss(input, target, reduction=self.reduction)\n"
          ]
        },
        {
          "output_type": "error",
          "ename": "KeyboardInterrupt",
          "evalue": "ignored",
          "traceback": [
            "\u001b[0;31m---------------------------------------------------------------------------\u001b[0m",
            "\u001b[0;31mKeyboardInterrupt\u001b[0m                         Traceback (most recent call last)",
            "\u001b[0;32m<ipython-input-19-f50d75dbe29a>\u001b[0m in \u001b[0;36m<cell line: 15>\u001b[0;34m()\u001b[0m\n\u001b[1;32m     17\u001b[0m     \u001b[0mneural_activity\u001b[0m \u001b[0;34m=\u001b[0m \u001b[0mnp\u001b[0m\u001b[0;34m.\u001b[0m\u001b[0mtranspose\u001b[0m\u001b[0;34m(\u001b[0m\u001b[0mneural_activity\u001b[0m\u001b[0;34m)\u001b[0m\u001b[0;34m\u001b[0m\u001b[0;34m\u001b[0m\u001b[0m\n\u001b[1;32m     18\u001b[0m     \u001b[0mpca_model\u001b[0m \u001b[0;34m=\u001b[0m \u001b[0mPCA\u001b[0m\u001b[0;34m(\u001b[0m\u001b[0mn_components\u001b[0m\u001b[0;34m=\u001b[0m\u001b[0mnum_PC\u001b[0m\u001b[0;34m)\u001b[0m\u001b[0;34m\u001b[0m\u001b[0;34m\u001b[0m\u001b[0m\n\u001b[0;32m---> 19\u001b[0;31m     \u001b[0mreduced\u001b[0m \u001b[0;34m=\u001b[0m \u001b[0mpca_model\u001b[0m\u001b[0;34m.\u001b[0m\u001b[0mfit_transform\u001b[0m\u001b[0;34m(\u001b[0m\u001b[0mneural_activity\u001b[0m\u001b[0;34m)\u001b[0m\u001b[0;34m\u001b[0m\u001b[0;34m\u001b[0m\u001b[0m\n\u001b[0m\u001b[1;32m     20\u001b[0m     \u001b[0mcomponent\u001b[0m \u001b[0;34m=\u001b[0m \u001b[0mpca_model\u001b[0m\u001b[0;34m.\u001b[0m\u001b[0mcomponents_\u001b[0m\u001b[0;34m\u001b[0m\u001b[0;34m\u001b[0m\u001b[0m\n\u001b[1;32m     21\u001b[0m     \u001b[0mneural_activity\u001b[0m \u001b[0;34m=\u001b[0m \u001b[0mreduced\u001b[0m\u001b[0;34m\u001b[0m\u001b[0;34m\u001b[0m\u001b[0m\n",
            "\u001b[0;32m/usr/local/lib/python3.10/dist-packages/sklearn/utils/_set_output.py\u001b[0m in \u001b[0;36mwrapped\u001b[0;34m(self, X, *args, **kwargs)\u001b[0m\n\u001b[1;32m    138\u001b[0m     \u001b[0;34m@\u001b[0m\u001b[0mwraps\u001b[0m\u001b[0;34m(\u001b[0m\u001b[0mf\u001b[0m\u001b[0;34m)\u001b[0m\u001b[0;34m\u001b[0m\u001b[0;34m\u001b[0m\u001b[0m\n\u001b[1;32m    139\u001b[0m     \u001b[0;32mdef\u001b[0m \u001b[0mwrapped\u001b[0m\u001b[0;34m(\u001b[0m\u001b[0mself\u001b[0m\u001b[0;34m,\u001b[0m \u001b[0mX\u001b[0m\u001b[0;34m,\u001b[0m \u001b[0;34m*\u001b[0m\u001b[0margs\u001b[0m\u001b[0;34m,\u001b[0m \u001b[0;34m**\u001b[0m\u001b[0mkwargs\u001b[0m\u001b[0;34m)\u001b[0m\u001b[0;34m:\u001b[0m\u001b[0;34m\u001b[0m\u001b[0;34m\u001b[0m\u001b[0m\n\u001b[0;32m--> 140\u001b[0;31m         \u001b[0mdata_to_wrap\u001b[0m \u001b[0;34m=\u001b[0m \u001b[0mf\u001b[0m\u001b[0;34m(\u001b[0m\u001b[0mself\u001b[0m\u001b[0;34m,\u001b[0m \u001b[0mX\u001b[0m\u001b[0;34m,\u001b[0m \u001b[0;34m*\u001b[0m\u001b[0margs\u001b[0m\u001b[0;34m,\u001b[0m \u001b[0;34m**\u001b[0m\u001b[0mkwargs\u001b[0m\u001b[0;34m)\u001b[0m\u001b[0;34m\u001b[0m\u001b[0;34m\u001b[0m\u001b[0m\n\u001b[0m\u001b[1;32m    141\u001b[0m         \u001b[0;32mif\u001b[0m \u001b[0misinstance\u001b[0m\u001b[0;34m(\u001b[0m\u001b[0mdata_to_wrap\u001b[0m\u001b[0;34m,\u001b[0m \u001b[0mtuple\u001b[0m\u001b[0;34m)\u001b[0m\u001b[0;34m:\u001b[0m\u001b[0;34m\u001b[0m\u001b[0;34m\u001b[0m\u001b[0m\n\u001b[1;32m    142\u001b[0m             \u001b[0;31m# only wrap the first output for cross decomposition\u001b[0m\u001b[0;34m\u001b[0m\u001b[0;34m\u001b[0m\u001b[0m\n",
            "\u001b[0;32m/usr/local/lib/python3.10/dist-packages/sklearn/decomposition/_pca.py\u001b[0m in \u001b[0;36mfit_transform\u001b[0;34m(self, X, y)\u001b[0m\n\u001b[1;32m    460\u001b[0m         \u001b[0mself\u001b[0m\u001b[0;34m.\u001b[0m\u001b[0m_validate_params\u001b[0m\u001b[0;34m(\u001b[0m\u001b[0;34m)\u001b[0m\u001b[0;34m\u001b[0m\u001b[0;34m\u001b[0m\u001b[0m\n\u001b[1;32m    461\u001b[0m \u001b[0;34m\u001b[0m\u001b[0m\n\u001b[0;32m--> 462\u001b[0;31m         \u001b[0mU\u001b[0m\u001b[0;34m,\u001b[0m \u001b[0mS\u001b[0m\u001b[0;34m,\u001b[0m \u001b[0mVt\u001b[0m \u001b[0;34m=\u001b[0m \u001b[0mself\u001b[0m\u001b[0;34m.\u001b[0m\u001b[0m_fit\u001b[0m\u001b[0;34m(\u001b[0m\u001b[0mX\u001b[0m\u001b[0;34m)\u001b[0m\u001b[0;34m\u001b[0m\u001b[0;34m\u001b[0m\u001b[0m\n\u001b[0m\u001b[1;32m    463\u001b[0m         \u001b[0mU\u001b[0m \u001b[0;34m=\u001b[0m \u001b[0mU\u001b[0m\u001b[0;34m[\u001b[0m\u001b[0;34m:\u001b[0m\u001b[0;34m,\u001b[0m \u001b[0;34m:\u001b[0m \u001b[0mself\u001b[0m\u001b[0;34m.\u001b[0m\u001b[0mn_components_\u001b[0m\u001b[0;34m]\u001b[0m\u001b[0;34m\u001b[0m\u001b[0;34m\u001b[0m\u001b[0m\n\u001b[1;32m    464\u001b[0m \u001b[0;34m\u001b[0m\u001b[0m\n",
            "\u001b[0;32m/usr/local/lib/python3.10/dist-packages/sklearn/decomposition/_pca.py\u001b[0m in \u001b[0;36m_fit\u001b[0;34m(self, X)\u001b[0m\n\u001b[1;32m    512\u001b[0m             \u001b[0;32mreturn\u001b[0m \u001b[0mself\u001b[0m\u001b[0;34m.\u001b[0m\u001b[0m_fit_full\u001b[0m\u001b[0;34m(\u001b[0m\u001b[0mX\u001b[0m\u001b[0;34m,\u001b[0m \u001b[0mn_components\u001b[0m\u001b[0;34m)\u001b[0m\u001b[0;34m\u001b[0m\u001b[0;34m\u001b[0m\u001b[0m\n\u001b[1;32m    513\u001b[0m         \u001b[0;32melif\u001b[0m \u001b[0mself\u001b[0m\u001b[0;34m.\u001b[0m\u001b[0m_fit_svd_solver\u001b[0m \u001b[0;32min\u001b[0m \u001b[0;34m[\u001b[0m\u001b[0;34m\"arpack\"\u001b[0m\u001b[0;34m,\u001b[0m \u001b[0;34m\"randomized\"\u001b[0m\u001b[0;34m]\u001b[0m\u001b[0;34m:\u001b[0m\u001b[0;34m\u001b[0m\u001b[0;34m\u001b[0m\u001b[0m\n\u001b[0;32m--> 514\u001b[0;31m             \u001b[0;32mreturn\u001b[0m \u001b[0mself\u001b[0m\u001b[0;34m.\u001b[0m\u001b[0m_fit_truncated\u001b[0m\u001b[0;34m(\u001b[0m\u001b[0mX\u001b[0m\u001b[0;34m,\u001b[0m \u001b[0mn_components\u001b[0m\u001b[0;34m,\u001b[0m \u001b[0mself\u001b[0m\u001b[0;34m.\u001b[0m\u001b[0m_fit_svd_solver\u001b[0m\u001b[0;34m)\u001b[0m\u001b[0;34m\u001b[0m\u001b[0;34m\u001b[0m\u001b[0m\n\u001b[0m\u001b[1;32m    515\u001b[0m \u001b[0;34m\u001b[0m\u001b[0m\n\u001b[1;32m    516\u001b[0m     \u001b[0;32mdef\u001b[0m \u001b[0m_fit_full\u001b[0m\u001b[0;34m(\u001b[0m\u001b[0mself\u001b[0m\u001b[0;34m,\u001b[0m \u001b[0mX\u001b[0m\u001b[0;34m,\u001b[0m \u001b[0mn_components\u001b[0m\u001b[0;34m)\u001b[0m\u001b[0;34m:\u001b[0m\u001b[0;34m\u001b[0m\u001b[0;34m\u001b[0m\u001b[0m\n",
            "\u001b[0;32m/usr/local/lib/python3.10/dist-packages/sklearn/decomposition/_pca.py\u001b[0m in \u001b[0;36m_fit_truncated\u001b[0;34m(self, X, n_components, svd_solver)\u001b[0m\n\u001b[1;32m    616\u001b[0m         \u001b[0;32melif\u001b[0m \u001b[0msvd_solver\u001b[0m \u001b[0;34m==\u001b[0m \u001b[0;34m\"randomized\"\u001b[0m\u001b[0;34m:\u001b[0m\u001b[0;34m\u001b[0m\u001b[0;34m\u001b[0m\u001b[0m\n\u001b[1;32m    617\u001b[0m             \u001b[0;31m# sign flipping is done inside\u001b[0m\u001b[0;34m\u001b[0m\u001b[0;34m\u001b[0m\u001b[0m\n\u001b[0;32m--> 618\u001b[0;31m             U, S, Vt = randomized_svd(\n\u001b[0m\u001b[1;32m    619\u001b[0m                 \u001b[0mX\u001b[0m\u001b[0;34m,\u001b[0m\u001b[0;34m\u001b[0m\u001b[0;34m\u001b[0m\u001b[0m\n\u001b[1;32m    620\u001b[0m                 \u001b[0mn_components\u001b[0m\u001b[0;34m=\u001b[0m\u001b[0mn_components\u001b[0m\u001b[0;34m,\u001b[0m\u001b[0;34m\u001b[0m\u001b[0;34m\u001b[0m\u001b[0m\n",
            "\u001b[0;32m/usr/local/lib/python3.10/dist-packages/sklearn/utils/extmath.py\u001b[0m in \u001b[0;36mrandomized_svd\u001b[0;34m(M, n_components, n_oversamples, n_iter, power_iteration_normalizer, transpose, flip_sign, random_state, svd_lapack_driver)\u001b[0m\n\u001b[1;32m    444\u001b[0m         \u001b[0mM\u001b[0m \u001b[0;34m=\u001b[0m \u001b[0mM\u001b[0m\u001b[0;34m.\u001b[0m\u001b[0mT\u001b[0m\u001b[0;34m\u001b[0m\u001b[0;34m\u001b[0m\u001b[0m\n\u001b[1;32m    445\u001b[0m \u001b[0;34m\u001b[0m\u001b[0m\n\u001b[0;32m--> 446\u001b[0;31m     Q = randomized_range_finder(\n\u001b[0m\u001b[1;32m    447\u001b[0m         \u001b[0mM\u001b[0m\u001b[0;34m,\u001b[0m\u001b[0;34m\u001b[0m\u001b[0;34m\u001b[0m\u001b[0m\n\u001b[1;32m    448\u001b[0m         \u001b[0msize\u001b[0m\u001b[0;34m=\u001b[0m\u001b[0mn_random\u001b[0m\u001b[0;34m,\u001b[0m\u001b[0;34m\u001b[0m\u001b[0;34m\u001b[0m\u001b[0m\n",
            "\u001b[0;32m/usr/local/lib/python3.10/dist-packages/sklearn/utils/extmath.py\u001b[0m in \u001b[0;36mrandomized_range_finder\u001b[0;34m(A, size, n_iter, power_iteration_normalizer, random_state)\u001b[0m\n\u001b[1;32m    272\u001b[0m             \u001b[0mQ\u001b[0m \u001b[0;34m=\u001b[0m \u001b[0msafe_sparse_dot\u001b[0m\u001b[0;34m(\u001b[0m\u001b[0mA\u001b[0m\u001b[0;34m.\u001b[0m\u001b[0mT\u001b[0m\u001b[0;34m,\u001b[0m \u001b[0mQ\u001b[0m\u001b[0;34m)\u001b[0m\u001b[0;34m\u001b[0m\u001b[0;34m\u001b[0m\u001b[0m\n\u001b[1;32m    273\u001b[0m         \u001b[0;32melif\u001b[0m \u001b[0mpower_iteration_normalizer\u001b[0m \u001b[0;34m==\u001b[0m \u001b[0;34m\"LU\"\u001b[0m\u001b[0;34m:\u001b[0m\u001b[0;34m\u001b[0m\u001b[0;34m\u001b[0m\u001b[0m\n\u001b[0;32m--> 274\u001b[0;31m             \u001b[0mQ\u001b[0m\u001b[0;34m,\u001b[0m \u001b[0m_\u001b[0m \u001b[0;34m=\u001b[0m \u001b[0mlinalg\u001b[0m\u001b[0;34m.\u001b[0m\u001b[0mlu\u001b[0m\u001b[0;34m(\u001b[0m\u001b[0msafe_sparse_dot\u001b[0m\u001b[0;34m(\u001b[0m\u001b[0mA\u001b[0m\u001b[0;34m,\u001b[0m \u001b[0mQ\u001b[0m\u001b[0;34m)\u001b[0m\u001b[0;34m,\u001b[0m \u001b[0mpermute_l\u001b[0m\u001b[0;34m=\u001b[0m\u001b[0;32mTrue\u001b[0m\u001b[0;34m)\u001b[0m\u001b[0;34m\u001b[0m\u001b[0;34m\u001b[0m\u001b[0m\n\u001b[0m\u001b[1;32m    275\u001b[0m             \u001b[0mQ\u001b[0m\u001b[0;34m,\u001b[0m \u001b[0m_\u001b[0m \u001b[0;34m=\u001b[0m \u001b[0mlinalg\u001b[0m\u001b[0;34m.\u001b[0m\u001b[0mlu\u001b[0m\u001b[0;34m(\u001b[0m\u001b[0msafe_sparse_dot\u001b[0m\u001b[0;34m(\u001b[0m\u001b[0mA\u001b[0m\u001b[0;34m.\u001b[0m\u001b[0mT\u001b[0m\u001b[0;34m,\u001b[0m \u001b[0mQ\u001b[0m\u001b[0;34m)\u001b[0m\u001b[0;34m,\u001b[0m \u001b[0mpermute_l\u001b[0m\u001b[0;34m=\u001b[0m\u001b[0;32mTrue\u001b[0m\u001b[0;34m)\u001b[0m\u001b[0;34m\u001b[0m\u001b[0;34m\u001b[0m\u001b[0m\n\u001b[1;32m    276\u001b[0m         \u001b[0;32melif\u001b[0m \u001b[0mpower_iteration_normalizer\u001b[0m \u001b[0;34m==\u001b[0m \u001b[0;34m\"QR\"\u001b[0m\u001b[0;34m:\u001b[0m\u001b[0;34m\u001b[0m\u001b[0;34m\u001b[0m\u001b[0m\n",
            "\u001b[0;32m/usr/local/lib/python3.10/dist-packages/sklearn/utils/extmath.py\u001b[0m in \u001b[0;36msafe_sparse_dot\u001b[0;34m(a, b, dense_output)\u001b[0m\n\u001b[1;32m    190\u001b[0m \u001b[0;34m\u001b[0m\u001b[0m\n\u001b[1;32m    191\u001b[0m     if (\n\u001b[0;32m--> 192\u001b[0;31m         \u001b[0msparse\u001b[0m\u001b[0;34m.\u001b[0m\u001b[0missparse\u001b[0m\u001b[0;34m(\u001b[0m\u001b[0ma\u001b[0m\u001b[0;34m)\u001b[0m\u001b[0;34m\u001b[0m\u001b[0;34m\u001b[0m\u001b[0m\n\u001b[0m\u001b[1;32m    193\u001b[0m         \u001b[0;32mand\u001b[0m \u001b[0msparse\u001b[0m\u001b[0;34m.\u001b[0m\u001b[0missparse\u001b[0m\u001b[0;34m(\u001b[0m\u001b[0mb\u001b[0m\u001b[0;34m)\u001b[0m\u001b[0;34m\u001b[0m\u001b[0;34m\u001b[0m\u001b[0m\n\u001b[1;32m    194\u001b[0m         \u001b[0;32mand\u001b[0m \u001b[0mdense_output\u001b[0m\u001b[0;34m\u001b[0m\u001b[0;34m\u001b[0m\u001b[0m\n",
            "\u001b[0;32m/usr/local/lib/python3.10/dist-packages/scipy/sparse/_base.py\u001b[0m in \u001b[0;36misspmatrix\u001b[0;34m(x)\u001b[0m\n\u001b[1;32m   1299\u001b[0m \u001b[0;34m\u001b[0m\u001b[0m\n\u001b[1;32m   1300\u001b[0m \u001b[0;34m\u001b[0m\u001b[0m\n\u001b[0;32m-> 1301\u001b[0;31m \u001b[0;32mdef\u001b[0m \u001b[0misspmatrix\u001b[0m\u001b[0;34m(\u001b[0m\u001b[0mx\u001b[0m\u001b[0;34m)\u001b[0m\u001b[0;34m:\u001b[0m\u001b[0;34m\u001b[0m\u001b[0;34m\u001b[0m\u001b[0m\n\u001b[0m\u001b[1;32m   1302\u001b[0m     \"\"\"Is x of a sparse matrix type?\n\u001b[1;32m   1303\u001b[0m \u001b[0;34m\u001b[0m\u001b[0m\n",
            "\u001b[0;31mKeyboardInterrupt\u001b[0m: "
          ]
        }
      ]
    },
    {
      "cell_type": "code",
      "source": [
        "# @title Prining and showing the results of playing with number of PCs in PCA\n",
        "num_PC = np.arange(10, 645, step = 10)\n",
        "\n",
        "print(\"MSE_train: \")\n",
        "print(errortrain_neuron_num)\n",
        "plt.figure()\n",
        "plt.plot(num_PC, errortrain_neuron_num)\n",
        "plt.xlabel('neumber of PCs')\n",
        "plt.ylabel('MSE train ')\n",
        "\n",
        "\n",
        "print(\"MSE_test: \")\n",
        "print(errortest_neuron_num)\n",
        "plt.figure()\n",
        "plt.plot(num_PC, errortest_neuron_num)\n",
        "plt.xlabel('neumber of PCs')\n",
        "plt.ylabel('MSE test ')\n"
      ],
      "metadata": {
        "colab": {
          "base_uri": "https://localhost:8080/",
          "height": 753
        },
        "id": "PdnO-2fZsUhA",
        "outputId": "1a3640c2-2f0a-4e31-b8f0-50f4c8bd60ad"
      },
      "execution_count": 26,
      "outputs": [
        {
          "output_type": "stream",
          "name": "stdout",
          "text": [
            "MSE_train: \n",
            "[59.964820861816406, 59.33805847167969, 59.41377258300781, 59.36281204223633, 59.212608337402344, 59.17472457885742, 59.12533187866211, 59.101585388183594, 59.20427322387695, 59.221107482910156, 59.20027160644531, 59.20833206176758, 59.27971649169922, 59.23569869995117, 59.18830490112305, 59.323455810546875, 59.24090576171875, 59.3033332824707, 59.330894470214844, 59.296295166015625, 59.37575912475586, 59.28935241699219, 59.3807258605957, 59.331912994384766, 59.36261749267578, 59.309234619140625, 59.35367965698242, 59.418190002441406, 59.339881896972656, 59.3751335144043, 59.33702087402344, 59.383365631103516, 59.495147705078125, 59.43415451049805, 59.37607955932617, 59.50099563598633, 59.44686508178711, 59.48984146118164, 59.47508239746094, 59.56859588623047, 59.42239761352539, 59.52760314941406, 59.455204010009766, 59.49724197387695, 59.54380798339844, 59.54015350341797, 59.50862503051758, 59.53889083862305, 59.5020637512207, 59.60747146606445, 59.6208381652832, 59.57383728027344, 59.56822204589844, 59.52805709838867, 59.58700942993164, 59.719810485839844, 59.67863845825195, 59.63911437988281, 59.64899444580078, 59.687355041503906, 59.65745544433594, 59.75296401977539, 59.664493560791016, 59.6710319519043]\n",
            "MSE_test: \n",
            "[133.8268585205078, 132.0637664794922, 132.76158142089844, 132.0970916748047, 131.8238525390625, 131.92156982421875, 131.619140625, 131.3251495361328, 131.77125549316406, 132.11614990234375, 132.5205078125, 132.62416076660156, 132.85215759277344, 132.9569854736328, 132.827392578125, 132.7795867919922, 132.8816680908203, 133.39187622070312, 132.73355102539062, 133.4904022216797, 133.26036071777344, 133.15371704101562, 133.1502685546875, 132.83892822265625, 133.15451049804688, 133.2191619873047, 133.71435546875, 133.37709045410156, 133.13523864746094, 133.601318359375, 133.34933471679688, 133.3712615966797, 133.77200317382812, 133.71754455566406, 133.2392578125, 133.1542205810547, 133.5872039794922, 133.5646514892578, 133.4668731689453, 133.71360778808594, 133.46408081054688, 133.42178344726562, 133.57568359375, 133.82583618164062, 134.04270935058594, 134.20538330078125, 133.7222442626953, 133.7164764404297, 133.7538299560547, 133.98951721191406, 134.32891845703125, 133.9195098876953, 133.64370727539062, 133.9593505859375, 133.86244201660156, 134.0066680908203, 134.30508422851562, 134.2276611328125, 134.296875, 133.9161834716797, 134.30435180664062, 134.26284790039062, 134.1142120361328, 134.25392150878906]\n"
          ]
        },
        {
          "output_type": "execute_result",
          "data": {
            "text/plain": [
              "Text(0, 0.5, 'MSE test ')"
            ]
          },
          "metadata": {},
          "execution_count": 26
        },
        {
          "output_type": "display_data",
          "data": {
            "text/plain": [
              "<Figure size 2000x400 with 1 Axes>"
            ],
            "image/png": "[encoded data removed]"
          },
          "metadata": {}
        },
        {
          "output_type": "display_data",
          "data": {
            "text/plain": [
              "<Figure size 2000x400 with 1 Axes>"
            ],
            "image/png": "[encoded data removed]"
          },
          "metadata": {}
        }
      ]
    }
  ]
}